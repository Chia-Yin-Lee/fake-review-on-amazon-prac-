{
  "cells": [
    {
      "cell_type": "markdown",
      "metadata": {
        "id": "view-in-github",
        "colab_type": "text"
      },
      "source": [
        "<a href=\"https://colab.research.google.com/github/Chia-Yin-Lee/fake-review-on-amazon-prac-/blob/main/fakereview.ipynb\" target=\"_parent\"><img src=\"https://colab.research.google.com/assets/colab-badge.svg\" alt=\"Open In Colab\"/></a>"
      ]
    },
    {
      "cell_type": "code",
      "execution_count": null,
      "metadata": {
        "colab": {
          "base_uri": "https://localhost:8080/"
        },
        "id": "i5Cgtm4fThVj",
        "outputId": "820d7e10-0784-4a15-dfc0-abe62d8b68a8"
      },
      "outputs": [
        {
          "data": {
            "text/plain": [
              "[name: \"/device:CPU:0\"\n",
              " device_type: \"CPU\"\n",
              " memory_limit: 268435456\n",
              " locality {\n",
              " }\n",
              " incarnation: 2329925408329154270\n",
              " xla_global_id: -1,\n",
              " name: \"/device:GPU:0\"\n",
              " device_type: \"GPU\"\n",
              " memory_limit: 14328594432\n",
              " locality {\n",
              "   bus_id: 1\n",
              "   links {\n",
              "   }\n",
              " }\n",
              " incarnation: 16981547064009957363\n",
              " physical_device_desc: \"device: 0, name: Tesla T4, pci bus id: 0000:00:04.0, compute capability: 7.5\"\n",
              " xla_global_id: 416903419]"
            ]
          },
          "execution_count": 1,
          "metadata": {},
          "output_type": "execute_result"
        }
      ],
      "source": [
        "#@title show your CPU or GPU details\n",
        "from tensorflow.python.client import device_lib\n",
        "device_lib.list_local_devices()"
      ],
      "id": "i5Cgtm4fThVj"
    },
    {
      "cell_type": "code",
      "execution_count": null,
      "metadata": {
        "colab": {
          "base_uri": "https://localhost:8080/",
          "height": 35
        },
        "id": "UD9gEOTN5VHW",
        "outputId": "128fa5de-cba4-4996-ffce-e8bab955923e"
      },
      "outputs": [
        {
          "output_type": "execute_result",
          "data": {
            "text/plain": [
              "'/device:GPU:0'"
            ],
            "application/vnd.google.colaboratory.intrinsic+json": {
              "type": "string"
            }
          },
          "metadata": {},
          "execution_count": 1
        }
      ],
      "source": [
        "import tensorflow as tf\n",
        "tf.test.gpu_device_name()"
      ],
      "id": "UD9gEOTN5VHW"
    },
    {
      "cell_type": "code",
      "execution_count": null,
      "metadata": {
        "colab": {
          "base_uri": "https://localhost:8080/"
        },
        "id": "cHWVO7WATyfr",
        "outputId": "2ff78e68-e305-449f-d584-3b55da153439"
      },
      "outputs": [
        {
          "output_type": "stream",
          "name": "stdout",
          "text": [
            "Mounted at /content/drive\n",
            "/content/drive/MyDrive/SMU_MITB_AML/archive\n"
          ]
        }
      ],
      "source": [
        "#@title connect google drive folder\n",
        "\n",
        "from google.colab import drive\n",
        "drive.mount('/content/drive')\n",
        "%cd /content/drive/MyDrive/SMU_MITB_AML/archive/"
      ],
      "id": "cHWVO7WATyfr"
    },
    {
      "cell_type": "code",
      "execution_count": null,
      "metadata": {
        "cellView": "form",
        "id": "S93cibXrZf-H"
      },
      "outputs": [],
      "source": [
        "#@title device()\n",
        "import torch\n",
        "def get_default_device():\n",
        "    \"\"\"Picking GPU if available or else CPU\"\"\"\n",
        "    if torch.cuda.is_available():\n",
        "        return torch.device('cuda')\n",
        "    else:\n",
        "        return torch.device('cpu')\n",
        "device = get_default_device()\n",
        "\n",
        "def to_device(data, device):\n",
        "    \"\"\"Move tensor(s) to chosen device\"\"\"\n",
        "    if isinstance(data, (list,tuple)):\n",
        "        return [to_device(x, device) for x in data]\n",
        "    return data.to(device, non_blocking=True)"
      ],
      "id": "S93cibXrZf-H"
    },
    {
      "cell_type": "code",
      "execution_count": null,
      "metadata": {
        "colab": {
          "base_uri": "https://localhost:8080/"
        },
        "id": "1f9bd479",
        "outputId": "c62e86fc-d21d-45ca-c7e4-38818579c3cb"
      },
      "outputs": [
        {
          "output_type": "stream",
          "name": "stderr",
          "text": [
            "[nltk_data] Downloading package wordnet to /root/nltk_data...\n",
            "[nltk_data] Downloading package stopwords to /root/nltk_data...\n",
            "[nltk_data]   Unzipping corpora/stopwords.zip.\n"
          ]
        }
      ],
      "source": [
        "#@title import packages\n",
        "\n",
        "import numpy as np\n",
        "import pandas as pd\n",
        "import seaborn as sns\n",
        "import datetime\n",
        "from datetime import datetime\n",
        "from collections import defaultdict\n",
        "\n",
        "import matplotlib.pyplot as plt\n",
        "%matplotlib inline\n",
        "import warnings\n",
        "warnings.filterwarnings('ignore')\n",
        "from sklearn.decomposition import PCA\n",
        "from sklearn.feature_extraction.text import TfidfTransformer, CountVectorizer, TfidfVectorizer\n",
        "from sklearn.metrics import classification_report, confusion_matrix, accuracy_score\n",
        "from sklearn import linear_model, tree, model_selection, preprocessing\n",
        "from sklearn.model_selection import train_test_split, GridSearchCV\n",
        "import string, nltk\n",
        "from nltk import word_tokenize\n",
        "from nltk.stem import PorterStemmer\n",
        "from nltk.stem import WordNetLemmatizer\n",
        "nltk.download('wordnet')\n",
        "nltk.download('stopwords')\n",
        "from nltk.corpus import stopwords\n",
        "\n",
        "from sklearn.naive_bayes import MultinomialNB\n",
        "from sklearn.pipeline import Pipeline\n",
        "from sklearn.ensemble import RandomForestClassifier\n",
        "from sklearn.tree import DecisionTreeClassifier\n",
        "from sklearn.neighbors import KNeighborsClassifier\n",
        "from sklearn.svm import SVC\n",
        "from sklearn.linear_model import LogisticRegression"
      ],
      "id": "1f9bd479"
    },
    {
      "cell_type": "code",
      "execution_count": null,
      "metadata": {
        "colab": {
          "base_uri": "https://localhost:8080/"
        },
        "id": "bb6d09f5",
        "outputId": "a0a19668-4fa2-4cb1-8479-eca4215c2aad",
        "scrolled": true
      },
      "outputs": [
        {
          "output_type": "stream",
          "name": "stderr",
          "text": [
            "[nltk_data] Downloading package omw-1.4 to /root/nltk_data...\n"
          ]
        },
        {
          "output_type": "execute_result",
          "data": {
            "text/plain": [
              "True"
            ]
          },
          "metadata": {},
          "execution_count": 4
        }
      ],
      "source": [
        "nltk.download('omw-1.4')"
      ],
      "id": "bb6d09f5"
    },
    {
      "cell_type": "code",
      "execution_count": null,
      "metadata": {
        "id": "D79r2glRyMXJ"
      },
      "outputs": [],
      "source": [],
      "id": "D79r2glRyMXJ"
    },
    {
      "cell_type": "markdown",
      "metadata": {
        "id": "fc679d91"
      },
      "source": [
        "Data includes:\n",
        "\n",
        "- Reviews from Oct 1999 - Oct 2012\n",
        "- 568,454 reviews\n",
        "- 256,059 users\n",
        "- 74,258 products\n",
        "- 260 users with > 50 reviews\n",
        "\n",
        "\n",
        "- HelpfulnessNumerator: Number of users who found the review helpful\n",
        "- HelpfulnessDenominator: Number of users who indicated whether they found the review helpful or not\n",
        "- Time: The date the review was published on Amazon in unix time"
      ],
      "id": "fc679d91"
    },
    {
      "cell_type": "code",
      "execution_count": null,
      "metadata": {
        "colab": {
          "base_uri": "https://localhost:8080/",
          "height": 727
        },
        "id": "46355be8",
        "outputId": "6686a424-6add-4be2-a074-5b6e6dcfa070"
      },
      "outputs": [
        {
          "data": {
            "text/html": [
              "\n",
              "  <div id=\"df-a53d553a-4c3f-4973-896a-a3605b8324d8\">\n",
              "    <div class=\"colab-df-container\">\n",
              "      <div>\n",
              "<style scoped>\n",
              "    .dataframe tbody tr th:only-of-type {\n",
              "        vertical-align: middle;\n",
              "    }\n",
              "\n",
              "    .dataframe tbody tr th {\n",
              "        vertical-align: top;\n",
              "    }\n",
              "\n",
              "    .dataframe thead th {\n",
              "        text-align: right;\n",
              "    }\n",
              "</style>\n",
              "<table border=\"1\" class=\"dataframe\">\n",
              "  <thead>\n",
              "    <tr style=\"text-align: right;\">\n",
              "      <th></th>\n",
              "      <th>Id</th>\n",
              "      <th>ProductId</th>\n",
              "      <th>UserId</th>\n",
              "      <th>ProfileName</th>\n",
              "      <th>HelpfulnessNumerator</th>\n",
              "      <th>HelpfulnessDenominator</th>\n",
              "      <th>Score</th>\n",
              "      <th>Time</th>\n",
              "      <th>Summary</th>\n",
              "      <th>Text</th>\n",
              "    </tr>\n",
              "  </thead>\n",
              "  <tbody>\n",
              "    <tr>\n",
              "      <th>0</th>\n",
              "      <td>1</td>\n",
              "      <td>B001E4KFG0</td>\n",
              "      <td>A3SGXH7AUHU8GW</td>\n",
              "      <td>delmartian</td>\n",
              "      <td>1</td>\n",
              "      <td>1</td>\n",
              "      <td>5</td>\n",
              "      <td>1303862400</td>\n",
              "      <td>Good Quality Dog Food</td>\n",
              "      <td>I have bought several of the Vitality canned d...</td>\n",
              "    </tr>\n",
              "    <tr>\n",
              "      <th>1</th>\n",
              "      <td>2</td>\n",
              "      <td>B00813GRG4</td>\n",
              "      <td>A1D87F6ZCVE5NK</td>\n",
              "      <td>dll pa</td>\n",
              "      <td>0</td>\n",
              "      <td>0</td>\n",
              "      <td>1</td>\n",
              "      <td>1346976000</td>\n",
              "      <td>Not as Advertised</td>\n",
              "      <td>Product arrived labeled as Jumbo Salted Peanut...</td>\n",
              "    </tr>\n",
              "    <tr>\n",
              "      <th>2</th>\n",
              "      <td>3</td>\n",
              "      <td>B000LQOCH0</td>\n",
              "      <td>ABXLMWJIXXAIN</td>\n",
              "      <td>Natalia Corres \"Natalia Corres\"</td>\n",
              "      <td>1</td>\n",
              "      <td>1</td>\n",
              "      <td>4</td>\n",
              "      <td>1219017600</td>\n",
              "      <td>\"Delight\" says it all</td>\n",
              "      <td>This is a confection that has been around a fe...</td>\n",
              "    </tr>\n",
              "    <tr>\n",
              "      <th>3</th>\n",
              "      <td>4</td>\n",
              "      <td>B000UA0QIQ</td>\n",
              "      <td>A395BORC6FGVXV</td>\n",
              "      <td>Karl</td>\n",
              "      <td>3</td>\n",
              "      <td>3</td>\n",
              "      <td>2</td>\n",
              "      <td>1307923200</td>\n",
              "      <td>Cough Medicine</td>\n",
              "      <td>If you are looking for the secret ingredient i...</td>\n",
              "    </tr>\n",
              "    <tr>\n",
              "      <th>4</th>\n",
              "      <td>5</td>\n",
              "      <td>B006K2ZZ7K</td>\n",
              "      <td>A1UQRSCLF8GW1T</td>\n",
              "      <td>Michael D. Bigham \"M. Wassir\"</td>\n",
              "      <td>0</td>\n",
              "      <td>0</td>\n",
              "      <td>5</td>\n",
              "      <td>1350777600</td>\n",
              "      <td>Great taffy</td>\n",
              "      <td>Great taffy at a great price.  There was a wid...</td>\n",
              "    </tr>\n",
              "  </tbody>\n",
              "</table>\n",
              "</div>\n",
              "      <button class=\"colab-df-convert\" onclick=\"convertToInteractive('df-a53d553a-4c3f-4973-896a-a3605b8324d8')\"\n",
              "              title=\"Convert this dataframe to an interactive table.\"\n",
              "              style=\"display:none;\">\n",
              "        \n",
              "  <svg xmlns=\"http://www.w3.org/2000/svg\" height=\"24px\"viewBox=\"0 0 24 24\"\n",
              "       width=\"24px\">\n",
              "    <path d=\"M0 0h24v24H0V0z\" fill=\"none\"/>\n",
              "    <path d=\"M18.56 5.44l.94 2.06.94-2.06 2.06-.94-2.06-.94-.94-2.06-.94 2.06-2.06.94zm-11 1L8.5 8.5l.94-2.06 2.06-.94-2.06-.94L8.5 2.5l-.94 2.06-2.06.94zm10 10l.94 2.06.94-2.06 2.06-.94-2.06-.94-.94-2.06-.94 2.06-2.06.94z\"/><path d=\"M17.41 7.96l-1.37-1.37c-.4-.4-.92-.59-1.43-.59-.52 0-1.04.2-1.43.59L10.3 9.45l-7.72 7.72c-.78.78-.78 2.05 0 2.83L4 21.41c.39.39.9.59 1.41.59.51 0 1.02-.2 1.41-.59l7.78-7.78 2.81-2.81c.8-.78.8-2.07 0-2.86zM5.41 20L4 18.59l7.72-7.72 1.47 1.35L5.41 20z\"/>\n",
              "  </svg>\n",
              "      </button>\n",
              "      \n",
              "  <style>\n",
              "    .colab-df-container {\n",
              "      display:flex;\n",
              "      flex-wrap:wrap;\n",
              "      gap: 12px;\n",
              "    }\n",
              "\n",
              "    .colab-df-convert {\n",
              "      background-color: #E8F0FE;\n",
              "      border: none;\n",
              "      border-radius: 50%;\n",
              "      cursor: pointer;\n",
              "      display: none;\n",
              "      fill: #1967D2;\n",
              "      height: 32px;\n",
              "      padding: 0 0 0 0;\n",
              "      width: 32px;\n",
              "    }\n",
              "\n",
              "    .colab-df-convert:hover {\n",
              "      background-color: #E2EBFA;\n",
              "      box-shadow: 0px 1px 2px rgba(60, 64, 67, 0.3), 0px 1px 3px 1px rgba(60, 64, 67, 0.15);\n",
              "      fill: #174EA6;\n",
              "    }\n",
              "\n",
              "    [theme=dark] .colab-df-convert {\n",
              "      background-color: #3B4455;\n",
              "      fill: #D2E3FC;\n",
              "    }\n",
              "\n",
              "    [theme=dark] .colab-df-convert:hover {\n",
              "      background-color: #434B5C;\n",
              "      box-shadow: 0px 1px 3px 1px rgba(0, 0, 0, 0.15);\n",
              "      filter: drop-shadow(0px 1px 2px rgba(0, 0, 0, 0.3));\n",
              "      fill: #FFFFFF;\n",
              "    }\n",
              "  </style>\n",
              "\n",
              "      <script>\n",
              "        const buttonEl =\n",
              "          document.querySelector('#df-a53d553a-4c3f-4973-896a-a3605b8324d8 button.colab-df-convert');\n",
              "        buttonEl.style.display =\n",
              "          google.colab.kernel.accessAllowed ? 'block' : 'none';\n",
              "\n",
              "        async function convertToInteractive(key) {\n",
              "          const element = document.querySelector('#df-a53d553a-4c3f-4973-896a-a3605b8324d8');\n",
              "          const dataTable =\n",
              "            await google.colab.kernel.invokeFunction('convertToInteractive',\n",
              "                                                     [key], {});\n",
              "          if (!dataTable) return;\n",
              "\n",
              "          const docLinkHtml = 'Like what you see? Visit the ' +\n",
              "            '<a target=\"_blank\" href=https://colab.research.google.com/notebooks/data_table.ipynb>data table notebook</a>'\n",
              "            + ' to learn more about interactive tables.';\n",
              "          element.innerHTML = '';\n",
              "          dataTable['output_type'] = 'display_data';\n",
              "          await google.colab.output.renderOutput(dataTable, element);\n",
              "          const docLink = document.createElement('div');\n",
              "          docLink.innerHTML = docLinkHtml;\n",
              "          element.appendChild(docLink);\n",
              "        }\n",
              "      </script>\n",
              "    </div>\n",
              "  </div>\n",
              "  "
            ],
            "text/plain": [
              "   Id   ProductId          UserId                      ProfileName  \\\n",
              "0   1  B001E4KFG0  A3SGXH7AUHU8GW                       delmartian   \n",
              "1   2  B00813GRG4  A1D87F6ZCVE5NK                           dll pa   \n",
              "2   3  B000LQOCH0   ABXLMWJIXXAIN  Natalia Corres \"Natalia Corres\"   \n",
              "3   4  B000UA0QIQ  A395BORC6FGVXV                             Karl   \n",
              "4   5  B006K2ZZ7K  A1UQRSCLF8GW1T    Michael D. Bigham \"M. Wassir\"   \n",
              "\n",
              "   HelpfulnessNumerator  HelpfulnessDenominator  Score        Time  \\\n",
              "0                     1                       1      5  1303862400   \n",
              "1                     0                       0      1  1346976000   \n",
              "2                     1                       1      4  1219017600   \n",
              "3                     3                       3      2  1307923200   \n",
              "4                     0                       0      5  1350777600   \n",
              "\n",
              "                 Summary                                               Text  \n",
              "0  Good Quality Dog Food  I have bought several of the Vitality canned d...  \n",
              "1      Not as Advertised  Product arrived labeled as Jumbo Salted Peanut...  \n",
              "2  \"Delight\" says it all  This is a confection that has been around a fe...  \n",
              "3         Cough Medicine  If you are looking for the secret ingredient i...  \n",
              "4            Great taffy  Great taffy at a great price.  There was a wid...  "
            ]
          },
          "execution_count": 4,
          "metadata": {},
          "output_type": "execute_result"
        }
      ],
      "source": [
        "df = pd.read_csv('Reviews.csv')\n",
        "df.head()"
      ],
      "id": "46355be8"
    },
    {
      "cell_type": "code",
      "execution_count": null,
      "metadata": {
        "id": "e5e8de88",
        "outputId": "7d6984f6-5a85-4e68-b874-dd06e54cdd24"
      },
      "outputs": [
        {
          "data": {
            "text/plain": [
              "Id                         0\n",
              "ProductId                  0\n",
              "UserId                     0\n",
              "ProfileName               16\n",
              "HelpfulnessNumerator       0\n",
              "HelpfulnessDenominator     0\n",
              "Score                      0\n",
              "Time                       0\n",
              "Summary                   27\n",
              "Text                       0\n",
              "dtype: int64"
            ]
          },
          "execution_count": 44,
          "metadata": {},
          "output_type": "execute_result"
        }
      ],
      "source": [
        "df.isnull().sum()"
      ],
      "id": "e5e8de88"
    },
    {
      "cell_type": "code",
      "execution_count": null,
      "metadata": {
        "id": "e116ee90",
        "outputId": "e1949bd8-915c-4882-8b00-329d7661f545"
      },
      "outputs": [
        {
          "name": "stdout",
          "output_type": "stream",
          "text": [
            "<class 'pandas.core.frame.DataFrame'>\n",
            "RangeIndex: 568454 entries, 0 to 568453\n",
            "Data columns (total 10 columns):\n",
            " #   Column                  Non-Null Count   Dtype \n",
            "---  ------                  --------------   ----- \n",
            " 0   Id                      568454 non-null  int64 \n",
            " 1   ProductId               568454 non-null  object\n",
            " 2   UserId                  568454 non-null  object\n",
            " 3   ProfileName             568438 non-null  object\n",
            " 4   HelpfulnessNumerator    568454 non-null  int64 \n",
            " 5   HelpfulnessDenominator  568454 non-null  int64 \n",
            " 6   Score                   568454 non-null  int64 \n",
            " 7   Time                    568454 non-null  int64 \n",
            " 8   Summary                 568427 non-null  object\n",
            " 9   Text                    568454 non-null  object\n",
            "dtypes: int64(5), object(5)\n",
            "memory usage: 43.4+ MB\n"
          ]
        }
      ],
      "source": [
        "df.info()"
      ],
      "id": "e116ee90"
    },
    {
      "cell_type": "code",
      "execution_count": null,
      "metadata": {
        "id": "09e905c1",
        "outputId": "36eead45-6c67-4c2f-93d7-84221178f366"
      },
      "outputs": [
        {
          "data": {
            "text/plain": [
              "5    363122\n",
              "4     80655\n",
              "1     52268\n",
              "3     42640\n",
              "2     29769\n",
              "Name: Score, dtype: int64"
            ]
          },
          "execution_count": 46,
          "metadata": {},
          "output_type": "execute_result"
        }
      ],
      "source": [
        "df['Score'].value_counts()"
      ],
      "id": "09e905c1"
    },
    {
      "cell_type": "code",
      "execution_count": null,
      "metadata": {
        "id": "52386621"
      },
      "outputs": [],
      "source": [
        "def cleanDF(df):\n",
        "    '''\n",
        "    Pass in a dataframe that contains an amazon review dataset to be cleaned.\n",
        "    Returns cleaned dataframe.\n",
        "    '''\n",
        "    # convert unix time to timestamp\n",
        "    modified_df = df.copy()\n",
        "    new_time = []\n",
        "    for t in modified_df['Time']:\n",
        "        new_time.append(datetime.fromtimestamp(t))\n",
        "    modified_df['Time'] = new_time\n",
        "\n",
        "    # fill empty summaries with review text\n",
        "    modified_df['Summary'].fillna(modified_df['Text'], inplace = True)\n",
        "\n",
        "    # fill empty names with 'Amazon Customer'\n",
        "    modified_df['ProfileName'].fillna('Amazon Customer', inplace = True)\n",
        "\n",
        "    # remove rows with NaN\n",
        "    modified_df = modified_df.dropna(axis = 0)\n",
        "\n",
        "    # sort by time\n",
        "    modified_df.sort_values(by = 'Time', inplace = True)\n",
        "\n",
        "    # reset index\n",
        "    modified_df = modified_df.reset_index().drop('index', axis = 1)\n",
        "\n",
        "    return modified_df"
      ],
      "id": "52386621"
    },
    {
      "cell_type": "code",
      "execution_count": null,
      "metadata": {
        "colab": {
          "base_uri": "https://localhost:8080/",
          "height": 574
        },
        "id": "56429c0a",
        "outputId": "a8a00e48-67bc-4180-fadd-784872d26e42"
      },
      "outputs": [
        {
          "data": {
            "text/html": [
              "\n",
              "  <div id=\"df-cd781d3b-0611-4a01-9125-01bd50e8a8f6\">\n",
              "    <div class=\"colab-df-container\">\n",
              "      <div>\n",
              "<style scoped>\n",
              "    .dataframe tbody tr th:only-of-type {\n",
              "        vertical-align: middle;\n",
              "    }\n",
              "\n",
              "    .dataframe tbody tr th {\n",
              "        vertical-align: top;\n",
              "    }\n",
              "\n",
              "    .dataframe thead th {\n",
              "        text-align: right;\n",
              "    }\n",
              "</style>\n",
              "<table border=\"1\" class=\"dataframe\">\n",
              "  <thead>\n",
              "    <tr style=\"text-align: right;\">\n",
              "      <th></th>\n",
              "      <th>Id</th>\n",
              "      <th>ProductId</th>\n",
              "      <th>UserId</th>\n",
              "      <th>ProfileName</th>\n",
              "      <th>HelpfulnessNumerator</th>\n",
              "      <th>HelpfulnessDenominator</th>\n",
              "      <th>Score</th>\n",
              "      <th>Time</th>\n",
              "      <th>Summary</th>\n",
              "      <th>Text</th>\n",
              "    </tr>\n",
              "  </thead>\n",
              "  <tbody>\n",
              "    <tr>\n",
              "      <th>0</th>\n",
              "      <td>150524</td>\n",
              "      <td>0006641040</td>\n",
              "      <td>ACITT7DI6IDDL</td>\n",
              "      <td>shari zychinski</td>\n",
              "      <td>0</td>\n",
              "      <td>0</td>\n",
              "      <td>5</td>\n",
              "      <td>1999-10-08</td>\n",
              "      <td>EVERY book is educational</td>\n",
              "      <td>this witty little book makes my son laugh at l...</td>\n",
              "    </tr>\n",
              "    <tr>\n",
              "      <th>1</th>\n",
              "      <td>150501</td>\n",
              "      <td>0006641040</td>\n",
              "      <td>AJ46FKXOVC7NR</td>\n",
              "      <td>Nicholas A Mesiano</td>\n",
              "      <td>2</td>\n",
              "      <td>2</td>\n",
              "      <td>5</td>\n",
              "      <td>1999-10-25</td>\n",
              "      <td>This whole series is great way to spend time w...</td>\n",
              "      <td>I can remember seeing the show when it aired o...</td>\n",
              "    </tr>\n",
              "    <tr>\n",
              "      <th>2</th>\n",
              "      <td>451856</td>\n",
              "      <td>B00004CXX9</td>\n",
              "      <td>AIUWLEQ1ADEG5</td>\n",
              "      <td>Elizabeth Medina</td>\n",
              "      <td>0</td>\n",
              "      <td>0</td>\n",
              "      <td>5</td>\n",
              "      <td>1999-12-02</td>\n",
              "      <td>Entertainingl Funny!</td>\n",
              "      <td>Beetlejuice is a well written movie ..... ever...</td>\n",
              "    </tr>\n",
              "    <tr>\n",
              "      <th>3</th>\n",
              "      <td>230285</td>\n",
              "      <td>B00004RYGX</td>\n",
              "      <td>A344SMIA5JECGM</td>\n",
              "      <td>Vincent P. Ross</td>\n",
              "      <td>1</td>\n",
              "      <td>2</td>\n",
              "      <td>5</td>\n",
              "      <td>1999-12-06</td>\n",
              "      <td>A modern day fairy tale</td>\n",
              "      <td>A twist of rumplestiskin captured on film, sta...</td>\n",
              "    </tr>\n",
              "    <tr>\n",
              "      <th>4</th>\n",
              "      <td>451878</td>\n",
              "      <td>B00004CXX9</td>\n",
              "      <td>A344SMIA5JECGM</td>\n",
              "      <td>Vincent P. Ross</td>\n",
              "      <td>1</td>\n",
              "      <td>2</td>\n",
              "      <td>5</td>\n",
              "      <td>1999-12-06</td>\n",
              "      <td>A modern day fairy tale</td>\n",
              "      <td>A twist of rumplestiskin captured on film, sta...</td>\n",
              "    </tr>\n",
              "  </tbody>\n",
              "</table>\n",
              "</div>\n",
              "      <button class=\"colab-df-convert\" onclick=\"convertToInteractive('df-cd781d3b-0611-4a01-9125-01bd50e8a8f6')\"\n",
              "              title=\"Convert this dataframe to an interactive table.\"\n",
              "              style=\"display:none;\">\n",
              "        \n",
              "  <svg xmlns=\"http://www.w3.org/2000/svg\" height=\"24px\"viewBox=\"0 0 24 24\"\n",
              "       width=\"24px\">\n",
              "    <path d=\"M0 0h24v24H0V0z\" fill=\"none\"/>\n",
              "    <path d=\"M18.56 5.44l.94 2.06.94-2.06 2.06-.94-2.06-.94-.94-2.06-.94 2.06-2.06.94zm-11 1L8.5 8.5l.94-2.06 2.06-.94-2.06-.94L8.5 2.5l-.94 2.06-2.06.94zm10 10l.94 2.06.94-2.06 2.06-.94-2.06-.94-.94-2.06-.94 2.06-2.06.94z\"/><path d=\"M17.41 7.96l-1.37-1.37c-.4-.4-.92-.59-1.43-.59-.52 0-1.04.2-1.43.59L10.3 9.45l-7.72 7.72c-.78.78-.78 2.05 0 2.83L4 21.41c.39.39.9.59 1.41.59.51 0 1.02-.2 1.41-.59l7.78-7.78 2.81-2.81c.8-.78.8-2.07 0-2.86zM5.41 20L4 18.59l7.72-7.72 1.47 1.35L5.41 20z\"/>\n",
              "  </svg>\n",
              "      </button>\n",
              "      \n",
              "  <style>\n",
              "    .colab-df-container {\n",
              "      display:flex;\n",
              "      flex-wrap:wrap;\n",
              "      gap: 12px;\n",
              "    }\n",
              "\n",
              "    .colab-df-convert {\n",
              "      background-color: #E8F0FE;\n",
              "      border: none;\n",
              "      border-radius: 50%;\n",
              "      cursor: pointer;\n",
              "      display: none;\n",
              "      fill: #1967D2;\n",
              "      height: 32px;\n",
              "      padding: 0 0 0 0;\n",
              "      width: 32px;\n",
              "    }\n",
              "\n",
              "    .colab-df-convert:hover {\n",
              "      background-color: #E2EBFA;\n",
              "      box-shadow: 0px 1px 2px rgba(60, 64, 67, 0.3), 0px 1px 3px 1px rgba(60, 64, 67, 0.15);\n",
              "      fill: #174EA6;\n",
              "    }\n",
              "\n",
              "    [theme=dark] .colab-df-convert {\n",
              "      background-color: #3B4455;\n",
              "      fill: #D2E3FC;\n",
              "    }\n",
              "\n",
              "    [theme=dark] .colab-df-convert:hover {\n",
              "      background-color: #434B5C;\n",
              "      box-shadow: 0px 1px 3px 1px rgba(0, 0, 0, 0.15);\n",
              "      filter: drop-shadow(0px 1px 2px rgba(0, 0, 0, 0.3));\n",
              "      fill: #FFFFFF;\n",
              "    }\n",
              "  </style>\n",
              "\n",
              "      <script>\n",
              "        const buttonEl =\n",
              "          document.querySelector('#df-cd781d3b-0611-4a01-9125-01bd50e8a8f6 button.colab-df-convert');\n",
              "        buttonEl.style.display =\n",
              "          google.colab.kernel.accessAllowed ? 'block' : 'none';\n",
              "\n",
              "        async function convertToInteractive(key) {\n",
              "          const element = document.querySelector('#df-cd781d3b-0611-4a01-9125-01bd50e8a8f6');\n",
              "          const dataTable =\n",
              "            await google.colab.kernel.invokeFunction('convertToInteractive',\n",
              "                                                     [key], {});\n",
              "          if (!dataTable) return;\n",
              "\n",
              "          const docLinkHtml = 'Like what you see? Visit the ' +\n",
              "            '<a target=\"_blank\" href=https://colab.research.google.com/notebooks/data_table.ipynb>data table notebook</a>'\n",
              "            + ' to learn more about interactive tables.';\n",
              "          element.innerHTML = '';\n",
              "          dataTable['output_type'] = 'display_data';\n",
              "          await google.colab.output.renderOutput(dataTable, element);\n",
              "          const docLink = document.createElement('div');\n",
              "          docLink.innerHTML = docLinkHtml;\n",
              "          element.appendChild(docLink);\n",
              "        }\n",
              "      </script>\n",
              "    </div>\n",
              "  </div>\n",
              "  "
            ],
            "text/plain": [
              "       Id   ProductId          UserId         ProfileName  \\\n",
              "0  150524  0006641040   ACITT7DI6IDDL     shari zychinski   \n",
              "1  150501  0006641040   AJ46FKXOVC7NR  Nicholas A Mesiano   \n",
              "2  451856  B00004CXX9   AIUWLEQ1ADEG5    Elizabeth Medina   \n",
              "3  230285  B00004RYGX  A344SMIA5JECGM     Vincent P. Ross   \n",
              "4  451878  B00004CXX9  A344SMIA5JECGM     Vincent P. Ross   \n",
              "\n",
              "   HelpfulnessNumerator  HelpfulnessDenominator  Score       Time  \\\n",
              "0                     0                       0      5 1999-10-08   \n",
              "1                     2                       2      5 1999-10-25   \n",
              "2                     0                       0      5 1999-12-02   \n",
              "3                     1                       2      5 1999-12-06   \n",
              "4                     1                       2      5 1999-12-06   \n",
              "\n",
              "                                             Summary  \\\n",
              "0                          EVERY book is educational   \n",
              "1  This whole series is great way to spend time w...   \n",
              "2                               Entertainingl Funny!   \n",
              "3                            A modern day fairy tale   \n",
              "4                            A modern day fairy tale   \n",
              "\n",
              "                                                Text  \n",
              "0  this witty little book makes my son laugh at l...  \n",
              "1  I can remember seeing the show when it aired o...  \n",
              "2  Beetlejuice is a well written movie ..... ever...  \n",
              "3  A twist of rumplestiskin captured on film, sta...  \n",
              "4  A twist of rumplestiskin captured on film, sta...  "
            ]
          },
          "execution_count": 6,
          "metadata": {},
          "output_type": "execute_result"
        }
      ],
      "source": [
        "# cleaning df and saving it to new dataframe called clean_df\n",
        "clean_df = cleanDF(df)\n",
        "clean_df.head()"
      ],
      "id": "56429c0a"
    },
    {
      "cell_type": "code",
      "execution_count": null,
      "metadata": {
        "id": "057e634e",
        "outputId": "4f5a7e87-dc0c-451f-c2cd-b0b0db0d02d0"
      },
      "outputs": [
        {
          "data": {
            "text/plain": [
              "Id                        0\n",
              "ProductId                 0\n",
              "UserId                    0\n",
              "ProfileName               0\n",
              "HelpfulnessNumerator      0\n",
              "HelpfulnessDenominator    0\n",
              "Score                     0\n",
              "Time                      0\n",
              "Summary                   0\n",
              "Text                      0\n",
              "dtype: int64"
            ]
          },
          "execution_count": 62,
          "metadata": {},
          "output_type": "execute_result"
        }
      ],
      "source": [
        "clean_df.isnull().sum()"
      ],
      "id": "057e634e"
    },
    {
      "cell_type": "code",
      "execution_count": null,
      "metadata": {
        "id": "1683b290",
        "outputId": "6fe00782-4b17-4094-a371-c0f03575db85"
      },
      "outputs": [
        {
          "data": {
            "text/plain": [
              "0"
            ]
          },
          "execution_count": 63,
          "metadata": {},
          "output_type": "execute_result"
        }
      ],
      "source": [
        "# check if there are any duplicate rows\n",
        "\n",
        "clean_df.duplicated().sum()"
      ],
      "id": "1683b290"
    },
    {
      "cell_type": "code",
      "execution_count": null,
      "metadata": {
        "id": "a9c28d6f",
        "outputId": "0d770189-06a3-4d9c-dba3-f9b2387010ea"
      },
      "outputs": [
        {
          "data": {
            "text/plain": [
              "C. F. Hill \"CFH\"                          451\n",
              "O. Brown \"Ms. O. Khannah-Brown\"           421\n",
              "Gary Peterson                             389\n",
              "Rebecca of Amazon \"The Rebecca Review\"    365\n",
              "Chris                                     363\n",
              "                                         ... \n",
              "AcuTrainer                                  1\n",
              "Freida Pryor                                1\n",
              "Amy J. Yetter \"amelia1901\"                  1\n",
              "Zandra                                      1\n",
              "TechLover70                                 1\n",
              "Name: ProfileName, Length: 218416, dtype: int64"
            ]
          },
          "execution_count": 64,
          "metadata": {},
          "output_type": "execute_result"
        }
      ],
      "source": [
        "clean_df['ProfileName'].value_counts()"
      ],
      "id": "a9c28d6f"
    },
    {
      "cell_type": "code",
      "execution_count": null,
      "metadata": {
        "id": "b568e378",
        "outputId": "c31c92a2-ea7a-41ce-cca8-cbc0b15b15e9"
      },
      "outputs": [
        {
          "data": {
            "text/plain": [
              "A3OXHLG6DIBRW8    448\n",
              "A1YUL9PCJR3JTY    421\n",
              "AY12DBB0U420B     389\n",
              "A281NPSIMI1C2R    365\n",
              "A1Z54EM24Y40LL    256\n",
              "                 ... \n",
              "AIMNG8MKGYT84       1\n",
              "A34F7SYYEVJV84      1\n",
              "A1X1XY3N5W704K      1\n",
              "A2S1QJMVXU8H5T      1\n",
              "A1GENHMJBIS42V      1\n",
              "Name: UserId, Length: 256059, dtype: int64"
            ]
          },
          "execution_count": 65,
          "metadata": {},
          "output_type": "execute_result"
        }
      ],
      "source": [
        "clean_df['UserId'].value_counts()"
      ],
      "id": "b568e378"
    },
    {
      "cell_type": "code",
      "execution_count": null,
      "metadata": {
        "id": "660072f4",
        "outputId": "3d408c98-dde5-4e73-ec2c-694a883217ef"
      },
      "outputs": [
        {
          "data": {
            "text/plain": [
              "AGT3BYX5P9SLH     5\n",
              "A2L86I1MFLXR93    3\n",
              "A36BVYD0NT7Z0F    3\n",
              "A6Y2WVJNHZBSJ     2\n",
              "A2HSENLLAQXCTH    2\n",
              "A29D7XVSBCLFLD    2\n",
              "A1MV7H2G87CM2R    1\n",
              "A2H7605OSHVIQ5    1\n",
              "A1O83SA3VV31ZS    1\n",
              "A2MUTSVQ6IC4ZX    1\n",
              "A3775ONM8HGEQ3    1\n",
              "A2TCBGD1CF35JF    1\n",
              "A1P500QXEG3IUZ    1\n",
              "A2P0P67Y55SNOX    1\n",
              "A9FOFDH40Y6HD     1\n",
              "A2LZDBA902001G    1\n",
              "A3F0ESIF6YWCKB    1\n",
              "A2A5TD0UI6MO      1\n",
              "AC9U70TRGPDGJ     1\n",
              "A2LYFY32LXQDON    1\n",
              "AC0E8TXIYABB5     1\n",
              "Name: UserId, dtype: int64"
            ]
          },
          "execution_count": 66,
          "metadata": {},
          "output_type": "execute_result"
        }
      ],
      "source": [
        "clean_df[clean_df['ProfileName'] == 'Amazon Customer']['UserId'].value_counts()"
      ],
      "id": "660072f4"
    },
    {
      "cell_type": "markdown",
      "metadata": {
        "id": "45a8d5da"
      },
      "source": [
        "- Better to use UserId rather than ProfileName to identify each reviwer.\n",
        "- Amazon Customer can include different people who did not give their profile name when commenting."
      ],
      "id": "45a8d5da"
    },
    {
      "cell_type": "code",
      "execution_count": null,
      "metadata": {
        "id": "10659734"
      },
      "outputs": [],
      "source": [
        "# list out reviewers giving different profile names when commenting\n",
        "\n",
        "userid_marked = []\n",
        "\n",
        "d = defaultdict(list)\n",
        "for i in clean_df.index:\n",
        "    d[clean_df['UserId'][i]].append(clean_df['ProfileName'][i])\n",
        "for key, value in d.items():\n",
        "    if len(value) > 1:\n",
        "        userid_marked.append(key)\n",
        "\n",
        "inconsistent_name = []\n",
        "for i in clean_df.index:\n",
        "    if clean_df['UserId'][i] in userid_marked: inconsistent_name.append(1)\n",
        "    else: inconsistent_name.append(0)\n",
        "\n",
        "clean_df['inconsistent_name'] = inconsistent_name"
      ],
      "id": "10659734"
    },
    {
      "cell_type": "code",
      "execution_count": null,
      "metadata": {
        "colab": {
          "base_uri": "https://localhost:8080/",
          "height": 419
        },
        "id": "c60cbe1f",
        "outputId": "0056b28d-8f99-4283-cc95-1d8d3fbd0910"
      },
      "outputs": [
        {
          "data": {
            "text/html": [
              "\n",
              "  <div id=\"df-3247e947-7b16-4091-873e-443af43266e3\">\n",
              "    <div class=\"colab-df-container\">\n",
              "      <div>\n",
              "<style scoped>\n",
              "    .dataframe tbody tr th:only-of-type {\n",
              "        vertical-align: middle;\n",
              "    }\n",
              "\n",
              "    .dataframe tbody tr th {\n",
              "        vertical-align: top;\n",
              "    }\n",
              "\n",
              "    .dataframe thead th {\n",
              "        text-align: right;\n",
              "    }\n",
              "</style>\n",
              "<table border=\"1\" class=\"dataframe\">\n",
              "  <thead>\n",
              "    <tr style=\"text-align: right;\">\n",
              "      <th></th>\n",
              "      <th>ProductId</th>\n",
              "      <th>UserId</th>\n",
              "      <th>count</th>\n",
              "    </tr>\n",
              "  </thead>\n",
              "  <tbody>\n",
              "    <tr>\n",
              "      <th>177</th>\n",
              "      <td>7310172001</td>\n",
              "      <td>AE9ZBY7WW3LIQ</td>\n",
              "      <td>2</td>\n",
              "    </tr>\n",
              "    <tr>\n",
              "      <th>188</th>\n",
              "      <td>7310172001</td>\n",
              "      <td>AJD41FBJD9010</td>\n",
              "      <td>6</td>\n",
              "    </tr>\n",
              "    <tr>\n",
              "      <th>344</th>\n",
              "      <td>7310172101</td>\n",
              "      <td>AE9ZBY7WW3LIQ</td>\n",
              "      <td>2</td>\n",
              "    </tr>\n",
              "    <tr>\n",
              "      <th>355</th>\n",
              "      <td>7310172101</td>\n",
              "      <td>AJD41FBJD9010</td>\n",
              "      <td>6</td>\n",
              "    </tr>\n",
              "    <tr>\n",
              "      <th>447</th>\n",
              "      <td>B00004CI84</td>\n",
              "      <td>A1K94LXX833JTT</td>\n",
              "      <td>3</td>\n",
              "    </tr>\n",
              "    <tr>\n",
              "      <th>...</th>\n",
              "      <td>...</td>\n",
              "      <td>...</td>\n",
              "      <td>...</td>\n",
              "    </tr>\n",
              "    <tr>\n",
              "      <th>560552</th>\n",
              "      <td>B009RB4GO4</td>\n",
              "      <td>A1N06XIVTDQMP</td>\n",
              "      <td>2</td>\n",
              "    </tr>\n",
              "    <tr>\n",
              "      <th>560581</th>\n",
              "      <td>B009RB4GO4</td>\n",
              "      <td>A21GDMT9JN2A5Y</td>\n",
              "      <td>2</td>\n",
              "    </tr>\n",
              "    <tr>\n",
              "      <th>560652</th>\n",
              "      <td>B009RB4GO4</td>\n",
              "      <td>A353Y7VBQHHW0T</td>\n",
              "      <td>2</td>\n",
              "    </tr>\n",
              "    <tr>\n",
              "      <th>560689</th>\n",
              "      <td>B009RB4GO4</td>\n",
              "      <td>A3QVP3B2VVJ9T0</td>\n",
              "      <td>2</td>\n",
              "    </tr>\n",
              "    <tr>\n",
              "      <th>560738</th>\n",
              "      <td>B009RB4GO4</td>\n",
              "      <td>ANMGYT60QP4CM</td>\n",
              "      <td>2</td>\n",
              "    </tr>\n",
              "  </tbody>\n",
              "</table>\n",
              "<p>5859 rows × 3 columns</p>\n",
              "</div>\n",
              "      <button class=\"colab-df-convert\" onclick=\"convertToInteractive('df-3247e947-7b16-4091-873e-443af43266e3')\"\n",
              "              title=\"Convert this dataframe to an interactive table.\"\n",
              "              style=\"display:none;\">\n",
              "        \n",
              "  <svg xmlns=\"http://www.w3.org/2000/svg\" height=\"24px\"viewBox=\"0 0 24 24\"\n",
              "       width=\"24px\">\n",
              "    <path d=\"M0 0h24v24H0V0z\" fill=\"none\"/>\n",
              "    <path d=\"M18.56 5.44l.94 2.06.94-2.06 2.06-.94-2.06-.94-.94-2.06-.94 2.06-2.06.94zm-11 1L8.5 8.5l.94-2.06 2.06-.94-2.06-.94L8.5 2.5l-.94 2.06-2.06.94zm10 10l.94 2.06.94-2.06 2.06-.94-2.06-.94-.94-2.06-.94 2.06-2.06.94z\"/><path d=\"M17.41 7.96l-1.37-1.37c-.4-.4-.92-.59-1.43-.59-.52 0-1.04.2-1.43.59L10.3 9.45l-7.72 7.72c-.78.78-.78 2.05 0 2.83L4 21.41c.39.39.9.59 1.41.59.51 0 1.02-.2 1.41-.59l7.78-7.78 2.81-2.81c.8-.78.8-2.07 0-2.86zM5.41 20L4 18.59l7.72-7.72 1.47 1.35L5.41 20z\"/>\n",
              "  </svg>\n",
              "      </button>\n",
              "      \n",
              "  <style>\n",
              "    .colab-df-container {\n",
              "      display:flex;\n",
              "      flex-wrap:wrap;\n",
              "      gap: 12px;\n",
              "    }\n",
              "\n",
              "    .colab-df-convert {\n",
              "      background-color: #E8F0FE;\n",
              "      border: none;\n",
              "      border-radius: 50%;\n",
              "      cursor: pointer;\n",
              "      display: none;\n",
              "      fill: #1967D2;\n",
              "      height: 32px;\n",
              "      padding: 0 0 0 0;\n",
              "      width: 32px;\n",
              "    }\n",
              "\n",
              "    .colab-df-convert:hover {\n",
              "      background-color: #E2EBFA;\n",
              "      box-shadow: 0px 1px 2px rgba(60, 64, 67, 0.3), 0px 1px 3px 1px rgba(60, 64, 67, 0.15);\n",
              "      fill: #174EA6;\n",
              "    }\n",
              "\n",
              "    [theme=dark] .colab-df-convert {\n",
              "      background-color: #3B4455;\n",
              "      fill: #D2E3FC;\n",
              "    }\n",
              "\n",
              "    [theme=dark] .colab-df-convert:hover {\n",
              "      background-color: #434B5C;\n",
              "      box-shadow: 0px 1px 3px 1px rgba(0, 0, 0, 0.15);\n",
              "      filter: drop-shadow(0px 1px 2px rgba(0, 0, 0, 0.3));\n",
              "      fill: #FFFFFF;\n",
              "    }\n",
              "  </style>\n",
              "\n",
              "      <script>\n",
              "        const buttonEl =\n",
              "          document.querySelector('#df-3247e947-7b16-4091-873e-443af43266e3 button.colab-df-convert');\n",
              "        buttonEl.style.display =\n",
              "          google.colab.kernel.accessAllowed ? 'block' : 'none';\n",
              "\n",
              "        async function convertToInteractive(key) {\n",
              "          const element = document.querySelector('#df-3247e947-7b16-4091-873e-443af43266e3');\n",
              "          const dataTable =\n",
              "            await google.colab.kernel.invokeFunction('convertToInteractive',\n",
              "                                                     [key], {});\n",
              "          if (!dataTable) return;\n",
              "\n",
              "          const docLinkHtml = 'Like what you see? Visit the ' +\n",
              "            '<a target=\"_blank\" href=https://colab.research.google.com/notebooks/data_table.ipynb>data table notebook</a>'\n",
              "            + ' to learn more about interactive tables.';\n",
              "          element.innerHTML = '';\n",
              "          dataTable['output_type'] = 'display_data';\n",
              "          await google.colab.output.renderOutput(dataTable, element);\n",
              "          const docLink = document.createElement('div');\n",
              "          docLink.innerHTML = docLinkHtml;\n",
              "          element.appendChild(docLink);\n",
              "        }\n",
              "      </script>\n",
              "    </div>\n",
              "  </div>\n",
              "  "
            ],
            "text/plain": [
              "         ProductId          UserId  count\n",
              "177     7310172001   AE9ZBY7WW3LIQ      2\n",
              "188     7310172001   AJD41FBJD9010      6\n",
              "344     7310172101   AE9ZBY7WW3LIQ      2\n",
              "355     7310172101   AJD41FBJD9010      6\n",
              "447     B00004CI84  A1K94LXX833JTT      3\n",
              "...            ...             ...    ...\n",
              "560552  B009RB4GO4   A1N06XIVTDQMP      2\n",
              "560581  B009RB4GO4  A21GDMT9JN2A5Y      2\n",
              "560652  B009RB4GO4  A353Y7VBQHHW0T      2\n",
              "560689  B009RB4GO4  A3QVP3B2VVJ9T0      2\n",
              "560738  B009RB4GO4   ANMGYT60QP4CM      2\n",
              "\n",
              "[5859 rows x 3 columns]"
            ]
          },
          "execution_count": 9,
          "metadata": {},
          "output_type": "execute_result"
        }
      ],
      "source": [
        "# people who has given the same products several reviews\n",
        "\n",
        "groupby_clean_df = clean_df.groupby(['ProductId','UserId']).size().reset_index(name='count')\n",
        "groupby_clean_df[groupby_clean_df['count'] > 1]"
      ],
      "id": "c60cbe1f"
    },
    {
      "cell_type": "code",
      "execution_count": null,
      "metadata": {
        "id": "8e2c6540"
      },
      "outputs": [],
      "source": [
        "# days between the people who had given comments for the same products\n",
        "\n",
        "time_delta = []\n",
        "product_user_dict = {}\n",
        "\n",
        "for i in clean_df.index:\n",
        "    if (clean_df['ProductId'][i], clean_df['UserId'][i]) not in product_user_dict.keys():\n",
        "        time_delta.append(0)\n",
        "    else:\n",
        "        t2 = clean_df['Time'][i]\n",
        "        t1 = product_user_dict[(clean_df['ProductId'][i], clean_df['UserId'][i])]\n",
        "        time_delta.append((t2 - t1).total_seconds() / 86400)\n",
        "    product_user_dict[(clean_df['ProductId'][i], clean_df['UserId'][i])] = clean_df['Time'][i]\n",
        "\n",
        "clean_df['time_delta'] = time_delta"
      ],
      "id": "8e2c6540"
    },
    {
      "cell_type": "code",
      "execution_count": null,
      "metadata": {
        "id": "098c1250"
      },
      "outputs": [],
      "source": [
        "clean_df['nameProvided'] = np.where(clean_df['ProfileName'] != 'Amazon Customer', 1, 0)"
      ],
      "id": "098c1250"
    },
    {
      "cell_type": "code",
      "execution_count": null,
      "metadata": {
        "id": "1520b6b9",
        "outputId": "1701b481-d76b-47e1-ff6e-fe4261b23c52"
      },
      "outputs": [
        {
          "data": {
            "image/png": "[encoded data removed]",
            "text/plain": [
              "<Figure size 1080x792 with 15 Axes>"
            ]
          },
          "metadata": {},
          "output_type": "display_data"
        }
      ],
      "source": [
        "# see the patterns of scores from those giving most of the reviews\n",
        "\n",
        "plt.subplots(3,5, figsize=(15,11))\n",
        "\n",
        "for i in range(0, 15):\n",
        "    user = clean_df[\"UserId\"].value_counts().index[i]\n",
        "    data = clean_df['Score'][df['UserId'] == user].value_counts()\n",
        "\n",
        "    plt.subplot(3,5,i+1)\n",
        "    plt.bar(data.index, data.values)\n",
        "    plt.title(user)\n",
        "    plt.xlim(0,6)\n",
        "    plt.xticks(range(6))\n",
        "plt.show()"
      ],
      "id": "1520b6b9"
    },
    {
      "cell_type": "code",
      "execution_count": null,
      "metadata": {
        "id": "4927093e"
      },
      "outputs": [],
      "source": [
        "# display if a reviewer only gave 5 star reviews or one star reviews\n",
        "\n",
        "map_five = clean_df['Score'].groupby(clean_df['UserId']).agg(lambda x: (np.unique(x)==5).all()).to_dict()\n",
        "map_one = clean_df['Score'].groupby(clean_df['UserId']).agg(lambda x: (np.unique(x)==1).all()).to_dict()\n",
        "clean_df['User_five_star_only'] = clean_df['UserId'].map(map_five)\n",
        "clean_df['User_one_star_only'] = clean_df['UserId'].map(map_one)\n",
        "\n",
        "# boolen\n",
        "clean_df['User_five_star_only'] = clean_df['User_five_star_only'].astype(int)\n",
        "clean_df['User_one_star_only'] = clean_df['User_one_star_only'].astype(int)"
      ],
      "id": "4927093e"
    },
    {
      "cell_type": "code",
      "execution_count": null,
      "metadata": {
        "colab": {
          "base_uri": "https://localhost:8080/",
          "height": 574
        },
        "id": "1b0195c8",
        "outputId": "40b679e6-331c-44a0-a811-d622ab01995d"
      },
      "outputs": [
        {
          "data": {
            "text/html": [
              "\n",
              "  <div id=\"df-22778a29-d888-423b-b1f9-97bea25318ac\">\n",
              "    <div class=\"colab-df-container\">\n",
              "      <div>\n",
              "<style scoped>\n",
              "    .dataframe tbody tr th:only-of-type {\n",
              "        vertical-align: middle;\n",
              "    }\n",
              "\n",
              "    .dataframe tbody tr th {\n",
              "        vertical-align: top;\n",
              "    }\n",
              "\n",
              "    .dataframe thead th {\n",
              "        text-align: right;\n",
              "    }\n",
              "</style>\n",
              "<table border=\"1\" class=\"dataframe\">\n",
              "  <thead>\n",
              "    <tr style=\"text-align: right;\">\n",
              "      <th></th>\n",
              "      <th>Id</th>\n",
              "      <th>ProductId</th>\n",
              "      <th>UserId</th>\n",
              "      <th>ProfileName</th>\n",
              "      <th>HelpfulnessNumerator</th>\n",
              "      <th>HelpfulnessDenominator</th>\n",
              "      <th>Score</th>\n",
              "      <th>Time</th>\n",
              "      <th>Summary</th>\n",
              "      <th>Text</th>\n",
              "      <th>inconsistent_name</th>\n",
              "      <th>time_delta</th>\n",
              "      <th>nameProvided</th>\n",
              "      <th>User_five_star_only</th>\n",
              "      <th>User_one_star_only</th>\n",
              "      <th>Summary_word_count</th>\n",
              "      <th>Text_word_count</th>\n",
              "    </tr>\n",
              "  </thead>\n",
              "  <tbody>\n",
              "    <tr>\n",
              "      <th>0</th>\n",
              "      <td>150524</td>\n",
              "      <td>0006641040</td>\n",
              "      <td>ACITT7DI6IDDL</td>\n",
              "      <td>shari zychinski</td>\n",
              "      <td>0</td>\n",
              "      <td>0</td>\n",
              "      <td>5</td>\n",
              "      <td>1999-10-08</td>\n",
              "      <td>EVERY book is educational</td>\n",
              "      <td>this witty little book makes my son laugh at l...</td>\n",
              "      <td>0</td>\n",
              "      <td>0.0</td>\n",
              "      <td>1</td>\n",
              "      <td>1</td>\n",
              "      <td>0</td>\n",
              "      <td>4</td>\n",
              "      <td>74</td>\n",
              "    </tr>\n",
              "    <tr>\n",
              "      <th>1</th>\n",
              "      <td>150501</td>\n",
              "      <td>0006641040</td>\n",
              "      <td>AJ46FKXOVC7NR</td>\n",
              "      <td>Nicholas A Mesiano</td>\n",
              "      <td>2</td>\n",
              "      <td>2</td>\n",
              "      <td>5</td>\n",
              "      <td>1999-10-25</td>\n",
              "      <td>This whole series is great way to spend time w...</td>\n",
              "      <td>I can remember seeing the show when it aired o...</td>\n",
              "      <td>0</td>\n",
              "      <td>0.0</td>\n",
              "      <td>1</td>\n",
              "      <td>1</td>\n",
              "      <td>0</td>\n",
              "      <td>12</td>\n",
              "      <td>78</td>\n",
              "    </tr>\n",
              "    <tr>\n",
              "      <th>2</th>\n",
              "      <td>451856</td>\n",
              "      <td>B00004CXX9</td>\n",
              "      <td>AIUWLEQ1ADEG5</td>\n",
              "      <td>Elizabeth Medina</td>\n",
              "      <td>0</td>\n",
              "      <td>0</td>\n",
              "      <td>5</td>\n",
              "      <td>1999-12-02</td>\n",
              "      <td>Entertainingl Funny!</td>\n",
              "      <td>Beetlejuice is a well written movie ..... ever...</td>\n",
              "      <td>0</td>\n",
              "      <td>0.0</td>\n",
              "      <td>1</td>\n",
              "      <td>1</td>\n",
              "      <td>0</td>\n",
              "      <td>2</td>\n",
              "      <td>29</td>\n",
              "    </tr>\n",
              "    <tr>\n",
              "      <th>3</th>\n",
              "      <td>230285</td>\n",
              "      <td>B00004RYGX</td>\n",
              "      <td>A344SMIA5JECGM</td>\n",
              "      <td>Vincent P. Ross</td>\n",
              "      <td>1</td>\n",
              "      <td>2</td>\n",
              "      <td>5</td>\n",
              "      <td>1999-12-06</td>\n",
              "      <td>A modern day fairy tale</td>\n",
              "      <td>A twist of rumplestiskin captured on film, sta...</td>\n",
              "      <td>1</td>\n",
              "      <td>0.0</td>\n",
              "      <td>1</td>\n",
              "      <td>1</td>\n",
              "      <td>0</td>\n",
              "      <td>5</td>\n",
              "      <td>36</td>\n",
              "    </tr>\n",
              "    <tr>\n",
              "      <th>4</th>\n",
              "      <td>451878</td>\n",
              "      <td>B00004CXX9</td>\n",
              "      <td>A344SMIA5JECGM</td>\n",
              "      <td>Vincent P. Ross</td>\n",
              "      <td>1</td>\n",
              "      <td>2</td>\n",
              "      <td>5</td>\n",
              "      <td>1999-12-06</td>\n",
              "      <td>A modern day fairy tale</td>\n",
              "      <td>A twist of rumplestiskin captured on film, sta...</td>\n",
              "      <td>1</td>\n",
              "      <td>0.0</td>\n",
              "      <td>1</td>\n",
              "      <td>1</td>\n",
              "      <td>0</td>\n",
              "      <td>5</td>\n",
              "      <td>36</td>\n",
              "    </tr>\n",
              "  </tbody>\n",
              "</table>\n",
              "</div>\n",
              "      <button class=\"colab-df-convert\" onclick=\"convertToInteractive('df-22778a29-d888-423b-b1f9-97bea25318ac')\"\n",
              "              title=\"Convert this dataframe to an interactive table.\"\n",
              "              style=\"display:none;\">\n",
              "        \n",
              "  <svg xmlns=\"http://www.w3.org/2000/svg\" height=\"24px\"viewBox=\"0 0 24 24\"\n",
              "       width=\"24px\">\n",
              "    <path d=\"M0 0h24v24H0V0z\" fill=\"none\"/>\n",
              "    <path d=\"M18.56 5.44l.94 2.06.94-2.06 2.06-.94-2.06-.94-.94-2.06-.94 2.06-2.06.94zm-11 1L8.5 8.5l.94-2.06 2.06-.94-2.06-.94L8.5 2.5l-.94 2.06-2.06.94zm10 10l.94 2.06.94-2.06 2.06-.94-2.06-.94-.94-2.06-.94 2.06-2.06.94z\"/><path d=\"M17.41 7.96l-1.37-1.37c-.4-.4-.92-.59-1.43-.59-.52 0-1.04.2-1.43.59L10.3 9.45l-7.72 7.72c-.78.78-.78 2.05 0 2.83L4 21.41c.39.39.9.59 1.41.59.51 0 1.02-.2 1.41-.59l7.78-7.78 2.81-2.81c.8-.78.8-2.07 0-2.86zM5.41 20L4 18.59l7.72-7.72 1.47 1.35L5.41 20z\"/>\n",
              "  </svg>\n",
              "      </button>\n",
              "      \n",
              "  <style>\n",
              "    .colab-df-container {\n",
              "      display:flex;\n",
              "      flex-wrap:wrap;\n",
              "      gap: 12px;\n",
              "    }\n",
              "\n",
              "    .colab-df-convert {\n",
              "      background-color: #E8F0FE;\n",
              "      border: none;\n",
              "      border-radius: 50%;\n",
              "      cursor: pointer;\n",
              "      display: none;\n",
              "      fill: #1967D2;\n",
              "      height: 32px;\n",
              "      padding: 0 0 0 0;\n",
              "      width: 32px;\n",
              "    }\n",
              "\n",
              "    .colab-df-convert:hover {\n",
              "      background-color: #E2EBFA;\n",
              "      box-shadow: 0px 1px 2px rgba(60, 64, 67, 0.3), 0px 1px 3px 1px rgba(60, 64, 67, 0.15);\n",
              "      fill: #174EA6;\n",
              "    }\n",
              "\n",
              "    [theme=dark] .colab-df-convert {\n",
              "      background-color: #3B4455;\n",
              "      fill: #D2E3FC;\n",
              "    }\n",
              "\n",
              "    [theme=dark] .colab-df-convert:hover {\n",
              "      background-color: #434B5C;\n",
              "      box-shadow: 0px 1px 3px 1px rgba(0, 0, 0, 0.15);\n",
              "      filter: drop-shadow(0px 1px 2px rgba(0, 0, 0, 0.3));\n",
              "      fill: #FFFFFF;\n",
              "    }\n",
              "  </style>\n",
              "\n",
              "      <script>\n",
              "        const buttonEl =\n",
              "          document.querySelector('#df-22778a29-d888-423b-b1f9-97bea25318ac button.colab-df-convert');\n",
              "        buttonEl.style.display =\n",
              "          google.colab.kernel.accessAllowed ? 'block' : 'none';\n",
              "\n",
              "        async function convertToInteractive(key) {\n",
              "          const element = document.querySelector('#df-22778a29-d888-423b-b1f9-97bea25318ac');\n",
              "          const dataTable =\n",
              "            await google.colab.kernel.invokeFunction('convertToInteractive',\n",
              "                                                     [key], {});\n",
              "          if (!dataTable) return;\n",
              "\n",
              "          const docLinkHtml = 'Like what you see? Visit the ' +\n",
              "            '<a target=\"_blank\" href=https://colab.research.google.com/notebooks/data_table.ipynb>data table notebook</a>'\n",
              "            + ' to learn more about interactive tables.';\n",
              "          element.innerHTML = '';\n",
              "          dataTable['output_type'] = 'display_data';\n",
              "          await google.colab.output.renderOutput(dataTable, element);\n",
              "          const docLink = document.createElement('div');\n",
              "          docLink.innerHTML = docLinkHtml;\n",
              "          element.appendChild(docLink);\n",
              "        }\n",
              "      </script>\n",
              "    </div>\n",
              "  </div>\n",
              "  "
            ],
            "text/plain": [
              "       Id   ProductId          UserId         ProfileName  \\\n",
              "0  150524  0006641040   ACITT7DI6IDDL     shari zychinski   \n",
              "1  150501  0006641040   AJ46FKXOVC7NR  Nicholas A Mesiano   \n",
              "2  451856  B00004CXX9   AIUWLEQ1ADEG5    Elizabeth Medina   \n",
              "3  230285  B00004RYGX  A344SMIA5JECGM     Vincent P. Ross   \n",
              "4  451878  B00004CXX9  A344SMIA5JECGM     Vincent P. Ross   \n",
              "\n",
              "   HelpfulnessNumerator  HelpfulnessDenominator  Score       Time  \\\n",
              "0                     0                       0      5 1999-10-08   \n",
              "1                     2                       2      5 1999-10-25   \n",
              "2                     0                       0      5 1999-12-02   \n",
              "3                     1                       2      5 1999-12-06   \n",
              "4                     1                       2      5 1999-12-06   \n",
              "\n",
              "                                             Summary  \\\n",
              "0                          EVERY book is educational   \n",
              "1  This whole series is great way to spend time w...   \n",
              "2                               Entertainingl Funny!   \n",
              "3                            A modern day fairy tale   \n",
              "4                            A modern day fairy tale   \n",
              "\n",
              "                                                Text  inconsistent_name  \\\n",
              "0  this witty little book makes my son laugh at l...                  0   \n",
              "1  I can remember seeing the show when it aired o...                  0   \n",
              "2  Beetlejuice is a well written movie ..... ever...                  0   \n",
              "3  A twist of rumplestiskin captured on film, sta...                  1   \n",
              "4  A twist of rumplestiskin captured on film, sta...                  1   \n",
              "\n",
              "   time_delta  nameProvided  User_five_star_only  User_one_star_only  \\\n",
              "0         0.0             1                    1                   0   \n",
              "1         0.0             1                    1                   0   \n",
              "2         0.0             1                    1                   0   \n",
              "3         0.0             1                    1                   0   \n",
              "4         0.0             1                    1                   0   \n",
              "\n",
              "   Summary_word_count  Text_word_count  \n",
              "0                   4               74  \n",
              "1                  12               78  \n",
              "2                   2               29  \n",
              "3                   5               36  \n",
              "4                   5               36  "
            ]
          },
          "execution_count": 13,
          "metadata": {},
          "output_type": "execute_result"
        }
      ],
      "source": [
        "clean_df['Summary_word_count'] = clean_df['Summary'].str.split().str.len()\n",
        "clean_df['Text_word_count'] = clean_df['Text'].str.split().str.len()\n",
        "\n",
        "clean_df.head()"
      ],
      "id": "1b0195c8"
    },
    {
      "cell_type": "code",
      "execution_count": null,
      "metadata": {
        "id": "df9554b2"
      },
      "outputs": [],
      "source": [
        "clean_df.to_csv('clean_df.csv')"
      ],
      "id": "df9554b2"
    },
    {
      "cell_type": "code",
      "execution_count": null,
      "metadata": {
        "id": "95a84e3a"
      },
      "outputs": [],
      "source": [
        "clean_df = pd.read_csv('clean_df.csv')"
      ],
      "id": "95a84e3a"
    },
    {
      "cell_type": "code",
      "execution_count": null,
      "metadata": {
        "id": "728136e4",
        "outputId": "21cbb3a4-55f7-44fb-ebe4-7f57aad1e735"
      },
      "outputs": [
        {
          "name": "stdout",
          "output_type": "stream",
          "text": [
            "Reviews: 568454\n",
            "Products: 74258\n",
            "User: 256059\n"
          ]
        },
        {
          "data": {
            "text/plain": [
              "array([  1,   1,   1,   1,   1,   1,   1,   1,   1,   2,   2,   2,   3,\n",
              "         3,   4,   5,   7,   9,  13,  26, 913])"
            ]
          },
          "execution_count": 84,
          "metadata": {},
          "output_type": "execute_result"
        }
      ],
      "source": [
        "print(f'Reviews: {len(clean_df)}')\n",
        "print(f'Products: {len(clean_df[\"ProductId\"].value_counts())}')\n",
        "print(f'User: {len(clean_df[\"UserId\"].value_counts())}')\n",
        "np.quantile(clean_df[\"ProductId\"].value_counts().values, np.arange(0,1.05,0.05)).astype(int)"
      ],
      "id": "728136e4"
    },
    {
      "cell_type": "code",
      "execution_count": null,
      "metadata": {
        "id": "7954979c",
        "outputId": "703ef0b5-e0ec-47d2-db4f-4933bcbcb3eb"
      },
      "outputs": [
        {
          "data": {
            "image/png": "[encoded data removed]",
            "text/plain": [
              "<Figure size 432x288 with 1 Axes>"
            ]
          },
          "metadata": {},
          "output_type": "display_data"
        }
      ],
      "source": [
        "# distribution of number of reviews per product\n",
        "\n",
        "plt.figure()\n",
        "plt.hist(clean_df['ProductId'].value_counts().values, bins=20)\n",
        "plt.xlabel('num Reviews')\n",
        "plt.ylabel('num Products')\n",
        "plt.show()"
      ],
      "id": "7954979c"
    },
    {
      "cell_type": "markdown",
      "metadata": {
        "id": "eaff6577"
      },
      "source": [
        "Up until the 90th percentile, products have still not surpassed more than 13 reviews."
      ],
      "id": "eaff6577"
    },
    {
      "cell_type": "code",
      "execution_count": null,
      "metadata": {
        "id": "4348e63d"
      },
      "outputs": [],
      "source": [
        "#creating a dataframe that has the number of reviews per year, but segmented by whether or not the review was associated with a verified purchase\n",
        "five_star_only = clean_df['User_five_star_only'].groupby(clean_df['Time'].dt.year).value_counts()\n",
        "five_star_only = five_star_only.reset_index(level='Time').rename(columns={'User_five_star_only':'num'}).reset_index()\n",
        "\n",
        "one_star_only = clean_df['User_one_star_only'].groupby(clean_df['Time'].dt.year).value_counts()\n",
        "one_star_only = one_star_only.reset_index(level='Time').rename(columns={'User_one_star_only':'num'}).reset_index()"
      ],
      "id": "4348e63d"
    },
    {
      "cell_type": "code",
      "execution_count": null,
      "metadata": {
        "id": "7bdbea4d",
        "outputId": "41596bc2-a3a3-4b96-8894-db068fc20fec"
      },
      "outputs": [
        {
          "data": {
            "image/png": "[encoded data removed]",
            "text/plain": [
              "<Figure size 1008x288 with 2 Axes>"
            ]
          },
          "metadata": {},
          "output_type": "display_data"
        }
      ],
      "source": [
        "# plotting number of reviews per year\n",
        "\n",
        "hue_list = ['User_five_star_only', 'User_one_star_only']\n",
        "data_list = [five_star_only, one_star_only]\n",
        "\n",
        "plt.subplots(1, 2, figsize=(14,4))\n",
        "\n",
        "for i in range(2):\n",
        "    plt.subplot(1, 2, i+1)\n",
        "    sns.barplot(x = 'Time', y = 'num', hue = hue_list[i], data = data_list[i])\n",
        "plt.show()"
      ],
      "id": "7bdbea4d"
    },
    {
      "cell_type": "markdown",
      "metadata": {
        "id": "7e028463"
      },
      "source": [
        "- Before 2007, the number of users only giving 5 was more than the number of users who did not. This changed after 2007, though the numbers of 2 kinds of people were still close compared to the right plot.\n",
        "- There may be businesses incentivizing people to post good reviews in exchange for their product and this may a new way businesses are able to get fake good reviews.\n",
        "- It seems that it's more important to look at fake good reviews than for fake bad reviews, which maight come from competitors."
      ],
      "id": "7e028463"
    },
    {
      "cell_type": "markdown",
      "metadata": {
        "id": "41858412"
      },
      "source": [
        "# Text"
      ],
      "id": "41858412"
    },
    {
      "cell_type": "code",
      "execution_count": null,
      "metadata": {
        "id": "3f6105f5"
      },
      "outputs": [],
      "source": [
        "#@title Processing Data functions\n",
        "\n",
        "ENGLISH_STOP_WORDS = stopwords.words('english')\n",
        "\n",
        "def spl_tokenizer(sentence):\n",
        "    '''\n",
        "    Tokenizer with following specs:\n",
        "    - removes english stopwords\n",
        "    - removes punctuation\n",
        "    - lemmatizes words\n",
        "    '''\n",
        "    for punctuation_mark in string.punctuation:\n",
        "        sentence = sentence.replace(punctuation_mark,'').lower()\n",
        "\n",
        "    listofwords = sentence.split(' ')\n",
        "    listoflemmatized_words = []\n",
        "\n",
        "    # Remove stopwords and any tokens that are just empty strings\n",
        "    for word in listofwords:\n",
        "        if (not word in ENGLISH_STOP_WORDS) and (word!=''):\n",
        "            token = WordNetLemmatizer().lemmatize(word)\n",
        "\n",
        "            #add r_ prefix to indicate word is from review or s_ if from summary\n",
        "            try:\n",
        "                if tfidf.type == 'review':\n",
        "                    token = 'r_' + token\n",
        "                elif tfidf.type == 'summary':\n",
        "                    token = 's_' + token\n",
        "            except:\n",
        "                pass\n",
        "\n",
        "            listoflemmatized_words.append(token)\n",
        "\n",
        "    return listoflemmatized_words\n",
        "\n",
        "def sps_tokenizer(sentence):\n",
        "    '''\n",
        "    Tokenizer with following specs:\n",
        "    - removes english stopwords\n",
        "    - removes punctuation\n",
        "    - stems words\n",
        "    '''\n",
        "    for punctuation_mark in string.punctuation:\n",
        "        sentence = sentence.replace(punctuation_mark,'').lower()\n",
        "\n",
        "    listofwords = sentence.split(' ')\n",
        "    listofstemmed_words = []\n",
        "    stemmer = PorterStemmer()\n",
        "\n",
        "    # Remove stopwords and any tokens that are just empty strings\n",
        "    for word in listofwords:\n",
        "        if (not word in ENGLISH_STOP_WORDS) and (word!=''):\n",
        "            token = stemmer.stem(word)\n",
        "\n",
        "            #add r_ prefix to indicate word is from review or s_ if from summary\n",
        "            try:\n",
        "                if tfidf.type == 'review':\n",
        "                    token = 'r_' + token\n",
        "                elif tfidf.type == 'summary':\n",
        "                    token = 's_' + token\n",
        "            except:\n",
        "                continue\n",
        "            listofstemmed_words.append(token)\n",
        "\n",
        "    return listofstemmed_words\n",
        "\n",
        "\n",
        "def tfidf(dataframe_column, tokenizer, min_df=0.02, max_df=0.8, ngram_range=(1,1)):\n",
        "    '''\n",
        "    For tokenization, need to determine what prefix (r_ or s_) to add to each token\n",
        "    Retrieve the name of the column from which the tokens are generated\n",
        "    '''\n",
        "    column_name = dataframe_column.name\n",
        "\n",
        "    # Assign an attribute (called type) to the tfidf function to indicate if the tokens are from review or summary\n",
        "    if column_name == 'Text':\n",
        "        tfidf.type = 'review'\n",
        "    elif column_name == 'Summary':\n",
        "        tfidf.type = 'summary'\n",
        "    else:\n",
        "        tfidf.type = 'none'\n",
        "\n",
        "    # 1. Instantiate  (stop_words='english')\n",
        "    vectorizer = TfidfVectorizer(min_df = min_df, max_df = max_df, tokenizer = tokenizer, ngram_range = ngram_range)\n",
        "\n",
        "    # 2. Fit\n",
        "    vectorizer.fit(dataframe_column)\n",
        "\n",
        "    # 3. Transform\n",
        "    reviews_tokenized = vectorizer.transform(dataframe_column)\n",
        "\n",
        "    # We extract the information and put it in a data frame\n",
        "    tokens = pd.DataFrame(columns=vectorizer.get_feature_names_out(), data=reviews_tokenized.toarray())\n",
        "\n",
        "    return tokens"
      ],
      "id": "3f6105f5"
    },
    {
      "cell_type": "code",
      "execution_count": null,
      "metadata": {
        "colab": {
          "base_uri": "https://localhost:8080/"
        },
        "id": "0234e883",
        "outputId": "1775802b-686d-4a6c-8e37-7ac54130eeec"
      },
      "outputs": [
        {
          "name": "stdout",
          "output_type": "stream",
          "text": [
            "beginning tokenization with min_df = 500\n",
            "vectorization with lemmatization for min_df = 500 complete\n",
            "vectorization with stemming for min_df = 500 complete\n",
            "number of tokens appending to corresponding list. min_df = 500 complete\n",
            "beginning tokenization with min_df = 1000\n",
            "vectorization with lemmatization for min_df = 1000 complete\n",
            "vectorization with stemming for min_df = 1000 complete\n",
            "number of tokens appending to corresponding list. min_df = 1000 complete\n",
            "beginning tokenization with min_df = 1500\n",
            "vectorization with lemmatization for min_df = 1500 complete\n",
            "vectorization with stemming for min_df = 1500 complete\n",
            "number of tokens appending to corresponding list. min_df = 1500 complete\n",
            "beginning tokenization with min_df = 2000\n",
            "vectorization with lemmatization for min_df = 2000 complete\n",
            "vectorization with stemming for min_df = 2000 complete\n",
            "number of tokens appending to corresponding list. min_df = 2000 complete\n"
          ]
        }
      ],
      "source": [
        "# obtain number of tokens using tf idf vectorization based on varying min_df values for review text\n",
        "# use lemmatization or stemming ??\n",
        "# ngram range of up to 2 in order to see any important 2 word combinations\n",
        "\n",
        "min_df_list = range(500, 2001, 500)\n",
        "numTokens_lem = []\n",
        "numTokens_stem = []\n",
        "\n",
        "datashort = clean_df['Text'].sample(n = 50000, random_state = 1)\n",
        "\n",
        "for i in min_df_list:\n",
        "\n",
        "    # number of tokens using tf idf vectorizer using lemmatization or stemming\n",
        "    print(f'beginning tokenization with min_df = {i}')\n",
        "    tokens_l = (tfidf(datashort, tokenizer = spl_tokenizer, min_df=i)).shape[1]\n",
        "    print(f'vectorization with lemmatization for min_df = {i} complete')\n",
        "    tokens_s = (tfidf(datashort, tokenizer = sps_tokenizer, min_df=i)).shape[1]\n",
        "    print(f'vectorization with stemming for min_df = {i} complete')\n",
        "\n",
        "    numTokens_lem.append(tokens_l)\n",
        "    numTokens_stem.append(tokens_s)\n",
        "    print(f'number of tokens appending to corresponding list. min_df = {i} complete')"
      ],
      "id": "0234e883"
    },
    {
      "cell_type": "code",
      "execution_count": null,
      "metadata": {
        "colab": {
          "base_uri": "https://localhost:8080/",
          "height": 472
        },
        "id": "f4a318a8",
        "outputId": "cce14550-9f22-47e7-eb21-d0587c02b480"
      },
      "outputs": [
        {
          "data": {
            "image/png": "[encoded data removed]",
            "text/plain": [
              "<Figure size 640x480 with 1 Axes>"
            ]
          },
          "metadata": {},
          "output_type": "display_data"
        }
      ],
      "source": [
        "# plot num tokens for each tokenizer with varying min df values for Text\n",
        "\n",
        "plt.figure()\n",
        "plt.plot(min_df_list, numTokens_lem, label = 'lemmatizer')\n",
        "plt.plot(min_df_list, numTokens_stem, label = 'stemmer')\n",
        "plt.legend()\n",
        "plt.xlabel('min df value')\n",
        "plt.ylabel('number of tokens')\n",
        "plt.title('Number of tokens for Text using TF IDF vectorization and using lemmatization or stemming')\n",
        "plt.show()"
      ],
      "id": "f4a318a8"
    },
    {
      "cell_type": "markdown",
      "metadata": {
        "id": "y_NUnluQp6cz"
      },
      "source": [
        "We can see that the rate of tokenization starts to slow down at around 1000 min df. So moving forward, I will use a min_df value of 1000 for reviews. At min df = 1000, lemmatization is slightly lower then stemming so I will choose lemmatization as it will lead to less tokens (ie. less features) which usually is better for modelling."
      ],
      "id": "y_NUnluQp6cz"
    },
    {
      "cell_type": "code",
      "execution_count": null,
      "metadata": {
        "colab": {
          "base_uri": "https://localhost:8080/"
        },
        "id": "0382cc74",
        "outputId": "27828015-c9b2-4434-decc-5e3b0cfea6e9"
      },
      "outputs": [
        {
          "name": "stdout",
          "output_type": "stream",
          "text": [
            "beginning tokenization with min_df = 200\n",
            "vectorization with lemmatization for min_df = 200 complete\n",
            "vectorization with stemming for min_df = 200 complete\n",
            "number of tokens appending to corresponding list. min_df = 200 complete\n",
            "beginning tokenization with min_df = 400\n",
            "vectorization with lemmatization for min_df = 400 complete\n",
            "vectorization with stemming for min_df = 400 complete\n",
            "number of tokens appending to corresponding list. min_df = 400 complete\n",
            "beginning tokenization with min_df = 600\n",
            "vectorization with lemmatization for min_df = 600 complete\n",
            "vectorization with stemming for min_df = 600 complete\n",
            "number of tokens appending to corresponding list. min_df = 600 complete\n",
            "beginning tokenization with min_df = 800\n",
            "vectorization with lemmatization for min_df = 800 complete\n",
            "vectorization with stemming for min_df = 800 complete\n",
            "number of tokens appending to corresponding list. min_df = 800 complete\n",
            "beginning tokenization with min_df = 1000\n",
            "vectorization with lemmatization for min_df = 1000 complete\n",
            "vectorization with stemming for min_df = 1000 complete\n",
            "number of tokens appending to corresponding list. min_df = 1000 complete\n",
            "beginning tokenization with min_df = 1200\n",
            "vectorization with lemmatization for min_df = 1200 complete\n",
            "vectorization with stemming for min_df = 1200 complete\n",
            "number of tokens appending to corresponding list. min_df = 1200 complete\n"
          ]
        }
      ],
      "source": [
        "min_df_list2 = range(200,1201,200)\n",
        "numTokens_lem2 = []\n",
        "numTokens_stem2 = []\n",
        "datashort = clean_df['Summary'].sample(n = 50000, random_state = 1)\n",
        "\n",
        "for i in min_df_list2:\n",
        "\n",
        "    # number of tokens using tf idf vectorizer using lemmatization or stemming\n",
        "    print(f'beginning tokenization with min_df = {i}')\n",
        "    tokens_l = (tfidf(datashort, tokenizer = spl_tokenizer, min_df = i, ngram_range = (1,2))).shape[1]\n",
        "    print(f'vectorization with lemmatization for min_df = {i} complete')\n",
        "    tokens_s = (tfidf(datashort, tokenizer = sps_tokenizer, min_df = i, ngram_range = (1,2))).shape[1]\n",
        "    print(f'vectorization with stemming for min_df = {i} complete')\n",
        "\n",
        "    numTokens_lem2.append(tokens_l)\n",
        "    numTokens_stem2.append(tokens_s)\n",
        "    print(f'number of tokens appending to corresponding list. min_df = {i} complete')"
      ],
      "id": "0382cc74"
    },
    {
      "cell_type": "code",
      "execution_count": null,
      "metadata": {
        "colab": {
          "base_uri": "https://localhost:8080/",
          "height": 468
        },
        "id": "d85d7b6c",
        "outputId": "08cc56ac-f322-4c6b-8d52-26755dffb30a"
      },
      "outputs": [
        {
          "data": {
            "image/png": "[encoded data removed]",
            "text/plain": [
              "<Figure size 640x480 with 1 Axes>"
            ]
          },
          "metadata": {},
          "output_type": "display_data"
        }
      ],
      "source": [
        "# plot num tokens for each tokenizer with varying min df values for Summary\n",
        "\n",
        "plt.figure()\n",
        "plt.plot(min_df_list2, numTokens_lem2, label = 'lemmatizer')\n",
        "plt.plot(min_df_list2, numTokens_stem2, label = 'stemmer')\n",
        "plt.legend()\n",
        "plt.xlabel('min df value')\n",
        "plt.ylabel('number of tokens')\n",
        "plt.title('Number of tokens for Summary using TF-IDF vectorization and using lemmatization or stemming')\n",
        "plt.show()"
      ],
      "id": "d85d7b6c"
    },
    {
      "cell_type": "markdown",
      "metadata": {
        "id": "Dv2z9S2ocs-Z"
      },
      "source": [
        "For summary, rate of descent slows down at around 400 so I will use a min df value of 400. Again, lemmatization produces a slightly lower numbewr of tokens compared to stemming so I will use lemmatization."
      ],
      "id": "Dv2z9S2ocs-Z"
    },
    {
      "cell_type": "markdown",
      "metadata": {
        "id": "mRuSh5ozLbGw"
      },
      "source": [
        "**Scaling non-token Features**\n",
        "\n",
        "To determine the optimal scaling for the non-token features.\n",
        "\n",
        "We will need to scale features as clustering methods are distance sensitive."
      ],
      "id": "mRuSh5ozLbGw"
    },
    {
      "cell_type": "code",
      "execution_count": null,
      "metadata": {
        "id": "F3Lju6K9bdL_"
      },
      "outputs": [],
      "source": [
        "#@title grab all the numeric features (no tokens)\n",
        "\n",
        "df2 = clean_df.select_dtypes(include = ['int32','int64','float64'])\n",
        "df2.drop('Unnamed: 0', axis = 1, inplace = True)\n",
        "df2.drop('Id', axis = 1, inplace = True)"
      ],
      "id": "F3Lju6K9bdL_"
    },
    {
      "cell_type": "code",
      "execution_count": null,
      "metadata": {
        "colab": {
          "base_uri": "https://localhost:8080/",
          "height": 268
        },
        "id": "82Xy6r6XI9uc",
        "outputId": "f29bb0f3-8625-47e3-b716-1af1d6f027ea"
      },
      "outputs": [
        {
          "output_type": "execute_result",
          "data": {
            "text/plain": [
              "   HelpfulnessNumerator  HelpfulnessDenominator  Score  inconsistent_name  \\\n",
              "0                     0                       0      5                  0   \n",
              "1                     2                       2      5                  0   \n",
              "2                     0                       0      5                  0   \n",
              "3                     1                       2      5                  1   \n",
              "4                     1                       2      5                  1   \n",
              "\n",
              "   time_delta  nameProvided  User_five_star_only  User_one_star_only  \\\n",
              "0         0.0             1                    1                   0   \n",
              "1         0.0             1                    1                   0   \n",
              "2         0.0             1                    1                   0   \n",
              "3         0.0             1                    1                   0   \n",
              "4         0.0             1                    1                   0   \n",
              "\n",
              "   Summary_word_count  Text_word_count  \n",
              "0                   4               74  \n",
              "1                  12               78  \n",
              "2                   2               29  \n",
              "3                   5               36  \n",
              "4                   5               36  "
            ],
            "text/html": [
              "\n",
              "  <div id=\"df-20f1d3e7-e6c9-4644-9ed6-4cc92866e367\">\n",
              "    <div class=\"colab-df-container\">\n",
              "      <div>\n",
              "<style scoped>\n",
              "    .dataframe tbody tr th:only-of-type {\n",
              "        vertical-align: middle;\n",
              "    }\n",
              "\n",
              "    .dataframe tbody tr th {\n",
              "        vertical-align: top;\n",
              "    }\n",
              "\n",
              "    .dataframe thead th {\n",
              "        text-align: right;\n",
              "    }\n",
              "</style>\n",
              "<table border=\"1\" class=\"dataframe\">\n",
              "  <thead>\n",
              "    <tr style=\"text-align: right;\">\n",
              "      <th></th>\n",
              "      <th>HelpfulnessNumerator</th>\n",
              "      <th>HelpfulnessDenominator</th>\n",
              "      <th>Score</th>\n",
              "      <th>inconsistent_name</th>\n",
              "      <th>time_delta</th>\n",
              "      <th>nameProvided</th>\n",
              "      <th>User_five_star_only</th>\n",
              "      <th>User_one_star_only</th>\n",
              "      <th>Summary_word_count</th>\n",
              "      <th>Text_word_count</th>\n",
              "    </tr>\n",
              "  </thead>\n",
              "  <tbody>\n",
              "    <tr>\n",
              "      <th>0</th>\n",
              "      <td>0</td>\n",
              "      <td>0</td>\n",
              "      <td>5</td>\n",
              "      <td>0</td>\n",
              "      <td>0.0</td>\n",
              "      <td>1</td>\n",
              "      <td>1</td>\n",
              "      <td>0</td>\n",
              "      <td>4</td>\n",
              "      <td>74</td>\n",
              "    </tr>\n",
              "    <tr>\n",
              "      <th>1</th>\n",
              "      <td>2</td>\n",
              "      <td>2</td>\n",
              "      <td>5</td>\n",
              "      <td>0</td>\n",
              "      <td>0.0</td>\n",
              "      <td>1</td>\n",
              "      <td>1</td>\n",
              "      <td>0</td>\n",
              "      <td>12</td>\n",
              "      <td>78</td>\n",
              "    </tr>\n",
              "    <tr>\n",
              "      <th>2</th>\n",
              "      <td>0</td>\n",
              "      <td>0</td>\n",
              "      <td>5</td>\n",
              "      <td>0</td>\n",
              "      <td>0.0</td>\n",
              "      <td>1</td>\n",
              "      <td>1</td>\n",
              "      <td>0</td>\n",
              "      <td>2</td>\n",
              "      <td>29</td>\n",
              "    </tr>\n",
              "    <tr>\n",
              "      <th>3</th>\n",
              "      <td>1</td>\n",
              "      <td>2</td>\n",
              "      <td>5</td>\n",
              "      <td>1</td>\n",
              "      <td>0.0</td>\n",
              "      <td>1</td>\n",
              "      <td>1</td>\n",
              "      <td>0</td>\n",
              "      <td>5</td>\n",
              "      <td>36</td>\n",
              "    </tr>\n",
              "    <tr>\n",
              "      <th>4</th>\n",
              "      <td>1</td>\n",
              "      <td>2</td>\n",
              "      <td>5</td>\n",
              "      <td>1</td>\n",
              "      <td>0.0</td>\n",
              "      <td>1</td>\n",
              "      <td>1</td>\n",
              "      <td>0</td>\n",
              "      <td>5</td>\n",
              "      <td>36</td>\n",
              "    </tr>\n",
              "  </tbody>\n",
              "</table>\n",
              "</div>\n",
              "      <button class=\"colab-df-convert\" onclick=\"convertToInteractive('df-20f1d3e7-e6c9-4644-9ed6-4cc92866e367')\"\n",
              "              title=\"Convert this dataframe to an interactive table.\"\n",
              "              style=\"display:none;\">\n",
              "        \n",
              "  <svg xmlns=\"http://www.w3.org/2000/svg\" height=\"24px\"viewBox=\"0 0 24 24\"\n",
              "       width=\"24px\">\n",
              "    <path d=\"M0 0h24v24H0V0z\" fill=\"none\"/>\n",
              "    <path d=\"M18.56 5.44l.94 2.06.94-2.06 2.06-.94-2.06-.94-.94-2.06-.94 2.06-2.06.94zm-11 1L8.5 8.5l.94-2.06 2.06-.94-2.06-.94L8.5 2.5l-.94 2.06-2.06.94zm10 10l.94 2.06.94-2.06 2.06-.94-2.06-.94-.94-2.06-.94 2.06-2.06.94z\"/><path d=\"M17.41 7.96l-1.37-1.37c-.4-.4-.92-.59-1.43-.59-.52 0-1.04.2-1.43.59L10.3 9.45l-7.72 7.72c-.78.78-.78 2.05 0 2.83L4 21.41c.39.39.9.59 1.41.59.51 0 1.02-.2 1.41-.59l7.78-7.78 2.81-2.81c.8-.78.8-2.07 0-2.86zM5.41 20L4 18.59l7.72-7.72 1.47 1.35L5.41 20z\"/>\n",
              "  </svg>\n",
              "      </button>\n",
              "      \n",
              "  <style>\n",
              "    .colab-df-container {\n",
              "      display:flex;\n",
              "      flex-wrap:wrap;\n",
              "      gap: 12px;\n",
              "    }\n",
              "\n",
              "    .colab-df-convert {\n",
              "      background-color: #E8F0FE;\n",
              "      border: none;\n",
              "      border-radius: 50%;\n",
              "      cursor: pointer;\n",
              "      display: none;\n",
              "      fill: #1967D2;\n",
              "      height: 32px;\n",
              "      padding: 0 0 0 0;\n",
              "      width: 32px;\n",
              "    }\n",
              "\n",
              "    .colab-df-convert:hover {\n",
              "      background-color: #E2EBFA;\n",
              "      box-shadow: 0px 1px 2px rgba(60, 64, 67, 0.3), 0px 1px 3px 1px rgba(60, 64, 67, 0.15);\n",
              "      fill: #174EA6;\n",
              "    }\n",
              "\n",
              "    [theme=dark] .colab-df-convert {\n",
              "      background-color: #3B4455;\n",
              "      fill: #D2E3FC;\n",
              "    }\n",
              "\n",
              "    [theme=dark] .colab-df-convert:hover {\n",
              "      background-color: #434B5C;\n",
              "      box-shadow: 0px 1px 3px 1px rgba(0, 0, 0, 0.15);\n",
              "      filter: drop-shadow(0px 1px 2px rgba(0, 0, 0, 0.3));\n",
              "      fill: #FFFFFF;\n",
              "    }\n",
              "  </style>\n",
              "\n",
              "      <script>\n",
              "        const buttonEl =\n",
              "          document.querySelector('#df-20f1d3e7-e6c9-4644-9ed6-4cc92866e367 button.colab-df-convert');\n",
              "        buttonEl.style.display =\n",
              "          google.colab.kernel.accessAllowed ? 'block' : 'none';\n",
              "\n",
              "        async function convertToInteractive(key) {\n",
              "          const element = document.querySelector('#df-20f1d3e7-e6c9-4644-9ed6-4cc92866e367');\n",
              "          const dataTable =\n",
              "            await google.colab.kernel.invokeFunction('convertToInteractive',\n",
              "                                                     [key], {});\n",
              "          if (!dataTable) return;\n",
              "\n",
              "          const docLinkHtml = 'Like what you see? Visit the ' +\n",
              "            '<a target=\"_blank\" href=https://colab.research.google.com/notebooks/data_table.ipynb>data table notebook</a>'\n",
              "            + ' to learn more about interactive tables.';\n",
              "          element.innerHTML = '';\n",
              "          dataTable['output_type'] = 'display_data';\n",
              "          await google.colab.output.renderOutput(dataTable, element);\n",
              "          const docLink = document.createElement('div');\n",
              "          docLink.innerHTML = docLinkHtml;\n",
              "          element.appendChild(docLink);\n",
              "        }\n",
              "      </script>\n",
              "    </div>\n",
              "  </div>\n",
              "  "
            ]
          },
          "metadata": {},
          "execution_count": 8
        }
      ],
      "source": [
        "df2.head()"
      ],
      "id": "82Xy6r6XI9uc"
    },
    {
      "cell_type": "code",
      "execution_count": null,
      "metadata": {
        "id": "235JNXo8bdJj"
      },
      "outputs": [],
      "source": [
        "from sklearn.preprocessing import MinMaxScaler\n",
        "from sklearn.preprocessing import RobustScaler\n",
        "from sklearn.preprocessing import StandardScaler"
      ],
      "id": "235JNXo8bdJj"
    },
    {
      "cell_type": "code",
      "execution_count": null,
      "metadata": {
        "colab": {
          "base_uri": "https://localhost:8080/",
          "height": 361
        },
        "id": "6ySIC4ZWbdHA",
        "outputId": "8ffbb6f9-5c12-47f0-b57f-95fe63e550d7"
      },
      "outputs": [
        {
          "output_type": "execute_result",
          "data": {
            "text/plain": [
              "       HelpfulnessNumerator  HelpfulnessDenominator          Score  \\\n",
              "count         568454.000000           568454.000000  568454.000000   \n",
              "mean               0.002014                0.002415       0.795800   \n",
              "std                0.008818                0.008981       0.327609   \n",
              "min                0.000000                0.000000       0.000000   \n",
              "25%                0.000000                0.000000       0.750000   \n",
              "50%                0.000000                0.001083       1.000000   \n",
              "75%                0.002309                0.002167       1.000000   \n",
              "max                1.000000                1.000000       1.000000   \n",
              "\n",
              "       inconsistent_name     time_delta   nameProvided  User_five_star_only  \\\n",
              "count      568454.000000  568454.000000  568454.000000        568454.000000   \n",
              "mean            0.691460       0.000450       0.999944             0.469282   \n",
              "std             0.461891       0.010523       0.007503             0.499056   \n",
              "min             0.000000       0.000000       0.000000             0.000000   \n",
              "25%             0.000000       0.000000       1.000000             0.000000   \n",
              "50%             1.000000       0.000000       1.000000             0.000000   \n",
              "75%             1.000000       0.000000       1.000000             1.000000   \n",
              "max             1.000000       1.000000       1.000000             1.000000   \n",
              "\n",
              "       User_one_star_only  Summary_word_count  Text_word_count  \n",
              "count       568454.000000       568454.000000    568454.000000  \n",
              "mean             0.063928            0.075963         0.022533  \n",
              "std              0.244624            0.063486         0.023172  \n",
              "min              0.000000            0.000000         0.000000  \n",
              "25%              0.000000            0.024390         0.008749  \n",
              "50%              0.000000            0.073171         0.015456  \n",
              "75%              0.000000            0.097561         0.027705  \n",
              "max              1.000000            1.000000         1.000000  "
            ],
            "text/html": [
              "\n",
              "  <div id=\"df-fa4efc28-85c5-42b3-af05-874e7e28b712\">\n",
              "    <div class=\"colab-df-container\">\n",
              "      <div>\n",
              "<style scoped>\n",
              "    .dataframe tbody tr th:only-of-type {\n",
              "        vertical-align: middle;\n",
              "    }\n",
              "\n",
              "    .dataframe tbody tr th {\n",
              "        vertical-align: top;\n",
              "    }\n",
              "\n",
              "    .dataframe thead th {\n",
              "        text-align: right;\n",
              "    }\n",
              "</style>\n",
              "<table border=\"1\" class=\"dataframe\">\n",
              "  <thead>\n",
              "    <tr style=\"text-align: right;\">\n",
              "      <th></th>\n",
              "      <th>HelpfulnessNumerator</th>\n",
              "      <th>HelpfulnessDenominator</th>\n",
              "      <th>Score</th>\n",
              "      <th>inconsistent_name</th>\n",
              "      <th>time_delta</th>\n",
              "      <th>nameProvided</th>\n",
              "      <th>User_five_star_only</th>\n",
              "      <th>User_one_star_only</th>\n",
              "      <th>Summary_word_count</th>\n",
              "      <th>Text_word_count</th>\n",
              "    </tr>\n",
              "  </thead>\n",
              "  <tbody>\n",
              "    <tr>\n",
              "      <th>count</th>\n",
              "      <td>568454.000000</td>\n",
              "      <td>568454.000000</td>\n",
              "      <td>568454.000000</td>\n",
              "      <td>568454.000000</td>\n",
              "      <td>568454.000000</td>\n",
              "      <td>568454.000000</td>\n",
              "      <td>568454.000000</td>\n",
              "      <td>568454.000000</td>\n",
              "      <td>568454.000000</td>\n",
              "      <td>568454.000000</td>\n",
              "    </tr>\n",
              "    <tr>\n",
              "      <th>mean</th>\n",
              "      <td>0.002014</td>\n",
              "      <td>0.002415</td>\n",
              "      <td>0.795800</td>\n",
              "      <td>0.691460</td>\n",
              "      <td>0.000450</td>\n",
              "      <td>0.999944</td>\n",
              "      <td>0.469282</td>\n",
              "      <td>0.063928</td>\n",
              "      <td>0.075963</td>\n",
              "      <td>0.022533</td>\n",
              "    </tr>\n",
              "    <tr>\n",
              "      <th>std</th>\n",
              "      <td>0.008818</td>\n",
              "      <td>0.008981</td>\n",
              "      <td>0.327609</td>\n",
              "      <td>0.461891</td>\n",
              "      <td>0.010523</td>\n",
              "      <td>0.007503</td>\n",
              "      <td>0.499056</td>\n",
              "      <td>0.244624</td>\n",
              "      <td>0.063486</td>\n",
              "      <td>0.023172</td>\n",
              "    </tr>\n",
              "    <tr>\n",
              "      <th>min</th>\n",
              "      <td>0.000000</td>\n",
              "      <td>0.000000</td>\n",
              "      <td>0.000000</td>\n",
              "      <td>0.000000</td>\n",
              "      <td>0.000000</td>\n",
              "      <td>0.000000</td>\n",
              "      <td>0.000000</td>\n",
              "      <td>0.000000</td>\n",
              "      <td>0.000000</td>\n",
              "      <td>0.000000</td>\n",
              "    </tr>\n",
              "    <tr>\n",
              "      <th>25%</th>\n",
              "      <td>0.000000</td>\n",
              "      <td>0.000000</td>\n",
              "      <td>0.750000</td>\n",
              "      <td>0.000000</td>\n",
              "      <td>0.000000</td>\n",
              "      <td>1.000000</td>\n",
              "      <td>0.000000</td>\n",
              "      <td>0.000000</td>\n",
              "      <td>0.024390</td>\n",
              "      <td>0.008749</td>\n",
              "    </tr>\n",
              "    <tr>\n",
              "      <th>50%</th>\n",
              "      <td>0.000000</td>\n",
              "      <td>0.001083</td>\n",
              "      <td>1.000000</td>\n",
              "      <td>1.000000</td>\n",
              "      <td>0.000000</td>\n",
              "      <td>1.000000</td>\n",
              "      <td>0.000000</td>\n",
              "      <td>0.000000</td>\n",
              "      <td>0.073171</td>\n",
              "      <td>0.015456</td>\n",
              "    </tr>\n",
              "    <tr>\n",
              "      <th>75%</th>\n",
              "      <td>0.002309</td>\n",
              "      <td>0.002167</td>\n",
              "      <td>1.000000</td>\n",
              "      <td>1.000000</td>\n",
              "      <td>0.000000</td>\n",
              "      <td>1.000000</td>\n",
              "      <td>1.000000</td>\n",
              "      <td>0.000000</td>\n",
              "      <td>0.097561</td>\n",
              "      <td>0.027705</td>\n",
              "    </tr>\n",
              "    <tr>\n",
              "      <th>max</th>\n",
              "      <td>1.000000</td>\n",
              "      <td>1.000000</td>\n",
              "      <td>1.000000</td>\n",
              "      <td>1.000000</td>\n",
              "      <td>1.000000</td>\n",
              "      <td>1.000000</td>\n",
              "      <td>1.000000</td>\n",
              "      <td>1.000000</td>\n",
              "      <td>1.000000</td>\n",
              "      <td>1.000000</td>\n",
              "    </tr>\n",
              "  </tbody>\n",
              "</table>\n",
              "</div>\n",
              "      <button class=\"colab-df-convert\" onclick=\"convertToInteractive('df-fa4efc28-85c5-42b3-af05-874e7e28b712')\"\n",
              "              title=\"Convert this dataframe to an interactive table.\"\n",
              "              style=\"display:none;\">\n",
              "        \n",
              "  <svg xmlns=\"http://www.w3.org/2000/svg\" height=\"24px\"viewBox=\"0 0 24 24\"\n",
              "       width=\"24px\">\n",
              "    <path d=\"M0 0h24v24H0V0z\" fill=\"none\"/>\n",
              "    <path d=\"M18.56 5.44l.94 2.06.94-2.06 2.06-.94-2.06-.94-.94-2.06-.94 2.06-2.06.94zm-11 1L8.5 8.5l.94-2.06 2.06-.94-2.06-.94L8.5 2.5l-.94 2.06-2.06.94zm10 10l.94 2.06.94-2.06 2.06-.94-2.06-.94-.94-2.06-.94 2.06-2.06.94z\"/><path d=\"M17.41 7.96l-1.37-1.37c-.4-.4-.92-.59-1.43-.59-.52 0-1.04.2-1.43.59L10.3 9.45l-7.72 7.72c-.78.78-.78 2.05 0 2.83L4 21.41c.39.39.9.59 1.41.59.51 0 1.02-.2 1.41-.59l7.78-7.78 2.81-2.81c.8-.78.8-2.07 0-2.86zM5.41 20L4 18.59l7.72-7.72 1.47 1.35L5.41 20z\"/>\n",
              "  </svg>\n",
              "      </button>\n",
              "      \n",
              "  <style>\n",
              "    .colab-df-container {\n",
              "      display:flex;\n",
              "      flex-wrap:wrap;\n",
              "      gap: 12px;\n",
              "    }\n",
              "\n",
              "    .colab-df-convert {\n",
              "      background-color: #E8F0FE;\n",
              "      border: none;\n",
              "      border-radius: 50%;\n",
              "      cursor: pointer;\n",
              "      display: none;\n",
              "      fill: #1967D2;\n",
              "      height: 32px;\n",
              "      padding: 0 0 0 0;\n",
              "      width: 32px;\n",
              "    }\n",
              "\n",
              "    .colab-df-convert:hover {\n",
              "      background-color: #E2EBFA;\n",
              "      box-shadow: 0px 1px 2px rgba(60, 64, 67, 0.3), 0px 1px 3px 1px rgba(60, 64, 67, 0.15);\n",
              "      fill: #174EA6;\n",
              "    }\n",
              "\n",
              "    [theme=dark] .colab-df-convert {\n",
              "      background-color: #3B4455;\n",
              "      fill: #D2E3FC;\n",
              "    }\n",
              "\n",
              "    [theme=dark] .colab-df-convert:hover {\n",
              "      background-color: #434B5C;\n",
              "      box-shadow: 0px 1px 3px 1px rgba(0, 0, 0, 0.15);\n",
              "      filter: drop-shadow(0px 1px 2px rgba(0, 0, 0, 0.3));\n",
              "      fill: #FFFFFF;\n",
              "    }\n",
              "  </style>\n",
              "\n",
              "      <script>\n",
              "        const buttonEl =\n",
              "          document.querySelector('#df-fa4efc28-85c5-42b3-af05-874e7e28b712 button.colab-df-convert');\n",
              "        buttonEl.style.display =\n",
              "          google.colab.kernel.accessAllowed ? 'block' : 'none';\n",
              "\n",
              "        async function convertToInteractive(key) {\n",
              "          const element = document.querySelector('#df-fa4efc28-85c5-42b3-af05-874e7e28b712');\n",
              "          const dataTable =\n",
              "            await google.colab.kernel.invokeFunction('convertToInteractive',\n",
              "                                                     [key], {});\n",
              "          if (!dataTable) return;\n",
              "\n",
              "          const docLinkHtml = 'Like what you see? Visit the ' +\n",
              "            '<a target=\"_blank\" href=https://colab.research.google.com/notebooks/data_table.ipynb>data table notebook</a>'\n",
              "            + ' to learn more about interactive tables.';\n",
              "          element.innerHTML = '';\n",
              "          dataTable['output_type'] = 'display_data';\n",
              "          await google.colab.output.renderOutput(dataTable, element);\n",
              "          const docLink = document.createElement('div');\n",
              "          docLink.innerHTML = docLinkHtml;\n",
              "          element.appendChild(docLink);\n",
              "        }\n",
              "      </script>\n",
              "    </div>\n",
              "  </div>\n",
              "  "
            ]
          },
          "metadata": {},
          "execution_count": 10
        }
      ],
      "source": [
        "# instantiate min max scaler\n",
        "mm = MinMaxScaler()\n",
        "\n",
        "df3 = mm.fit_transform(df2)\n",
        "pd.DataFrame(df3, columns = df2.columns).describe()"
      ],
      "id": "6ySIC4ZWbdHA"
    },
    {
      "cell_type": "markdown",
      "metadata": {
        "id": "XYRRkKtCML0t"
      },
      "source": [
        "The min max scaler bounds all features between 0 and 1. It is good as it doesn't distort the data and keeps the lower and upper bounds consistent which helps when performing clustering as the scales of all the features are the same."
      ],
      "id": "XYRRkKtCML0t"
    },
    {
      "cell_type": "code",
      "execution_count": null,
      "metadata": {
        "colab": {
          "base_uri": "https://localhost:8080/",
          "height": 361
        },
        "id": "p1smuWOnbdEh",
        "outputId": "e5c95a93-b088-49f4-cdbd-7758554386cb"
      },
      "outputs": [
        {
          "data": {
            "text/html": [
              "\n",
              "  <div id=\"df-71858b8d-ecff-4f0f-a276-8df04a0eefff\">\n",
              "    <div class=\"colab-df-container\">\n",
              "      <div>\n",
              "<style scoped>\n",
              "    .dataframe tbody tr th:only-of-type {\n",
              "        vertical-align: middle;\n",
              "    }\n",
              "\n",
              "    .dataframe tbody tr th {\n",
              "        vertical-align: top;\n",
              "    }\n",
              "\n",
              "    .dataframe thead th {\n",
              "        text-align: right;\n",
              "    }\n",
              "</style>\n",
              "<table border=\"1\" class=\"dataframe\">\n",
              "  <thead>\n",
              "    <tr style=\"text-align: right;\">\n",
              "      <th></th>\n",
              "      <th>HelpfulnessNumerator</th>\n",
              "      <th>HelpfulnessDenominator</th>\n",
              "      <th>Score</th>\n",
              "      <th>inconsistent_name</th>\n",
              "      <th>time_delta</th>\n",
              "      <th>nameProvided</th>\n",
              "      <th>User_five_star_only</th>\n",
              "      <th>User_one_star_only</th>\n",
              "      <th>Summary_word_count</th>\n",
              "      <th>Text_word_count</th>\n",
              "    </tr>\n",
              "  </thead>\n",
              "  <tbody>\n",
              "    <tr>\n",
              "      <th>count</th>\n",
              "      <td>568454.000000</td>\n",
              "      <td>568454.000000</td>\n",
              "      <td>568454.000000</td>\n",
              "      <td>568454.000000</td>\n",
              "      <td>568454.000000</td>\n",
              "      <td>568454.000000</td>\n",
              "      <td>568454.000000</td>\n",
              "      <td>568454.000000</td>\n",
              "      <td>568454.000000</td>\n",
              "      <td>568454.000000</td>\n",
              "    </tr>\n",
              "    <tr>\n",
              "      <th>mean</th>\n",
              "      <td>0.871909</td>\n",
              "      <td>1.114405</td>\n",
              "      <td>4.183199</td>\n",
              "      <td>0.691460</td>\n",
              "      <td>0.836604</td>\n",
              "      <td>0.999944</td>\n",
              "      <td>0.469282</td>\n",
              "      <td>0.063928</td>\n",
              "      <td>1.371493</td>\n",
              "      <td>1.234831</td>\n",
              "    </tr>\n",
              "    <tr>\n",
              "      <th>std</th>\n",
              "      <td>3.818256</td>\n",
              "      <td>4.144870</td>\n",
              "      <td>1.310436</td>\n",
              "      <td>0.461891</td>\n",
              "      <td>19.563154</td>\n",
              "      <td>0.007503</td>\n",
              "      <td>0.499056</td>\n",
              "      <td>0.244624</td>\n",
              "      <td>0.867640</td>\n",
              "      <td>1.222391</td>\n",
              "    </tr>\n",
              "    <tr>\n",
              "      <th>min</th>\n",
              "      <td>0.000000</td>\n",
              "      <td>0.000000</td>\n",
              "      <td>1.000000</td>\n",
              "      <td>0.000000</td>\n",
              "      <td>0.000000</td>\n",
              "      <td>0.000000</td>\n",
              "      <td>0.000000</td>\n",
              "      <td>0.000000</td>\n",
              "      <td>0.333333</td>\n",
              "      <td>0.046154</td>\n",
              "    </tr>\n",
              "    <tr>\n",
              "      <th>25%</th>\n",
              "      <td>0.000000</td>\n",
              "      <td>0.000000</td>\n",
              "      <td>4.000000</td>\n",
              "      <td>0.000000</td>\n",
              "      <td>0.000000</td>\n",
              "      <td>1.000000</td>\n",
              "      <td>0.000000</td>\n",
              "      <td>0.000000</td>\n",
              "      <td>0.666667</td>\n",
              "      <td>0.507692</td>\n",
              "    </tr>\n",
              "    <tr>\n",
              "      <th>50%</th>\n",
              "      <td>0.000000</td>\n",
              "      <td>0.500000</td>\n",
              "      <td>5.000000</td>\n",
              "      <td>1.000000</td>\n",
              "      <td>0.000000</td>\n",
              "      <td>1.000000</td>\n",
              "      <td>0.000000</td>\n",
              "      <td>0.000000</td>\n",
              "      <td>1.333333</td>\n",
              "      <td>0.861538</td>\n",
              "    </tr>\n",
              "    <tr>\n",
              "      <th>75%</th>\n",
              "      <td>1.000000</td>\n",
              "      <td>1.000000</td>\n",
              "      <td>5.000000</td>\n",
              "      <td>1.000000</td>\n",
              "      <td>0.000000</td>\n",
              "      <td>1.000000</td>\n",
              "      <td>1.000000</td>\n",
              "      <td>0.000000</td>\n",
              "      <td>1.666667</td>\n",
              "      <td>1.507692</td>\n",
              "    </tr>\n",
              "    <tr>\n",
              "      <th>max</th>\n",
              "      <td>433.000000</td>\n",
              "      <td>461.500000</td>\n",
              "      <td>5.000000</td>\n",
              "      <td>1.000000</td>\n",
              "      <td>1859.000000</td>\n",
              "      <td>1.000000</td>\n",
              "      <td>1.000000</td>\n",
              "      <td>1.000000</td>\n",
              "      <td>14.000000</td>\n",
              "      <td>52.800000</td>\n",
              "    </tr>\n",
              "  </tbody>\n",
              "</table>\n",
              "</div>\n",
              "      <button class=\"colab-df-convert\" onclick=\"convertToInteractive('df-71858b8d-ecff-4f0f-a276-8df04a0eefff')\"\n",
              "              title=\"Convert this dataframe to an interactive table.\"\n",
              "              style=\"display:none;\">\n",
              "        \n",
              "  <svg xmlns=\"http://www.w3.org/2000/svg\" height=\"24px\"viewBox=\"0 0 24 24\"\n",
              "       width=\"24px\">\n",
              "    <path d=\"M0 0h24v24H0V0z\" fill=\"none\"/>\n",
              "    <path d=\"M18.56 5.44l.94 2.06.94-2.06 2.06-.94-2.06-.94-.94-2.06-.94 2.06-2.06.94zm-11 1L8.5 8.5l.94-2.06 2.06-.94-2.06-.94L8.5 2.5l-.94 2.06-2.06.94zm10 10l.94 2.06.94-2.06 2.06-.94-2.06-.94-.94-2.06-.94 2.06-2.06.94z\"/><path d=\"M17.41 7.96l-1.37-1.37c-.4-.4-.92-.59-1.43-.59-.52 0-1.04.2-1.43.59L10.3 9.45l-7.72 7.72c-.78.78-.78 2.05 0 2.83L4 21.41c.39.39.9.59 1.41.59.51 0 1.02-.2 1.41-.59l7.78-7.78 2.81-2.81c.8-.78.8-2.07 0-2.86zM5.41 20L4 18.59l7.72-7.72 1.47 1.35L5.41 20z\"/>\n",
              "  </svg>\n",
              "      </button>\n",
              "      \n",
              "  <style>\n",
              "    .colab-df-container {\n",
              "      display:flex;\n",
              "      flex-wrap:wrap;\n",
              "      gap: 12px;\n",
              "    }\n",
              "\n",
              "    .colab-df-convert {\n",
              "      background-color: #E8F0FE;\n",
              "      border: none;\n",
              "      border-radius: 50%;\n",
              "      cursor: pointer;\n",
              "      display: none;\n",
              "      fill: #1967D2;\n",
              "      height: 32px;\n",
              "      padding: 0 0 0 0;\n",
              "      width: 32px;\n",
              "    }\n",
              "\n",
              "    .colab-df-convert:hover {\n",
              "      background-color: #E2EBFA;\n",
              "      box-shadow: 0px 1px 2px rgba(60, 64, 67, 0.3), 0px 1px 3px 1px rgba(60, 64, 67, 0.15);\n",
              "      fill: #174EA6;\n",
              "    }\n",
              "\n",
              "    [theme=dark] .colab-df-convert {\n",
              "      background-color: #3B4455;\n",
              "      fill: #D2E3FC;\n",
              "    }\n",
              "\n",
              "    [theme=dark] .colab-df-convert:hover {\n",
              "      background-color: #434B5C;\n",
              "      box-shadow: 0px 1px 3px 1px rgba(0, 0, 0, 0.15);\n",
              "      filter: drop-shadow(0px 1px 2px rgba(0, 0, 0, 0.3));\n",
              "      fill: #FFFFFF;\n",
              "    }\n",
              "  </style>\n",
              "\n",
              "      <script>\n",
              "        const buttonEl =\n",
              "          document.querySelector('#df-71858b8d-ecff-4f0f-a276-8df04a0eefff button.colab-df-convert');\n",
              "        buttonEl.style.display =\n",
              "          google.colab.kernel.accessAllowed ? 'block' : 'none';\n",
              "\n",
              "        async function convertToInteractive(key) {\n",
              "          const element = document.querySelector('#df-71858b8d-ecff-4f0f-a276-8df04a0eefff');\n",
              "          const dataTable =\n",
              "            await google.colab.kernel.invokeFunction('convertToInteractive',\n",
              "                                                     [key], {});\n",
              "          if (!dataTable) return;\n",
              "\n",
              "          const docLinkHtml = 'Like what you see? Visit the ' +\n",
              "            '<a target=\"_blank\" href=https://colab.research.google.com/notebooks/data_table.ipynb>data table notebook</a>'\n",
              "            + ' to learn more about interactive tables.';\n",
              "          element.innerHTML = '';\n",
              "          dataTable['output_type'] = 'display_data';\n",
              "          await google.colab.output.renderOutput(dataTable, element);\n",
              "          const docLink = document.createElement('div');\n",
              "          docLink.innerHTML = docLinkHtml;\n",
              "          element.appendChild(docLink);\n",
              "        }\n",
              "      </script>\n",
              "    </div>\n",
              "  </div>\n",
              "  "
            ],
            "text/plain": [
              "       HelpfulnessNumerator  HelpfulnessDenominator          Score  \\\n",
              "count         568454.000000           568454.000000  568454.000000   \n",
              "mean               0.871909                1.114405       4.183199   \n",
              "std                3.818256                4.144870       1.310436   \n",
              "min                0.000000                0.000000       1.000000   \n",
              "25%                0.000000                0.000000       4.000000   \n",
              "50%                0.000000                0.500000       5.000000   \n",
              "75%                1.000000                1.000000       5.000000   \n",
              "max              433.000000              461.500000       5.000000   \n",
              "\n",
              "       inconsistent_name     time_delta   nameProvided  User_five_star_only  \\\n",
              "count      568454.000000  568454.000000  568454.000000        568454.000000   \n",
              "mean            0.691460       0.836604       0.999944             0.469282   \n",
              "std             0.461891      19.563154       0.007503             0.499056   \n",
              "min             0.000000       0.000000       0.000000             0.000000   \n",
              "25%             0.000000       0.000000       1.000000             0.000000   \n",
              "50%             1.000000       0.000000       1.000000             0.000000   \n",
              "75%             1.000000       0.000000       1.000000             1.000000   \n",
              "max             1.000000    1859.000000       1.000000             1.000000   \n",
              "\n",
              "       User_one_star_only  Summary_word_count  Text_word_count  \n",
              "count       568454.000000       568454.000000    568454.000000  \n",
              "mean             0.063928            1.371493         1.234831  \n",
              "std              0.244624            0.867640         1.222391  \n",
              "min              0.000000            0.333333         0.046154  \n",
              "25%              0.000000            0.666667         0.507692  \n",
              "50%              0.000000            1.333333         0.861538  \n",
              "75%              0.000000            1.666667         1.507692  \n",
              "max              1.000000           14.000000        52.800000  "
            ]
          },
          "execution_count": 18,
          "metadata": {},
          "output_type": "execute_result"
        }
      ],
      "source": [
        "rs = RobustScaler(with_centering = False)\n",
        "df4 = rs.fit_transform(df2)\n",
        "pd.DataFrame(df4, columns = df2.columns).describe()"
      ],
      "id": "p1smuWOnbdEh"
    },
    {
      "cell_type": "markdown",
      "metadata": {
        "id": "3S-1ujGxMcoC"
      },
      "source": [
        "The robust scaler is not a good candidate as the scales are different for the features."
      ],
      "id": "3S-1ujGxMcoC"
    },
    {
      "cell_type": "code",
      "execution_count": null,
      "metadata": {
        "colab": {
          "base_uri": "https://localhost:8080/",
          "height": 446
        },
        "id": "S8dTZOzrbdB5",
        "outputId": "6230c93e-4c32-4e38-869b-311a0b4988a9"
      },
      "outputs": [
        {
          "data": {
            "text/html": [
              "\n",
              "  <div id=\"df-646659af-9666-43df-a01b-3627b10810cc\">\n",
              "    <div class=\"colab-df-container\">\n",
              "      <div>\n",
              "<style scoped>\n",
              "    .dataframe tbody tr th:only-of-type {\n",
              "        vertical-align: middle;\n",
              "    }\n",
              "\n",
              "    .dataframe tbody tr th {\n",
              "        vertical-align: top;\n",
              "    }\n",
              "\n",
              "    .dataframe thead th {\n",
              "        text-align: right;\n",
              "    }\n",
              "</style>\n",
              "<table border=\"1\" class=\"dataframe\">\n",
              "  <thead>\n",
              "    <tr style=\"text-align: right;\">\n",
              "      <th></th>\n",
              "      <th>HelpfulnessNumerator</th>\n",
              "      <th>HelpfulnessDenominator</th>\n",
              "      <th>Score</th>\n",
              "      <th>inconsistent_name</th>\n",
              "      <th>time_delta</th>\n",
              "      <th>nameProvided</th>\n",
              "      <th>User_five_star_only</th>\n",
              "      <th>User_one_star_only</th>\n",
              "      <th>Summary_word_count</th>\n",
              "      <th>Text_word_count</th>\n",
              "    </tr>\n",
              "  </thead>\n",
              "  <tbody>\n",
              "    <tr>\n",
              "      <th>count</th>\n",
              "      <td>5.684540e+05</td>\n",
              "      <td>5.684540e+05</td>\n",
              "      <td>5.684540e+05</td>\n",
              "      <td>5.684540e+05</td>\n",
              "      <td>5.684540e+05</td>\n",
              "      <td>5.684540e+05</td>\n",
              "      <td>5.684540e+05</td>\n",
              "      <td>5.684540e+05</td>\n",
              "      <td>5.684540e+05</td>\n",
              "      <td>5.684540e+05</td>\n",
              "    </tr>\n",
              "    <tr>\n",
              "      <th>mean</th>\n",
              "      <td>-1.419951e-17</td>\n",
              "      <td>5.919794e-17</td>\n",
              "      <td>3.756369e-16</td>\n",
              "      <td>6.019790e-17</td>\n",
              "      <td>-2.149925e-18</td>\n",
              "      <td>-1.012040e-15</td>\n",
              "      <td>-2.969896e-17</td>\n",
              "      <td>-5.399812e-17</td>\n",
              "      <td>1.317954e-16</td>\n",
              "      <td>-7.529738e-17</td>\n",
              "    </tr>\n",
              "    <tr>\n",
              "      <th>std</th>\n",
              "      <td>1.000001e+00</td>\n",
              "      <td>1.000001e+00</td>\n",
              "      <td>1.000001e+00</td>\n",
              "      <td>1.000001e+00</td>\n",
              "      <td>1.000001e+00</td>\n",
              "      <td>1.000001e+00</td>\n",
              "      <td>1.000001e+00</td>\n",
              "      <td>1.000001e+00</td>\n",
              "      <td>1.000001e+00</td>\n",
              "      <td>1.000001e+00</td>\n",
              "    </tr>\n",
              "    <tr>\n",
              "      <th>min</th>\n",
              "      <td>-2.283528e-01</td>\n",
              "      <td>-2.688639e-01</td>\n",
              "      <td>-2.429116e+00</td>\n",
              "      <td>-1.497019e+00</td>\n",
              "      <td>-4.276432e-02</td>\n",
              "      <td>-1.332786e+02</td>\n",
              "      <td>-9.403395e-01</td>\n",
              "      <td>-2.613305e-01</td>\n",
              "      <td>-1.196534e+00</td>\n",
              "      <td>-9.724211e-01</td>\n",
              "    </tr>\n",
              "    <tr>\n",
              "      <th>25%</th>\n",
              "      <td>-2.283528e-01</td>\n",
              "      <td>-2.688639e-01</td>\n",
              "      <td>-1.397999e-01</td>\n",
              "      <td>-1.497019e+00</td>\n",
              "      <td>-4.276432e-02</td>\n",
              "      <td>7.503080e-03</td>\n",
              "      <td>-9.403395e-01</td>\n",
              "      <td>-2.613305e-01</td>\n",
              "      <td>-8.123500e-01</td>\n",
              "      <td>-5.948504e-01</td>\n",
              "    </tr>\n",
              "    <tr>\n",
              "      <th>50%</th>\n",
              "      <td>-2.283528e-01</td>\n",
              "      <td>-1.482328e-01</td>\n",
              "      <td>6.233056e-01</td>\n",
              "      <td>6.679940e-01</td>\n",
              "      <td>-4.276432e-02</td>\n",
              "      <td>7.503080e-03</td>\n",
              "      <td>-9.403395e-01</td>\n",
              "      <td>-2.613305e-01</td>\n",
              "      <td>-4.398102e-02</td>\n",
              "      <td>-3.053795e-01</td>\n",
              "    </tr>\n",
              "    <tr>\n",
              "      <th>75%</th>\n",
              "      <td>3.354709e-02</td>\n",
              "      <td>-2.760162e-02</td>\n",
              "      <td>6.233056e-01</td>\n",
              "      <td>6.679940e-01</td>\n",
              "      <td>-4.276432e-02</td>\n",
              "      <td>7.503080e-03</td>\n",
              "      <td>1.063446e+00</td>\n",
              "      <td>-2.613305e-01</td>\n",
              "      <td>3.402034e-01</td>\n",
              "      <td>2.232195e-01</td>\n",
              "    </tr>\n",
              "    <tr>\n",
              "      <th>max</th>\n",
              "      <td>1.131743e+02</td>\n",
              "      <td>1.110737e+02</td>\n",
              "      <td>6.233056e-01</td>\n",
              "      <td>6.679940e-01</td>\n",
              "      <td>9.498290e+01</td>\n",
              "      <td>7.503080e-03</td>\n",
              "      <td>1.063446e+00</td>\n",
              "      <td>3.826572e+00</td>\n",
              "      <td>1.455503e+01</td>\n",
              "      <td>4.218391e+01</td>\n",
              "    </tr>\n",
              "  </tbody>\n",
              "</table>\n",
              "</div>\n",
              "      <button class=\"colab-df-convert\" onclick=\"convertToInteractive('df-646659af-9666-43df-a01b-3627b10810cc')\"\n",
              "              title=\"Convert this dataframe to an interactive table.\"\n",
              "              style=\"display:none;\">\n",
              "        \n",
              "  <svg xmlns=\"http://www.w3.org/2000/svg\" height=\"24px\"viewBox=\"0 0 24 24\"\n",
              "       width=\"24px\">\n",
              "    <path d=\"M0 0h24v24H0V0z\" fill=\"none\"/>\n",
              "    <path d=\"M18.56 5.44l.94 2.06.94-2.06 2.06-.94-2.06-.94-.94-2.06-.94 2.06-2.06.94zm-11 1L8.5 8.5l.94-2.06 2.06-.94-2.06-.94L8.5 2.5l-.94 2.06-2.06.94zm10 10l.94 2.06.94-2.06 2.06-.94-2.06-.94-.94-2.06-.94 2.06-2.06.94z\"/><path d=\"M17.41 7.96l-1.37-1.37c-.4-.4-.92-.59-1.43-.59-.52 0-1.04.2-1.43.59L10.3 9.45l-7.72 7.72c-.78.78-.78 2.05 0 2.83L4 21.41c.39.39.9.59 1.41.59.51 0 1.02-.2 1.41-.59l7.78-7.78 2.81-2.81c.8-.78.8-2.07 0-2.86zM5.41 20L4 18.59l7.72-7.72 1.47 1.35L5.41 20z\"/>\n",
              "  </svg>\n",
              "      </button>\n",
              "      \n",
              "  <style>\n",
              "    .colab-df-container {\n",
              "      display:flex;\n",
              "      flex-wrap:wrap;\n",
              "      gap: 12px;\n",
              "    }\n",
              "\n",
              "    .colab-df-convert {\n",
              "      background-color: #E8F0FE;\n",
              "      border: none;\n",
              "      border-radius: 50%;\n",
              "      cursor: pointer;\n",
              "      display: none;\n",
              "      fill: #1967D2;\n",
              "      height: 32px;\n",
              "      padding: 0 0 0 0;\n",
              "      width: 32px;\n",
              "    }\n",
              "\n",
              "    .colab-df-convert:hover {\n",
              "      background-color: #E2EBFA;\n",
              "      box-shadow: 0px 1px 2px rgba(60, 64, 67, 0.3), 0px 1px 3px 1px rgba(60, 64, 67, 0.15);\n",
              "      fill: #174EA6;\n",
              "    }\n",
              "\n",
              "    [theme=dark] .colab-df-convert {\n",
              "      background-color: #3B4455;\n",
              "      fill: #D2E3FC;\n",
              "    }\n",
              "\n",
              "    [theme=dark] .colab-df-convert:hover {\n",
              "      background-color: #434B5C;\n",
              "      box-shadow: 0px 1px 3px 1px rgba(0, 0, 0, 0.15);\n",
              "      filter: drop-shadow(0px 1px 2px rgba(0, 0, 0, 0.3));\n",
              "      fill: #FFFFFF;\n",
              "    }\n",
              "  </style>\n",
              "\n",
              "      <script>\n",
              "        const buttonEl =\n",
              "          document.querySelector('#df-646659af-9666-43df-a01b-3627b10810cc button.colab-df-convert');\n",
              "        buttonEl.style.display =\n",
              "          google.colab.kernel.accessAllowed ? 'block' : 'none';\n",
              "\n",
              "        async function convertToInteractive(key) {\n",
              "          const element = document.querySelector('#df-646659af-9666-43df-a01b-3627b10810cc');\n",
              "          const dataTable =\n",
              "            await google.colab.kernel.invokeFunction('convertToInteractive',\n",
              "                                                     [key], {});\n",
              "          if (!dataTable) return;\n",
              "\n",
              "          const docLinkHtml = 'Like what you see? Visit the ' +\n",
              "            '<a target=\"_blank\" href=https://colab.research.google.com/notebooks/data_table.ipynb>data table notebook</a>'\n",
              "            + ' to learn more about interactive tables.';\n",
              "          element.innerHTML = '';\n",
              "          dataTable['output_type'] = 'display_data';\n",
              "          await google.colab.output.renderOutput(dataTable, element);\n",
              "          const docLink = document.createElement('div');\n",
              "          docLink.innerHTML = docLinkHtml;\n",
              "          element.appendChild(docLink);\n",
              "        }\n",
              "      </script>\n",
              "    </div>\n",
              "  </div>\n",
              "  "
            ],
            "text/plain": [
              "       HelpfulnessNumerator  HelpfulnessDenominator         Score  \\\n",
              "count          5.684540e+05            5.684540e+05  5.684540e+05   \n",
              "mean          -1.419951e-17            5.919794e-17  3.756369e-16   \n",
              "std            1.000001e+00            1.000001e+00  1.000001e+00   \n",
              "min           -2.283528e-01           -2.688639e-01 -2.429116e+00   \n",
              "25%           -2.283528e-01           -2.688639e-01 -1.397999e-01   \n",
              "50%           -2.283528e-01           -1.482328e-01  6.233056e-01   \n",
              "75%            3.354709e-02           -2.760162e-02  6.233056e-01   \n",
              "max            1.131743e+02            1.110737e+02  6.233056e-01   \n",
              "\n",
              "       inconsistent_name    time_delta  nameProvided  User_five_star_only  \\\n",
              "count       5.684540e+05  5.684540e+05  5.684540e+05         5.684540e+05   \n",
              "mean        6.019790e-17 -2.149925e-18 -1.012040e-15        -2.969896e-17   \n",
              "std         1.000001e+00  1.000001e+00  1.000001e+00         1.000001e+00   \n",
              "min        -1.497019e+00 -4.276432e-02 -1.332786e+02        -9.403395e-01   \n",
              "25%        -1.497019e+00 -4.276432e-02  7.503080e-03        -9.403395e-01   \n",
              "50%         6.679940e-01 -4.276432e-02  7.503080e-03        -9.403395e-01   \n",
              "75%         6.679940e-01 -4.276432e-02  7.503080e-03         1.063446e+00   \n",
              "max         6.679940e-01  9.498290e+01  7.503080e-03         1.063446e+00   \n",
              "\n",
              "       User_one_star_only  Summary_word_count  Text_word_count  \n",
              "count        5.684540e+05        5.684540e+05     5.684540e+05  \n",
              "mean        -5.399812e-17        1.317954e-16    -7.529738e-17  \n",
              "std          1.000001e+00        1.000001e+00     1.000001e+00  \n",
              "min         -2.613305e-01       -1.196534e+00    -9.724211e-01  \n",
              "25%         -2.613305e-01       -8.123500e-01    -5.948504e-01  \n",
              "50%         -2.613305e-01       -4.398102e-02    -3.053795e-01  \n",
              "75%         -2.613305e-01        3.402034e-01     2.232195e-01  \n",
              "max          3.826572e+00        1.455503e+01     4.218391e+01  "
            ]
          },
          "execution_count": 19,
          "metadata": {},
          "output_type": "execute_result"
        }
      ],
      "source": [
        "ss = StandardScaler()\n",
        "df5 = ss.fit_transform(df2)\n",
        "pd.DataFrame(df5, columns = df2.columns).describe()"
      ],
      "id": "S8dTZOzrbdB5"
    },
    {
      "cell_type": "markdown",
      "metadata": {
        "id": "VzAoNEOxMqQ4"
      },
      "source": [
        "As we have seen previously, the data is heavily skewed and so using a standard scaler can heavily distort the data. The features are on different scales as well."
      ],
      "id": "VzAoNEOxMqQ4"
    },
    {
      "cell_type": "markdown",
      "metadata": {
        "id": "NLRhk086M3Lx"
      },
      "source": [
        "**Based on the above, the min max scaler seems to be the best as it brings the values between 0 and 1 while maintaing scale. The robust and standard scalers distort the data since the data is heavily skewed.**"
      ],
      "id": "NLRhk086M3Lx"
    },
    {
      "cell_type": "code",
      "execution_count": null,
      "metadata": {
        "id": "zRxl-u5Ebc_c"
      },
      "outputs": [],
      "source": [
        "#@title get tfidf tokens\n",
        "\n",
        "'''rs = 1\n",
        "sampleText = clean_df['Text'].sample(n = 50000, random_state = rs)\n",
        "sampleSummary = clean_df['Summary'].sample(n = 50000, random_state = rs)\n",
        "'''\n",
        "# to get text tokens which will be prepended with 'r_'\n",
        "text_tokens = tfidf(clean_df['Text'], tokenizer = spl_tokenizer, ngram_range = (1,2), min_df = 1000)\n",
        "# to get summary tokens which will be prepended with 's_'\n",
        "# summary_tokens = tfidf(clean_df['Summary'], tokenizer = spl_tokenizer, ngram_range = (1,2), min_df = 400)"
      ],
      "id": "zRxl-u5Ebc_c"
    },
    {
      "cell_type": "code",
      "execution_count": null,
      "metadata": {
        "colab": {
          "base_uri": "https://localhost:8080/"
        },
        "id": "VDfbBHFVTwom",
        "outputId": "2cfffb7c-874d-4d97-fb52-1cd1ab74e400"
      },
      "outputs": [
        {
          "output_type": "execute_result",
          "data": {
            "text/plain": [
              "(568454, 10)"
            ]
          },
          "metadata": {},
          "execution_count": 12
        }
      ],
      "source": [
        "# put the scaled into a dataframe\n",
        "df_scaled = pd.DataFrame(df3, columns = df2.columns)\n",
        "df_scaled.shape"
      ],
      "id": "VDfbBHFVTwom"
    },
    {
      "cell_type": "code",
      "execution_count": null,
      "metadata": {
        "id": "GB2DWIHAT3WC"
      },
      "outputs": [],
      "source": [
        "del df3, df2 # save memory"
      ],
      "id": "GB2DWIHAT3WC"
    },
    {
      "cell_type": "code",
      "execution_count": null,
      "metadata": {
        "colab": {
          "base_uri": "https://localhost:8080/",
          "height": 314
        },
        "id": "xtjqwCtIbcyr",
        "outputId": "066497c3-8a2f-435e-90ba-7a263fd6f115"
      },
      "outputs": [
        {
          "output_type": "execute_result",
          "data": {
            "text/plain": [
              "   HelpfulnessNumerator  HelpfulnessDenominator  Score  inconsistent_name  \\\n",
              "0              0.000000                0.000000    1.0                0.0   \n",
              "1              0.002309                0.002167    1.0                0.0   \n",
              "2              0.000000                0.000000    1.0                0.0   \n",
              "3              0.001155                0.002167    1.0                1.0   \n",
              "4              0.001155                0.002167    1.0                1.0   \n",
              "\n",
              "   time_delta  nameProvided  User_five_star_only  User_one_star_only  \\\n",
              "0         0.0           1.0                  1.0                 0.0   \n",
              "1         0.0           1.0                  1.0                 0.0   \n",
              "2         0.0           1.0                  1.0                 0.0   \n",
              "3         0.0           1.0                  1.0                 0.0   \n",
              "4         0.0           1.0                  1.0                 0.0   \n",
              "\n",
              "   Summary_word_count  Text_word_count  ...  s_wrong  s_year  s_yes  s_yet  \\\n",
              "0            0.073171         0.020706  ...      0.0     0.0    0.0    0.0   \n",
              "1            0.268293         0.021872  ...      0.0     0.0    0.0    0.0   \n",
              "2            0.024390         0.007582  ...      0.0     0.0    0.0    0.0   \n",
              "3            0.097561         0.009624  ...      0.0     0.0    0.0    0.0   \n",
              "4            0.097561         0.009624  ...      0.0     0.0    0.0    0.0   \n",
              "\n",
              "   s_youll  s_youre  s_yuck  s_yum  s_yum s_yum  s_yummy  \n",
              "0      0.0      0.0     0.0    0.0          0.0      0.0  \n",
              "1      0.0      0.0     0.0    0.0          0.0      0.0  \n",
              "2      0.0      0.0     0.0    0.0          0.0      0.0  \n",
              "3      0.0      0.0     0.0    0.0          0.0      0.0  \n",
              "4      0.0      0.0     0.0    0.0          0.0      0.0  \n",
              "\n",
              "[5 rows x 4063 columns]"
            ],
            "text/html": [
              "\n",
              "  <div id=\"df-eec46f88-3755-4535-b888-bb9b9a79aa3b\">\n",
              "    <div class=\"colab-df-container\">\n",
              "      <div>\n",
              "<style scoped>\n",
              "    .dataframe tbody tr th:only-of-type {\n",
              "        vertical-align: middle;\n",
              "    }\n",
              "\n",
              "    .dataframe tbody tr th {\n",
              "        vertical-align: top;\n",
              "    }\n",
              "\n",
              "    .dataframe thead th {\n",
              "        text-align: right;\n",
              "    }\n",
              "</style>\n",
              "<table border=\"1\" class=\"dataframe\">\n",
              "  <thead>\n",
              "    <tr style=\"text-align: right;\">\n",
              "      <th></th>\n",
              "      <th>HelpfulnessNumerator</th>\n",
              "      <th>HelpfulnessDenominator</th>\n",
              "      <th>Score</th>\n",
              "      <th>inconsistent_name</th>\n",
              "      <th>time_delta</th>\n",
              "      <th>nameProvided</th>\n",
              "      <th>User_five_star_only</th>\n",
              "      <th>User_one_star_only</th>\n",
              "      <th>Summary_word_count</th>\n",
              "      <th>Text_word_count</th>\n",
              "      <th>...</th>\n",
              "      <th>s_wrong</th>\n",
              "      <th>s_year</th>\n",
              "      <th>s_yes</th>\n",
              "      <th>s_yet</th>\n",
              "      <th>s_youll</th>\n",
              "      <th>s_youre</th>\n",
              "      <th>s_yuck</th>\n",
              "      <th>s_yum</th>\n",
              "      <th>s_yum s_yum</th>\n",
              "      <th>s_yummy</th>\n",
              "    </tr>\n",
              "  </thead>\n",
              "  <tbody>\n",
              "    <tr>\n",
              "      <th>0</th>\n",
              "      <td>0.000000</td>\n",
              "      <td>0.000000</td>\n",
              "      <td>1.0</td>\n",
              "      <td>0.0</td>\n",
              "      <td>0.0</td>\n",
              "      <td>1.0</td>\n",
              "      <td>1.0</td>\n",
              "      <td>0.0</td>\n",
              "      <td>0.073171</td>\n",
              "      <td>0.020706</td>\n",
              "      <td>...</td>\n",
              "      <td>0.0</td>\n",
              "      <td>0.0</td>\n",
              "      <td>0.0</td>\n",
              "      <td>0.0</td>\n",
              "      <td>0.0</td>\n",
              "      <td>0.0</td>\n",
              "      <td>0.0</td>\n",
              "      <td>0.0</td>\n",
              "      <td>0.0</td>\n",
              "      <td>0.0</td>\n",
              "    </tr>\n",
              "    <tr>\n",
              "      <th>1</th>\n",
              "      <td>0.002309</td>\n",
              "      <td>0.002167</td>\n",
              "      <td>1.0</td>\n",
              "      <td>0.0</td>\n",
              "      <td>0.0</td>\n",
              "      <td>1.0</td>\n",
              "      <td>1.0</td>\n",
              "      <td>0.0</td>\n",
              "      <td>0.268293</td>\n",
              "      <td>0.021872</td>\n",
              "      <td>...</td>\n",
              "      <td>0.0</td>\n",
              "      <td>0.0</td>\n",
              "      <td>0.0</td>\n",
              "      <td>0.0</td>\n",
              "      <td>0.0</td>\n",
              "      <td>0.0</td>\n",
              "      <td>0.0</td>\n",
              "      <td>0.0</td>\n",
              "      <td>0.0</td>\n",
              "      <td>0.0</td>\n",
              "    </tr>\n",
              "    <tr>\n",
              "      <th>2</th>\n",
              "      <td>0.000000</td>\n",
              "      <td>0.000000</td>\n",
              "      <td>1.0</td>\n",
              "      <td>0.0</td>\n",
              "      <td>0.0</td>\n",
              "      <td>1.0</td>\n",
              "      <td>1.0</td>\n",
              "      <td>0.0</td>\n",
              "      <td>0.024390</td>\n",
              "      <td>0.007582</td>\n",
              "      <td>...</td>\n",
              "      <td>0.0</td>\n",
              "      <td>0.0</td>\n",
              "      <td>0.0</td>\n",
              "      <td>0.0</td>\n",
              "      <td>0.0</td>\n",
              "      <td>0.0</td>\n",
              "      <td>0.0</td>\n",
              "      <td>0.0</td>\n",
              "      <td>0.0</td>\n",
              "      <td>0.0</td>\n",
              "    </tr>\n",
              "    <tr>\n",
              "      <th>3</th>\n",
              "      <td>0.001155</td>\n",
              "      <td>0.002167</td>\n",
              "      <td>1.0</td>\n",
              "      <td>1.0</td>\n",
              "      <td>0.0</td>\n",
              "      <td>1.0</td>\n",
              "      <td>1.0</td>\n",
              "      <td>0.0</td>\n",
              "      <td>0.097561</td>\n",
              "      <td>0.009624</td>\n",
              "      <td>...</td>\n",
              "      <td>0.0</td>\n",
              "      <td>0.0</td>\n",
              "      <td>0.0</td>\n",
              "      <td>0.0</td>\n",
              "      <td>0.0</td>\n",
              "      <td>0.0</td>\n",
              "      <td>0.0</td>\n",
              "      <td>0.0</td>\n",
              "      <td>0.0</td>\n",
              "      <td>0.0</td>\n",
              "    </tr>\n",
              "    <tr>\n",
              "      <th>4</th>\n",
              "      <td>0.001155</td>\n",
              "      <td>0.002167</td>\n",
              "      <td>1.0</td>\n",
              "      <td>1.0</td>\n",
              "      <td>0.0</td>\n",
              "      <td>1.0</td>\n",
              "      <td>1.0</td>\n",
              "      <td>0.0</td>\n",
              "      <td>0.097561</td>\n",
              "      <td>0.009624</td>\n",
              "      <td>...</td>\n",
              "      <td>0.0</td>\n",
              "      <td>0.0</td>\n",
              "      <td>0.0</td>\n",
              "      <td>0.0</td>\n",
              "      <td>0.0</td>\n",
              "      <td>0.0</td>\n",
              "      <td>0.0</td>\n",
              "      <td>0.0</td>\n",
              "      <td>0.0</td>\n",
              "      <td>0.0</td>\n",
              "    </tr>\n",
              "  </tbody>\n",
              "</table>\n",
              "<p>5 rows × 4063 columns</p>\n",
              "</div>\n",
              "      <button class=\"colab-df-convert\" onclick=\"convertToInteractive('df-eec46f88-3755-4535-b888-bb9b9a79aa3b')\"\n",
              "              title=\"Convert this dataframe to an interactive table.\"\n",
              "              style=\"display:none;\">\n",
              "        \n",
              "  <svg xmlns=\"http://www.w3.org/2000/svg\" height=\"24px\"viewBox=\"0 0 24 24\"\n",
              "       width=\"24px\">\n",
              "    <path d=\"M0 0h24v24H0V0z\" fill=\"none\"/>\n",
              "    <path d=\"M18.56 5.44l.94 2.06.94-2.06 2.06-.94-2.06-.94-.94-2.06-.94 2.06-2.06.94zm-11 1L8.5 8.5l.94-2.06 2.06-.94-2.06-.94L8.5 2.5l-.94 2.06-2.06.94zm10 10l.94 2.06.94-2.06 2.06-.94-2.06-.94-.94-2.06-.94 2.06-2.06.94z\"/><path d=\"M17.41 7.96l-1.37-1.37c-.4-.4-.92-.59-1.43-.59-.52 0-1.04.2-1.43.59L10.3 9.45l-7.72 7.72c-.78.78-.78 2.05 0 2.83L4 21.41c.39.39.9.59 1.41.59.51 0 1.02-.2 1.41-.59l7.78-7.78 2.81-2.81c.8-.78.8-2.07 0-2.86zM5.41 20L4 18.59l7.72-7.72 1.47 1.35L5.41 20z\"/>\n",
              "  </svg>\n",
              "      </button>\n",
              "      \n",
              "  <style>\n",
              "    .colab-df-container {\n",
              "      display:flex;\n",
              "      flex-wrap:wrap;\n",
              "      gap: 12px;\n",
              "    }\n",
              "\n",
              "    .colab-df-convert {\n",
              "      background-color: #E8F0FE;\n",
              "      border: none;\n",
              "      border-radius: 50%;\n",
              "      cursor: pointer;\n",
              "      display: none;\n",
              "      fill: #1967D2;\n",
              "      height: 32px;\n",
              "      padding: 0 0 0 0;\n",
              "      width: 32px;\n",
              "    }\n",
              "\n",
              "    .colab-df-convert:hover {\n",
              "      background-color: #E2EBFA;\n",
              "      box-shadow: 0px 1px 2px rgba(60, 64, 67, 0.3), 0px 1px 3px 1px rgba(60, 64, 67, 0.15);\n",
              "      fill: #174EA6;\n",
              "    }\n",
              "\n",
              "    [theme=dark] .colab-df-convert {\n",
              "      background-color: #3B4455;\n",
              "      fill: #D2E3FC;\n",
              "    }\n",
              "\n",
              "    [theme=dark] .colab-df-convert:hover {\n",
              "      background-color: #434B5C;\n",
              "      box-shadow: 0px 1px 3px 1px rgba(0, 0, 0, 0.15);\n",
              "      filter: drop-shadow(0px 1px 2px rgba(0, 0, 0, 0.3));\n",
              "      fill: #FFFFFF;\n",
              "    }\n",
              "  </style>\n",
              "\n",
              "      <script>\n",
              "        const buttonEl =\n",
              "          document.querySelector('#df-eec46f88-3755-4535-b888-bb9b9a79aa3b button.colab-df-convert');\n",
              "        buttonEl.style.display =\n",
              "          google.colab.kernel.accessAllowed ? 'block' : 'none';\n",
              "\n",
              "        async function convertToInteractive(key) {\n",
              "          const element = document.querySelector('#df-eec46f88-3755-4535-b888-bb9b9a79aa3b');\n",
              "          const dataTable =\n",
              "            await google.colab.kernel.invokeFunction('convertToInteractive',\n",
              "                                                     [key], {});\n",
              "          if (!dataTable) return;\n",
              "\n",
              "          const docLinkHtml = 'Like what you see? Visit the ' +\n",
              "            '<a target=\"_blank\" href=https://colab.research.google.com/notebooks/data_table.ipynb>data table notebook</a>'\n",
              "            + ' to learn more about interactive tables.';\n",
              "          element.innerHTML = '';\n",
              "          dataTable['output_type'] = 'display_data';\n",
              "          await google.colab.output.renderOutput(dataTable, element);\n",
              "          const docLink = document.createElement('div');\n",
              "          docLink.innerHTML = docLinkHtml;\n",
              "          element.appendChild(docLink);\n",
              "        }\n",
              "      </script>\n",
              "    </div>\n",
              "  </div>\n",
              "  "
            ]
          },
          "metadata": {},
          "execution_count": 14
        }
      ],
      "source": [
        "# concatenate the scaled non-token features and the review & summary tokens\n",
        "df_final = pd.concat([df_scaled, text_tokens, summary_tokens], axis = 1)\n",
        "df_final.to_csv('all_tokens_scaled.csv', index=False)\n",
        "df_final.head()"
      ],
      "id": "xtjqwCtIbcyr"
    },
    {
      "cell_type": "code",
      "source": [
        "df_final1 = pd.concat([df_scaled, text_tokens], axis = 1)\n",
        "df_final1.to_csv('text_tokens_scaled.csv', index=False)\n",
        "df_final1.shape"
      ],
      "metadata": {
        "id": "Gj8VAl6JFleP",
        "colab": {
          "base_uri": "https://localhost:8080/"
        },
        "outputId": "7297090e-a08d-44c6-d355-e0981fdf1bd5"
      },
      "id": "Gj8VAl6JFleP",
      "execution_count": null,
      "outputs": [
        {
          "output_type": "execute_result",
          "data": {
            "text/plain": [
              "(568454, 3333)"
            ]
          },
          "metadata": {},
          "execution_count": 14
        }
      ]
    },
    {
      "cell_type": "code",
      "execution_count": null,
      "metadata": {
        "id": "PcKNKcAXyyrF"
      },
      "outputs": [],
      "source": [
        "#del text_tokens, summary_tokens, df_scaled # save memory\n",
        "del text_tokens, df_scaled # save memory"
      ],
      "id": "PcKNKcAXyyrF"
    },
    {
      "cell_type": "markdown",
      "metadata": {
        "id": "MlXX3QVY1D3q"
      },
      "source": [
        "# PCA"
      ],
      "id": "MlXX3QVY1D3q"
    },
    {
      "cell_type": "code",
      "execution_count": null,
      "metadata": {
        "id": "G0kbdw5BTYVy"
      },
      "outputs": [],
      "source": [
        "#df_final = pd.read_csv('all_tokens_scaled.csv')\n",
        "df_final1 = pd.read_csv('text_tokens_scaled.csv')"
      ],
      "id": "G0kbdw5BTYVy"
    },
    {
      "cell_type": "code",
      "source": [
        "df_final1.shape"
      ],
      "metadata": {
        "colab": {
          "base_uri": "https://localhost:8080/"
        },
        "id": "xO6ZBdi3-lRW",
        "outputId": "90f56bc9-c0cd-4918-87c9-46727cc8830f"
      },
      "id": "xO6ZBdi3-lRW",
      "execution_count": null,
      "outputs": [
        {
          "output_type": "execute_result",
          "data": {
            "text/plain": [
              "(568454, 3333)"
            ]
          },
          "metadata": {},
          "execution_count": 18
        }
      ]
    },
    {
      "cell_type": "code",
      "source": [
        "#@title PCA (IncrementalPCA)\n",
        "\n",
        "from sklearn.decomposition import IncrementalPCA\n",
        "\n",
        "# Define the batch size (number of samples to process at a time)\n",
        "batch_size = 1000\n",
        "num_features = 3333\n",
        "# Create an IPCA instance\n",
        "ipca = IncrementalPCA(n_components = 400)\n",
        "\n",
        "# Initialize an empty array to store the principal components\n",
        "pcs = np.empty((0, 400))\n",
        "\n",
        "# Open the file and read it in batches\n",
        "with open('text_tokens_scaled.csv', 'r') as file:\n",
        "    header = file.readline()  # Skip the header\n",
        "    data_batch = np.empty((0, num_features))  # Initialize an empty batch\n",
        "\n",
        "    for line in file:\n",
        "        # Process each line and convert it to a numpy array\n",
        "        sample = np.fromstring(line.strip(), sep=',')\n",
        "\n",
        "        # Append the sample to the batch\n",
        "        data_batch = np.vstack((data_batch, sample))\n",
        "\n",
        "        # If the batch size is reached, perform IPCA on the batch\n",
        "        if len(data_batch) == batch_size:\n",
        "            ipca.partial_fit(data_batch)\n",
        "            pcs_batch = ipca.transform(data_batch)\n",
        "            pcs = np.vstack((pcs, pcs_batch))\n",
        "            data_batch = np.empty((0, num_features))  # Reset the batch\n",
        "\n",
        "    # Perform IPCA on the remaining samples (less than the batch size)\n",
        "    ipca.partial_fit(data_batch)\n",
        "    pcs_batch = ipca.transform(data_batch)\n",
        "    pcs = np.vstack((pcs, pcs_batch))"
      ],
      "metadata": {
        "id": "pUGgcgmdlCrB"
      },
      "id": "pUGgcgmdlCrB",
      "execution_count": null,
      "outputs": []
    },
    {
      "cell_type": "code",
      "source": [
        "# Plot the explained variances\n",
        "plt.figure(figsize=(10, 4))\n",
        "plt.plot(range(400), ipca.explained_variance_ratio_)\n",
        "plt.xlabel('PCA features')\n",
        "plt.ylabel('Explained variance %')\n",
        "plt.xticks(range(0, 401, 25))\n",
        "plt.title('Explained variance % of Principal Components')\n",
        "plt.show()"
      ],
      "metadata": {
        "colab": {
          "base_uri": "https://localhost:8080/",
          "height": 410
        },
        "id": "acOyF_Q2kTSL",
        "outputId": "915f3103-c708-4a40-b96d-b25592eb3ade"
      },
      "id": "acOyF_Q2kTSL",
      "execution_count": null,
      "outputs": [
        {
          "output_type": "display_data",
          "data": {
            "text/plain": [
              "<Figure size 1000x400 with 1 Axes>"
            ],
            "image/png": "[encoded data removed]"
          },
          "metadata": {}
        }
      ]
    },
    {
      "cell_type": "code",
      "execution_count": null,
      "metadata": {
        "id": "rxFbgSRb0LlN"
      },
      "outputs": [],
      "source": [
        "# Create a PCA instance: pca\n",
        "#pca = PCA(n_components = 400)\n",
        "#pcs = pca.fit_transform(df_final)\n",
        "\n",
        "# file is too big to use original PCA!"
      ],
      "id": "rxFbgSRb0LlN"
    },
    {
      "cell_type": "code",
      "execution_count": null,
      "metadata": {
        "colab": {
          "base_uri": "https://localhost:8080/",
          "height": 410
        },
        "id": "70GlPCD80Lni",
        "outputId": "146ee9ec-d6f9-4191-fe49-96db935e6c32"
      },
      "outputs": [
        {
          "output_type": "display_data",
          "data": {
            "text/plain": [
              "<Figure size 1000x400 with 1 Axes>"
            ],
            "image/png": "[encoded data removed]"
          },
          "metadata": {}
        }
      ],
      "source": [
        "# Plot the cumulative sum of explained variances\n",
        "plt.figure(figsize=(10,4))\n",
        "plt.plot(range(400), ipca.explained_variance_ratio_.cumsum()[0:400])\n",
        "plt.xlabel('PCA features')\n",
        "plt.ylabel('cumulative sum of explained variance %')\n",
        "plt.xticks(range(0,501,25))\n",
        "plt.title('Cumulative Sum of Explained variance % of Principal Components')\n",
        "plt.show()"
      ],
      "id": "70GlPCD80Lni"
    },
    {
      "cell_type": "markdown",
      "metadata": {
        "id": "6VxWDMreeA_i"
      },
      "source": [
        "From the above, we want to have as much explained variance as possible from the least number of principal components. As a rough guide, I want to be able to have at least 90% explained variance."
      ],
      "id": "6VxWDMreeA_i"
    },
    {
      "cell_type": "code",
      "execution_count": null,
      "metadata": {
        "id": "w0EbgaMZ0Lsf"
      },
      "outputs": [],
      "source": [
        "# Save components to a DataFrame\n",
        "PCA_components = pd.DataFrame(pcs)\n",
        "PCA_components.to_csv('PCA_components.csv', index=False)"
      ],
      "id": "w0EbgaMZ0Lsf"
    },
    {
      "cell_type": "code",
      "execution_count": null,
      "metadata": {
        "colab": {
          "base_uri": "https://localhost:8080/"
        },
        "id": "tcgJtzcv0LvX",
        "outputId": "adb4c5d5-0abb-4f4e-ae64-f648018eb005"
      },
      "outputs": [
        {
          "output_type": "execute_result",
          "data": {
            "text/plain": [
              "0.6318999664273117"
            ]
          },
          "metadata": {},
          "execution_count": 19
        }
      ],
      "source": [
        "#explained variance for 300 PCs\n",
        "ipca.explained_variance_ratio_.cumsum()[300]"
      ],
      "id": "tcgJtzcv0LvX"
    },
    {
      "cell_type": "code",
      "source": [
        "#explained variance for 350 PCs\n",
        "ipca.explained_variance_ratio_.cumsum()[350]"
      ],
      "metadata": {
        "colab": {
          "base_uri": "https://localhost:8080/"
        },
        "id": "oavsqWHv39AV",
        "outputId": "ff3f50ed-a136-458a-cdab-42cc79fc62c9"
      },
      "id": "oavsqWHv39AV",
      "execution_count": null,
      "outputs": [
        {
          "output_type": "execute_result",
          "data": {
            "text/plain": [
              "0.6502588822051865"
            ]
          },
          "metadata": {},
          "execution_count": 22
        }
      ]
    },
    {
      "cell_type": "code",
      "execution_count": null,
      "metadata": {
        "colab": {
          "base_uri": "https://localhost:8080/"
        },
        "id": "L7XO_XqEeM49",
        "outputId": "f6c27314-a912-4e62-a6fb-62044bc0bc0e"
      },
      "outputs": [
        {
          "output_type": "execute_result",
          "data": {
            "text/plain": [
              "0.6648120514760434"
            ]
          },
          "metadata": {},
          "execution_count": 24
        }
      ],
      "source": [
        "#explained variance for 399 PCs\n",
        "ipca.explained_variance_ratio_.cumsum()[399]"
      ],
      "id": "L7XO_XqEeM49"
    },
    {
      "cell_type": "markdown",
      "metadata": {
        "id": "PC8APCCZewqz"
      },
      "source": [
        "use **350 PCs** and get a decent tradeoff: 50 more features for 2% increase in explained variance compared to 300 PCs."
      ],
      "id": "PC8APCCZewqz"
    },
    {
      "cell_type": "markdown",
      "source": [
        "# KMean"
      ],
      "metadata": {
        "id": "blTYhz2iA454"
      },
      "id": "blTYhz2iA454"
    },
    {
      "cell_type": "code",
      "execution_count": null,
      "metadata": {
        "id": "30DywfKUfJ8N"
      },
      "outputs": [],
      "source": [
        "from sklearn.cluster import KMeans"
      ],
      "id": "30DywfKUfJ8N"
    },
    {
      "cell_type": "code",
      "execution_count": null,
      "metadata": {
        "id": "fse7FXRwfJ5L"
      },
      "outputs": [],
      "source": [
        "k_values = range(8, 32)\n",
        "inertia_scores = []\n",
        "\n",
        "for k in k_values:\n",
        "    kmeans_model = KMeans(n_clusters = k, verbose = 1)\n",
        "    kmeans_model.fit(PCA_components.iloc[:, 0:350])\n",
        "    inertia = kmeans_model.inertia_\n",
        "    inertia_scores.append(inertia)"
      ],
      "id": "fse7FXRwfJ5L"
    },
    {
      "cell_type": "code",
      "execution_count": null,
      "metadata": {
        "colab": {
          "base_uri": "https://localhost:8080/",
          "height": 472
        },
        "id": "WMhRK35DfJ2Y",
        "outputId": "c0071766-7561-41be-aed5-815957ceee1c"
      },
      "outputs": [
        {
          "output_type": "display_data",
          "data": {
            "text/plain": [
              "<Figure size 640x480 with 1 Axes>"
            ],
            "image/png": "[encoded data removed]"
          },
          "metadata": {}
        }
      ],
      "source": [
        "plt.figure()\n",
        "plt.plot(k_values, inertia_scores)\n",
        "plt.xlabel('num of clusters')\n",
        "plt.ylabel('score')\n",
        "plt.title('inertia')\n",
        "plt.xticks(k_values)\n",
        "plt.grid()\n",
        "# plt.ylim(0, 580000)\n",
        "plt.show()"
      ],
      "id": "WMhRK35DfJ2Y"
    },
    {
      "cell_type": "markdown",
      "metadata": {
        "id": "1Ixb6MANf97-"
      },
      "source": [
        "Based on the graph, there is a decrease in the slope at the following number of clusters: 18, 22, 30. For simplicity and computation cost saving, we choose 18."
      ],
      "id": "1Ixb6MANf97-"
    },
    {
      "cell_type": "code",
      "execution_count": null,
      "metadata": {
        "id": "sREqwaIrfJz5",
        "colab": {
          "base_uri": "https://localhost:8080/",
          "height": 1000
        },
        "outputId": "a8b98a8c-1bff-4cd8-f20a-6ee273e56f00"
      },
      "outputs": [
        {
          "output_type": "stream",
          "name": "stdout",
          "text": [
            "Initialization complete\n",
            "Iteration 0, inertia 426218.2860917036.\n",
            "Iteration 1, inertia 256303.92877742776.\n",
            "Iteration 2, inertia 254208.83671752713.\n",
            "Iteration 3, inertia 253454.44021310133.\n",
            "Iteration 4, inertia 252771.50755774253.\n",
            "Iteration 5, inertia 252479.07736753457.\n",
            "Iteration 6, inertia 252403.34008561794.\n",
            "Iteration 7, inertia 252138.73477900756.\n",
            "Iteration 8, inertia 251962.63073747838.\n",
            "Iteration 9, inertia 251864.31656040993.\n",
            "Iteration 10, inertia 251651.8801132323.\n",
            "Iteration 11, inertia 251141.99462445505.\n",
            "Iteration 12, inertia 250862.78845917934.\n",
            "Iteration 13, inertia 250806.52826909366.\n",
            "Iteration 14, inertia 250805.08325298518.\n",
            "Iteration 15, inertia 250803.5649609031.\n",
            "Iteration 16, inertia 250801.49076414428.\n",
            "Iteration 17, inertia 250798.79035163386.\n",
            "Iteration 18, inertia 250794.94039413467.\n",
            "Iteration 19, inertia 250789.8738837613.\n",
            "Iteration 20, inertia 250783.37484641225.\n",
            "Iteration 21, inertia 250774.67111039782.\n",
            "Iteration 22, inertia 250762.9500664254.\n",
            "Iteration 23, inertia 250750.36973503936.\n",
            "Iteration 24, inertia 250740.6699803577.\n",
            "Iteration 25, inertia 250736.49641377397.\n",
            "Iteration 26, inertia 250735.3457516459.\n",
            "Iteration 27, inertia 250735.01767166224.\n",
            "Iteration 28, inertia 250734.92890938584.\n",
            "Iteration 29, inertia 250734.8898988043.\n",
            "Iteration 30, inertia 250734.86466273665.\n",
            "Iteration 31, inertia 250734.85618205872.\n",
            "Converged at iteration 31: center shift 1.5940962470948436e-07 within tolerance 3.0037686983517413e-07.\n",
            "Initialization complete\n",
            "Iteration 0, inertia 454515.1150519149.\n",
            "Iteration 1, inertia 267963.9205443258.\n",
            "Iteration 2, inertia 264783.614725969.\n",
            "Iteration 3, inertia 260627.73303288175.\n",
            "Iteration 4, inertia 259492.82059548987.\n",
            "Iteration 5, inertia 259386.24041750445.\n",
            "Iteration 6, inertia 259335.60137191438.\n",
            "Iteration 7, inertia 259312.32819824992.\n",
            "Iteration 8, inertia 259300.79626437073.\n",
            "Iteration 9, inertia 259294.6171639207.\n",
            "Iteration 10, inertia 259291.17638828923.\n",
            "Iteration 11, inertia 259288.84497114556.\n",
            "Iteration 12, inertia 259287.05895564752.\n",
            "Iteration 13, inertia 259285.4701348018.\n",
            "Iteration 14, inertia 259283.88407939373.\n",
            "Iteration 15, inertia 259282.49145827346.\n",
            "Iteration 16, inertia 259281.0371846518.\n",
            "Iteration 17, inertia 259279.171452764.\n",
            "Iteration 18, inertia 259276.35754851144.\n",
            "Iteration 19, inertia 259271.22219513642.\n",
            "Iteration 20, inertia 259260.72518564493.\n",
            "Iteration 21, inertia 259240.18348111416.\n",
            "Iteration 22, inertia 259215.36666780748.\n",
            "Iteration 23, inertia 259200.68037768226.\n",
            "Iteration 24, inertia 259195.5170077659.\n",
            "Iteration 25, inertia 259193.89464109662.\n",
            "Iteration 26, inertia 259193.20895904442.\n",
            "Iteration 27, inertia 259192.6870089514.\n",
            "Iteration 28, inertia 259192.17123838473.\n",
            "Iteration 29, inertia 259191.54479915326.\n",
            "Iteration 30, inertia 259190.78828118066.\n",
            "Iteration 31, inertia 259190.02907928708.\n",
            "Iteration 32, inertia 259189.17580580513.\n",
            "Iteration 33, inertia 259188.259003331.\n",
            "Iteration 34, inertia 259187.3484697404.\n",
            "Iteration 35, inertia 259186.41615292086.\n",
            "Iteration 36, inertia 259185.23453078192.\n",
            "Iteration 37, inertia 259183.74528380242.\n",
            "Iteration 38, inertia 259181.61002516325.\n",
            "Iteration 39, inertia 259178.3570188814.\n",
            "Iteration 40, inertia 259173.5987020586.\n",
            "Iteration 41, inertia 259166.4087558966.\n",
            "Iteration 42, inertia 259155.23073186158.\n",
            "Iteration 43, inertia 259135.564838689.\n",
            "Iteration 44, inertia 259105.21441928833.\n",
            "Iteration 45, inertia 259088.2851509141.\n",
            "Iteration 46, inertia 259085.87487095103.\n",
            "Iteration 47, inertia 259085.45751659863.\n",
            "Iteration 48, inertia 259085.3710085123.\n",
            "Iteration 49, inertia 259085.36019608637.\n",
            "Converged at iteration 49: center shift 2.697184216381263e-07 within tolerance 3.0037686983517413e-07.\n",
            "Initialization complete\n",
            "Iteration 0, inertia 413139.02240997035.\n",
            "Iteration 1, inertia 258477.99604387226.\n",
            "Iteration 2, inertia 250023.99127756443.\n",
            "Iteration 3, inertia 248644.70384560348.\n",
            "Iteration 4, inertia 248410.92960687546.\n",
            "Iteration 5, inertia 248326.56156284138.\n",
            "Iteration 6, inertia 248301.90301293536.\n",
            "Iteration 7, inertia 248284.82703663234.\n",
            "Iteration 8, inertia 248265.98997333323.\n",
            "Iteration 9, inertia 248249.7125525356.\n",
            "Iteration 10, inertia 248234.20988806197.\n",
            "Iteration 11, inertia 248216.1061663642.\n",
            "Iteration 12, inertia 248196.08132746172.\n",
            "Iteration 13, inertia 248175.7121949995.\n",
            "Iteration 14, inertia 248149.1866817499.\n",
            "Iteration 15, inertia 248106.671745822.\n",
            "Iteration 16, inertia 248066.0618417175.\n",
            "Iteration 17, inertia 248045.31331241006.\n",
            "Iteration 18, inertia 248032.59576453353.\n",
            "Iteration 19, inertia 248019.93150815475.\n",
            "Iteration 20, inertia 248004.56277035637.\n",
            "Iteration 21, inertia 247986.69913802584.\n",
            "Iteration 22, inertia 247971.21591758428.\n",
            "Iteration 23, inertia 247964.09333502015.\n",
            "Iteration 24, inertia 247962.09010587056.\n",
            "Iteration 25, inertia 247961.38200585562.\n",
            "Iteration 26, inertia 247961.1039639097.\n",
            "Iteration 27, inertia 247960.91757771856.\n",
            "Iteration 28, inertia 247960.5953041221.\n",
            "Iteration 29, inertia 247960.30866691557.\n",
            "Iteration 30, inertia 247960.02987118214.\n",
            "Iteration 31, inertia 247959.81919917875.\n",
            "Iteration 32, inertia 247959.5310715966.\n",
            "Iteration 33, inertia 247958.7127522313.\n",
            "Iteration 34, inertia 247957.24306553756.\n",
            "Iteration 35, inertia 247955.18733110809.\n",
            "Iteration 36, inertia 247952.6077641444.\n",
            "Iteration 37, inertia 247950.18273034444.\n",
            "Iteration 38, inertia 247947.22154109983.\n",
            "Iteration 39, inertia 247940.87721800682.\n",
            "Iteration 40, inertia 247927.24828088834.\n",
            "Iteration 41, inertia 247922.67326249342.\n",
            "Iteration 42, inertia 247922.5469151714.\n",
            "Iteration 43, inertia 247922.51285282217.\n",
            "Iteration 44, inertia 247922.5008275424.\n",
            "Iteration 45, inertia 247922.4889792864.\n",
            "Iteration 46, inertia 247922.45753940404.\n",
            "Converged at iteration 46: center shift 7.248735793874101e-08 within tolerance 3.0037686983517413e-07.\n",
            "Initialization complete\n",
            "Iteration 0, inertia 423595.46729169646.\n",
            "Iteration 1, inertia 252977.23350525848.\n",
            "Iteration 2, inertia 251295.64004875187.\n",
            "Iteration 3, inertia 251044.0086618401.\n",
            "Iteration 4, inertia 250928.8529088325.\n",
            "Iteration 5, inertia 250818.59000630793.\n",
            "Iteration 6, inertia 250692.6726439784.\n",
            "Iteration 7, inertia 250606.34733974465.\n",
            "Iteration 8, inertia 250550.69593870183.\n",
            "Iteration 9, inertia 250508.59783931196.\n",
            "Iteration 10, inertia 250484.2387088836.\n",
            "Iteration 11, inertia 250467.59124853305.\n",
            "Iteration 12, inertia 250451.30461128338.\n",
            "Iteration 13, inertia 250434.20715839294.\n",
            "Iteration 14, inertia 250415.8202401203.\n",
            "Iteration 15, inertia 250396.585973988.\n",
            "Iteration 16, inertia 250376.984333514.\n",
            "Iteration 17, inertia 250357.7370975223.\n",
            "Iteration 18, inertia 250325.56239227342.\n",
            "Iteration 19, inertia 250255.7612131234.\n",
            "Iteration 20, inertia 250139.57994779953.\n",
            "Iteration 21, inertia 250103.4362625349.\n",
            "Iteration 22, inertia 250099.486625222.\n",
            "Iteration 23, inertia 250097.37146311282.\n",
            "Iteration 24, inertia 250095.9830407399.\n",
            "Iteration 25, inertia 250095.28638701877.\n",
            "Iteration 26, inertia 250094.90280808054.\n",
            "Iteration 27, inertia 250094.70865435526.\n",
            "Iteration 28, inertia 250094.64374354828.\n",
            "Iteration 29, inertia 250094.62691109447.\n",
            "Iteration 30, inertia 250094.6106523747.\n",
            "Converged at iteration 30: center shift 1.718778285071645e-07 within tolerance 3.0037686983517413e-07.\n",
            "Initialization complete\n",
            "Iteration 0, inertia 425238.14746345405.\n",
            "Iteration 1, inertia 249181.21418746025.\n",
            "Iteration 2, inertia 245784.1663034236.\n",
            "Iteration 3, inertia 245160.270980956.\n",
            "Iteration 4, inertia 244864.53289164716.\n",
            "Iteration 5, inertia 244791.29507220114.\n",
            "Iteration 6, inertia 244747.508094825.\n",
            "Iteration 7, inertia 244707.22768730563.\n",
            "Iteration 8, inertia 244654.38946241132.\n",
            "Iteration 9, inertia 244555.77861611926.\n",
            "Iteration 10, inertia 244378.60063247243.\n",
            "Iteration 11, inertia 244204.65185740788.\n",
            "Iteration 12, inertia 244175.78159084535.\n",
            "Iteration 13, inertia 244168.4197480407.\n",
            "Iteration 14, inertia 244164.9196204504.\n",
            "Iteration 15, inertia 244162.62924986638.\n",
            "Iteration 16, inertia 244160.72719631845.\n",
            "Iteration 17, inertia 244159.0343268546.\n",
            "Iteration 18, inertia 244157.27959542527.\n",
            "Iteration 19, inertia 244155.3385238434.\n",
            "Iteration 20, inertia 244153.16550899108.\n",
            "Iteration 21, inertia 244150.4234920319.\n",
            "Iteration 22, inertia 244146.5540042879.\n",
            "Iteration 23, inertia 244140.90697798046.\n",
            "Iteration 24, inertia 244132.28282776.\n",
            "Iteration 25, inertia 244118.3738735751.\n",
            "Iteration 26, inertia 244098.8602454989.\n",
            "Iteration 27, inertia 244081.78905798582.\n",
            "Iteration 28, inertia 244074.85814676216.\n",
            "Iteration 29, inertia 244073.15994244043.\n",
            "Iteration 30, inertia 244072.41034686886.\n",
            "Iteration 31, inertia 244071.64089260544.\n",
            "Iteration 32, inertia 244070.7662229617.\n",
            "Iteration 33, inertia 244069.84022806538.\n",
            "Iteration 34, inertia 244068.81048914956.\n",
            "Iteration 35, inertia 244067.7403651414.\n",
            "Iteration 36, inertia 244066.750858904.\n",
            "Iteration 37, inertia 244065.84319867854.\n",
            "Iteration 38, inertia 244064.99519268586.\n",
            "Iteration 39, inertia 244064.0261687346.\n",
            "Iteration 40, inertia 244062.84290320036.\n",
            "Iteration 41, inertia 244061.10804156386.\n",
            "Iteration 42, inertia 244058.02729352235.\n",
            "Iteration 43, inertia 244052.1904546939.\n",
            "Iteration 44, inertia 244040.455529106.\n",
            "Iteration 45, inertia 244020.61609576753.\n",
            "Iteration 46, inertia 243999.76714804868.\n",
            "Iteration 47, inertia 243989.50246622338.\n",
            "Iteration 48, inertia 243986.48562626165.\n",
            "Iteration 49, inertia 243985.72928060158.\n",
            "Iteration 50, inertia 243985.5698913094.\n",
            "Iteration 51, inertia 243985.52486654356.\n",
            "Iteration 52, inertia 243985.51007685636.\n",
            "Iteration 53, inertia 243985.5071235612.\n",
            "Converged at iteration 53: center shift 7.973100508635651e-08 within tolerance 3.0037686983517413e-07.\n",
            "Initialization complete\n",
            "Iteration 0, inertia 441904.0275393971.\n",
            "Iteration 1, inertia 255733.8239545879.\n",
            "Iteration 2, inertia 249215.39312057398.\n",
            "Iteration 3, inertia 247838.05032693694.\n",
            "Iteration 4, inertia 247345.6413350136.\n",
            "Iteration 5, inertia 246780.56808878627.\n",
            "Iteration 6, inertia 246484.1628661624.\n",
            "Iteration 7, inertia 246275.81265025883.\n",
            "Iteration 8, inertia 246046.29781461056.\n",
            "Iteration 9, inertia 245974.65366875293.\n",
            "Iteration 10, inertia 245935.92062034018.\n",
            "Iteration 11, inertia 245900.28474021758.\n",
            "Iteration 12, inertia 245874.5384409971.\n",
            "Iteration 13, inertia 245858.82690887083.\n",
            "Iteration 14, inertia 245849.95162592066.\n",
            "Iteration 15, inertia 245841.3875655755.\n",
            "Iteration 16, inertia 245836.04318006808.\n",
            "Iteration 17, inertia 245832.4580786564.\n",
            "Iteration 18, inertia 245830.13049087662.\n",
            "Iteration 19, inertia 245828.69511554454.\n",
            "Iteration 20, inertia 245827.76788200013.\n",
            "Iteration 21, inertia 245827.30818460952.\n",
            "Iteration 22, inertia 245827.1031332304.\n",
            "Iteration 23, inertia 245827.03933897137.\n",
            "Iteration 24, inertia 245827.01529717486.\n",
            "Iteration 25, inertia 245827.0027581568.\n",
            "Iteration 26, inertia 245826.98774179717.\n",
            "Converged at iteration 26: center shift 1.5019908677564229e-07 within tolerance 3.0037686983517413e-07.\n",
            "Initialization complete\n",
            "Iteration 0, inertia 431756.77778194693.\n",
            "Iteration 1, inertia 254212.71203493653.\n",
            "Iteration 2, inertia 248360.1094724311.\n",
            "Iteration 3, inertia 243615.4146948572.\n",
            "Iteration 4, inertia 242949.894981567.\n",
            "Iteration 5, inertia 242713.30896750907.\n",
            "Iteration 6, inertia 242598.6446370744.\n",
            "Iteration 7, inertia 242524.38173770683.\n",
            "Iteration 8, inertia 242472.19703578862.\n",
            "Iteration 9, inertia 242454.13896838395.\n",
            "Iteration 10, inertia 242441.6305220152.\n",
            "Iteration 11, inertia 242416.1950832445.\n",
            "Iteration 12, inertia 242406.20229737926.\n",
            "Iteration 13, inertia 242405.7910849541.\n",
            "Iteration 14, inertia 242405.31854538468.\n",
            "Iteration 15, inertia 242404.83769166953.\n",
            "Iteration 16, inertia 242404.20143660778.\n",
            "Iteration 17, inertia 242403.61931701715.\n",
            "Iteration 18, inertia 242403.53344478516.\n",
            "Iteration 19, inertia 242403.50954549032.\n",
            "Iteration 20, inertia 242403.49242388122.\n",
            "Iteration 21, inertia 242403.4725651488.\n",
            "Converged at iteration 21: center shift 1.5813285302442539e-07 within tolerance 3.0037686983517413e-07.\n",
            "Initialization complete\n",
            "Iteration 0, inertia 400083.4642783938.\n",
            "Iteration 1, inertia 258744.91807389987.\n",
            "Iteration 2, inertia 249961.6928625562.\n",
            "Iteration 3, inertia 248501.25917432015.\n",
            "Iteration 4, inertia 248274.77049722592.\n",
            "Iteration 5, inertia 248129.48073589712.\n",
            "Iteration 6, inertia 248013.08016200108.\n",
            "Iteration 7, inertia 247860.89854754476.\n",
            "Iteration 8, inertia 247704.57271533442.\n",
            "Iteration 9, inertia 247666.01325304792.\n",
            "Iteration 10, inertia 247658.94199721716.\n",
            "Iteration 11, inertia 247655.30907799886.\n",
            "Iteration 12, inertia 247653.1245930892.\n",
            "Iteration 13, inertia 247651.19626406598.\n",
            "Iteration 14, inertia 247647.5913764051.\n",
            "Iteration 15, inertia 247637.24953480015.\n",
            "Iteration 16, inertia 247604.21311256118.\n",
            "Iteration 17, inertia 247574.7335827393.\n",
            "Iteration 18, inertia 247570.82271763455.\n",
            "Iteration 19, inertia 247570.01316479975.\n",
            "Iteration 20, inertia 247569.5888627845.\n",
            "Iteration 21, inertia 247569.30331600062.\n",
            "Iteration 22, inertia 247569.15337707783.\n",
            "Iteration 23, inertia 247569.02435695473.\n",
            "Iteration 24, inertia 247568.91496234544.\n",
            "Iteration 25, inertia 247568.82582635054.\n",
            "Iteration 26, inertia 247568.7645434046.\n",
            "Iteration 27, inertia 247568.71800143513.\n",
            "Iteration 28, inertia 247568.67984364755.\n",
            "Iteration 29, inertia 247568.64618638082.\n",
            "Iteration 30, inertia 247568.62269489886.\n",
            "Iteration 31, inertia 247568.60694442477.\n",
            "Iteration 32, inertia 247568.59216352642.\n",
            "Iteration 33, inertia 247568.5764538836.\n",
            "Iteration 34, inertia 247568.55829407473.\n",
            "Iteration 35, inertia 247568.54392407453.\n",
            "Iteration 36, inertia 247568.5310822049.\n",
            "Iteration 37, inertia 247568.52040398642.\n",
            "Converged at iteration 37: center shift 2.9419476579346345e-07 within tolerance 3.0037686983517413e-07.\n",
            "Initialization complete\n",
            "Iteration 0, inertia 423213.8403155863.\n",
            "Iteration 1, inertia 247389.14654783747.\n",
            "Iteration 2, inertia 245010.53263801534.\n",
            "Iteration 3, inertia 244676.3693939358.\n",
            "Iteration 4, inertia 244191.86725483256.\n",
            "Iteration 5, inertia 243827.15336772538.\n",
            "Iteration 6, inertia 243722.53193263564.\n",
            "Iteration 7, inertia 243693.46348577298.\n",
            "Iteration 8, inertia 243648.96213681865.\n",
            "Iteration 9, inertia 243569.0345084574.\n",
            "Iteration 10, inertia 243527.37153929894.\n",
            "Iteration 11, inertia 243489.22895211482.\n",
            "Iteration 12, inertia 243408.1170189148.\n",
            "Iteration 13, inertia 243281.31684957197.\n",
            "Iteration 14, inertia 243163.9526122158.\n",
            "Iteration 15, inertia 243116.1437785754.\n",
            "Iteration 16, inertia 243102.03425612106.\n",
            "Iteration 17, inertia 243095.7504783096.\n",
            "Iteration 18, inertia 243092.56268076526.\n",
            "Iteration 19, inertia 243089.8347630763.\n",
            "Iteration 20, inertia 243086.5691288369.\n",
            "Iteration 21, inertia 243081.43269985262.\n",
            "Iteration 22, inertia 243067.72610542658.\n",
            "Iteration 23, inertia 243049.56760157362.\n",
            "Iteration 24, inertia 243049.20808644174.\n",
            "Converged at iteration 24: center shift 7.341491157192163e-09 within tolerance 3.0037686983517413e-07.\n",
            "Initialization complete\n",
            "Iteration 0, inertia 427659.2709098088.\n",
            "Iteration 1, inertia 255151.9546925106.\n",
            "Iteration 2, inertia 247023.48546593921.\n",
            "Iteration 3, inertia 244036.544893634.\n",
            "Iteration 4, inertia 243617.47248973537.\n",
            "Iteration 5, inertia 243433.87690004805.\n",
            "Iteration 6, inertia 243375.15660282847.\n",
            "Iteration 7, inertia 243324.0195164567.\n",
            "Iteration 8, inertia 243304.41990104044.\n",
            "Iteration 9, inertia 243291.85081390134.\n",
            "Iteration 10, inertia 243281.35207591148.\n",
            "Iteration 11, inertia 243272.72616028073.\n",
            "Iteration 12, inertia 243267.2911368377.\n",
            "Iteration 13, inertia 243263.64430496725.\n",
            "Iteration 14, inertia 243261.28821688853.\n",
            "Iteration 15, inertia 243259.87471307165.\n",
            "Iteration 16, inertia 243258.97086208494.\n",
            "Iteration 17, inertia 243258.57040604012.\n",
            "Iteration 18, inertia 243258.3847327257.\n",
            "Iteration 19, inertia 243258.28743510856.\n",
            "Iteration 20, inertia 243258.24313257867.\n",
            "Iteration 21, inertia 243258.2347250485.\n",
            "Converged at iteration 21: center shift 2.699371592826407e-07 within tolerance 3.0037686983517413e-07.\n"
          ]
        },
        {
          "output_type": "execute_result",
          "data": {
            "text/plain": [
              "KMeans(n_clusters=18, verbose=1)"
            ],
            "text/html": [
              "<style>#sk-container-id-1 {color: black;background-color: white;}#sk-container-id-1 pre{padding: 0;}#sk-container-id-1 div.sk-toggleable {background-color: white;}#sk-container-id-1 label.sk-toggleable__label {cursor: pointer;display: block;width: 100%;margin-bottom: 0;padding: 0.3em;box-sizing: border-box;text-align: center;}#sk-container-id-1 label.sk-toggleable__label-arrow:before {content: \"▸\";float: left;margin-right: 0.25em;color: #696969;}#sk-container-id-1 label.sk-toggleable__label-arrow:hover:before {color: black;}#sk-container-id-1 div.sk-estimator:hover label.sk-toggleable__label-arrow:before {color: black;}#sk-container-id-1 div.sk-toggleable__content {max-height: 0;max-width: 0;overflow: hidden;text-align: left;background-color: #f0f8ff;}#sk-container-id-1 div.sk-toggleable__content pre {margin: 0.2em;color: black;border-radius: 0.25em;background-color: #f0f8ff;}#sk-container-id-1 input.sk-toggleable__control:checked~div.sk-toggleable__content {max-height: 200px;max-width: 100%;overflow: auto;}#sk-container-id-1 input.sk-toggleable__control:checked~label.sk-toggleable__label-arrow:before {content: \"▾\";}#sk-container-id-1 div.sk-estimator input.sk-toggleable__control:checked~label.sk-toggleable__label {background-color: #d4ebff;}#sk-container-id-1 div.sk-label input.sk-toggleable__control:checked~label.sk-toggleable__label {background-color: #d4ebff;}#sk-container-id-1 input.sk-hidden--visually {border: 0;clip: rect(1px 1px 1px 1px);clip: rect(1px, 1px, 1px, 1px);height: 1px;margin: -1px;overflow: hidden;padding: 0;position: absolute;width: 1px;}#sk-container-id-1 div.sk-estimator {font-family: monospace;background-color: #f0f8ff;border: 1px dotted black;border-radius: 0.25em;box-sizing: border-box;margin-bottom: 0.5em;}#sk-container-id-1 div.sk-estimator:hover {background-color: #d4ebff;}#sk-container-id-1 div.sk-parallel-item::after {content: \"\";width: 100%;border-bottom: 1px solid gray;flex-grow: 1;}#sk-container-id-1 div.sk-label:hover label.sk-toggleable__label {background-color: #d4ebff;}#sk-container-id-1 div.sk-serial::before {content: \"\";position: absolute;border-left: 1px solid gray;box-sizing: border-box;top: 0;bottom: 0;left: 50%;z-index: 0;}#sk-container-id-1 div.sk-serial {display: flex;flex-direction: column;align-items: center;background-color: white;padding-right: 0.2em;padding-left: 0.2em;position: relative;}#sk-container-id-1 div.sk-item {position: relative;z-index: 1;}#sk-container-id-1 div.sk-parallel {display: flex;align-items: stretch;justify-content: center;background-color: white;position: relative;}#sk-container-id-1 div.sk-item::before, #sk-container-id-1 div.sk-parallel-item::before {content: \"\";position: absolute;border-left: 1px solid gray;box-sizing: border-box;top: 0;bottom: 0;left: 50%;z-index: -1;}#sk-container-id-1 div.sk-parallel-item {display: flex;flex-direction: column;z-index: 1;position: relative;background-color: white;}#sk-container-id-1 div.sk-parallel-item:first-child::after {align-self: flex-end;width: 50%;}#sk-container-id-1 div.sk-parallel-item:last-child::after {align-self: flex-start;width: 50%;}#sk-container-id-1 div.sk-parallel-item:only-child::after {width: 0;}#sk-container-id-1 div.sk-dashed-wrapped {border: 1px dashed gray;margin: 0 0.4em 0.5em 0.4em;box-sizing: border-box;padding-bottom: 0.4em;background-color: white;}#sk-container-id-1 div.sk-label label {font-family: monospace;font-weight: bold;display: inline-block;line-height: 1.2em;}#sk-container-id-1 div.sk-label-container {text-align: center;}#sk-container-id-1 div.sk-container {/* jupyter's `normalize.less` sets `[hidden] { display: none; }` but bootstrap.min.css set `[hidden] { display: none !important; }` so we also need the `!important` here to be able to override the default hidden behavior on the sphinx rendered scikit-learn.org. See: https://github.com/scikit-learn/scikit-learn/issues/21755 */display: inline-block !important;position: relative;}#sk-container-id-1 div.sk-text-repr-fallback {display: none;}</style><div id=\"sk-container-id-1\" class=\"sk-top-container\"><div class=\"sk-text-repr-fallback\"><pre>KMeans(n_clusters=18, verbose=1)</pre><b>In a Jupyter environment, please rerun this cell to show the HTML representation or trust the notebook. <br />On GitHub, the HTML representation is unable to render, please try loading this page with nbviewer.org.</b></div><div class=\"sk-container\" hidden><div class=\"sk-item\"><div class=\"sk-estimator sk-toggleable\"><input class=\"sk-toggleable__control sk-hidden--visually\" id=\"sk-estimator-id-1\" type=\"checkbox\" checked><label for=\"sk-estimator-id-1\" class=\"sk-toggleable__label sk-toggleable__label-arrow\">KMeans</label><div class=\"sk-toggleable__content\"><pre>KMeans(n_clusters=18, verbose=1)</pre></div></div></div></div></div>"
            ]
          },
          "metadata": {},
          "execution_count": 23
        }
      ],
      "source": [
        "#@title KMeans with 18 clusters\n",
        "kmeans_model18 = KMeans(n_clusters = 18, verbose = 1)\n",
        "kmeans_model18.fit(PCA_components.iloc[:, 0:350])"
      ],
      "id": "sREqwaIrfJz5"
    },
    {
      "cell_type": "code",
      "execution_count": null,
      "metadata": {
        "colab": {
          "base_uri": "https://localhost:8080/"
        },
        "id": "6z5drJhKgE9l",
        "outputId": "4c1c1a9f-de98-4ee7-ea28-950938726c27"
      },
      "outputs": [
        {
          "output_type": "execute_result",
          "data": {
            "text/plain": [
              "['kmeans_model18.pkl']"
            ]
          },
          "metadata": {},
          "execution_count": 24
        }
      ],
      "source": [
        "import joblib\n",
        "\n",
        "joblib.dump(kmeans_model18, 'kmeans_model18.pkl')"
      ],
      "id": "6z5drJhKgE9l"
    },
    {
      "cell_type": "code",
      "execution_count": null,
      "metadata": {
        "id": "wVVk6q_wgE55"
      },
      "outputs": [],
      "source": [
        "# get 2 matrices\n",
        "# 1) data with principal components (PCs)\n",
        "# 2) PCs and features\n",
        "# only getting 350 PCs as those the model was fit only on those PCs\n",
        "data_pc_matrix = PCA_components.iloc[:, 0:350].to_numpy()\n",
        "pc_feature_matrix = ipca.components_[0:350, :]"
      ],
      "id": "wVVk6q_wgE55"
    },
    {
      "cell_type": "code",
      "execution_count": null,
      "metadata": {
        "id": "xmblWJbIfJuT"
      },
      "outputs": [],
      "source": [
        "# matrix multiplication to get the reviews back in terms of the original features\n",
        "# will then save this reconstructed data to a dataframe\n",
        "df_recon = pd.DataFrame(np.matmul(data_pc_matrix, pc_feature_matrix), columns = df_final1.columns)"
      ],
      "id": "xmblWJbIfJuT"
    },
    {
      "cell_type": "code",
      "source": [
        "del df_final1  # save memory"
      ],
      "metadata": {
        "id": "NJZnrHObUPJy"
      },
      "id": "NJZnrHObUPJy",
      "execution_count": null,
      "outputs": []
    },
    {
      "cell_type": "code",
      "execution_count": null,
      "metadata": {
        "id": "bP1tkR5afJrv"
      },
      "outputs": [],
      "source": [
        "# add cluster labels to the reconstructed dataframe\n",
        "df_recon['cluster'] = kmeans_model18.labels_"
      ],
      "id": "bP1tkR5afJrv"
    },
    {
      "cell_type": "code",
      "execution_count": null,
      "metadata": {
        "id": "2mfoZFmQfJpD"
      },
      "outputs": [],
      "source": [
        "text_ = clean_df['Text']"
      ],
      "id": "2mfoZFmQfJpD"
    },
    {
      "cell_type": "code",
      "execution_count": null,
      "metadata": {
        "colab": {
          "base_uri": "https://localhost:8080/"
        },
        "id": "IR45tGXYiUe8",
        "outputId": "8fd8bd53-0571-48c4-ce6f-6adf8a7d1987"
      },
      "outputs": [
        {
          "output_type": "execute_result",
          "data": {
            "text/plain": [
              "0         this witty little book makes my son laugh at l...\n",
              "1         I can remember seeing the show when it aired o...\n",
              "2         Beetlejuice is a well written movie ..... ever...\n",
              "3         A twist of rumplestiskin captured on film, sta...\n",
              "4         A twist of rumplestiskin captured on film, sta...\n",
              "                                ...                        \n",
              "568449    The only reason I am giving it 4 stars instead...\n",
              "568450    Very pleased with the quality of the espresso....\n",
              "568451    I just love it, and I am Not a major Indian co...\n",
              "568452    I enjoy drinking this in a greek yogurt smooth...\n",
              "568453    Aside from a non-flashy name, this is a great ...\n",
              "Name: Text, Length: 568454, dtype: object"
            ]
          },
          "metadata": {},
          "execution_count": 22
        }
      ],
      "source": [
        "text_"
      ],
      "id": "IR45tGXYiUe8"
    },
    {
      "cell_type": "code",
      "source": [
        "del clean_df # save memory"
      ],
      "metadata": {
        "id": "7A8eobaEfcTC"
      },
      "id": "7A8eobaEfcTC",
      "execution_count": null,
      "outputs": []
    },
    {
      "cell_type": "markdown",
      "source": [
        "In parallel with KMeans Clustering, we also would like to try clustering the review text using LDA Topic Modelling. The key difference between the 2 clustering methods is LDA topic modelling clusters reviews into different topics by solely looking at text data which in this case will be the review text. In contrast, KMeans Clustering can cluster the reviews based on all features, tokenized text and other numeric features.\n",
        "\n",
        "We perform LDA topic modelling on the review text and compare the results with the clusters formed via KMeans clustering to try and identify fake reviews."
      ],
      "metadata": {
        "id": "C3NRWPMMGIIO"
      },
      "id": "C3NRWPMMGIIO"
    },
    {
      "cell_type": "code",
      "execution_count": null,
      "metadata": {
        "id": "VagP6UcKikSL"
      },
      "outputs": [],
      "source": [
        "# use same settings used for KMeans clustering to be consistent\n",
        "vectorizer = TfidfVectorizer(min_df = 1000, tokenizer = spl_tokenizer, ngram_range = (1,2))"
      ],
      "id": "VagP6UcKikSL"
    },
    {
      "cell_type": "code",
      "execution_count": null,
      "metadata": {
        "id": "P574TBWiikPT"
      },
      "outputs": [],
      "source": [
        "word_matrix = vectorizer.fit_transform(text_)"
      ],
      "id": "P574TBWiikPT"
    },
    {
      "cell_type": "code",
      "execution_count": null,
      "metadata": {
        "id": "QGBbQG_GikL4"
      },
      "outputs": [],
      "source": [
        "def print_topics(model, vectorizer, n_top_words):\n",
        "    words = vectorizer.get_feature_names_out()\n",
        "    for topic_idx, topic in enumerate(model.components_):\n",
        "        print(\"\\nTopic #%d:\" % topic_idx)\n",
        "        print(\",\".join([words[i] for i in topic.argsort()[:-n_top_words - 1:-1]]))"
      ],
      "id": "QGBbQG_GikL4"
    },
    {
      "cell_type": "markdown",
      "metadata": {
        "id": "x4wa1lw0jnzZ"
      },
      "source": [
        "For LDA topic Modelling, we need to pre-select the number of topics we think exist in our text. To be consistent with KMeans clustering, I will choose 18 topics as we had selected 18 clusters for KMeans. Note: this is not necessarily the optimal way to determine the number of topics. Can make improvements in future iterations."
      ],
      "id": "x4wa1lw0jnzZ"
    },
    {
      "cell_type": "code",
      "execution_count": null,
      "metadata": {
        "id": "uE6nRGwMccK4"
      },
      "outputs": [],
      "source": [
        "number_topics = 18\n",
        "number_words = 15"
      ],
      "id": "uE6nRGwMccK4"
    },
    {
      "cell_type": "code",
      "execution_count": null,
      "metadata": {
        "colab": {
          "base_uri": "https://localhost:8080/",
          "height": 298
        },
        "id": "MIuYgsVPccNO",
        "outputId": "7afe319f-02a3-43a3-9272-7f53b035e9f1"
      },
      "outputs": [
        {
          "output_type": "stream",
          "name": "stderr",
          "text": [
            "/usr/local/lib/python3.10/dist-packages/ipykernel/ipkernel.py:283: DeprecationWarning: `should_run_async` will not call `transform_cell` automatically in the future. Please pass the result to `transformed_cell` argument and any exception that happen during thetransform in `preprocessing_exc_tuple` in IPython 7.17 and above.\n",
            "  and should_run_async(code)\n"
          ]
        },
        {
          "output_type": "stream",
          "name": "stdout",
          "text": [
            "iteration: 1 of max_iter: 10\n",
            "iteration: 2 of max_iter: 10\n",
            "iteration: 3 of max_iter: 10\n",
            "iteration: 4 of max_iter: 10\n",
            "iteration: 5 of max_iter: 10\n",
            "iteration: 6 of max_iter: 10\n",
            "iteration: 7 of max_iter: 10\n",
            "iteration: 8 of max_iter: 10\n",
            "iteration: 9 of max_iter: 10\n",
            "iteration: 10 of max_iter: 10\n"
          ]
        },
        {
          "output_type": "execute_result",
          "data": {
            "text/plain": [
              "LatentDirichletAllocation(n_components=18, n_jobs=4, verbose=1)"
            ],
            "text/html": [
              "<style>#sk-container-id-2 {color: black;background-color: white;}#sk-container-id-2 pre{padding: 0;}#sk-container-id-2 div.sk-toggleable {background-color: white;}#sk-container-id-2 label.sk-toggleable__label {cursor: pointer;display: block;width: 100%;margin-bottom: 0;padding: 0.3em;box-sizing: border-box;text-align: center;}#sk-container-id-2 label.sk-toggleable__label-arrow:before {content: \"▸\";float: left;margin-right: 0.25em;color: #696969;}#sk-container-id-2 label.sk-toggleable__label-arrow:hover:before {color: black;}#sk-container-id-2 div.sk-estimator:hover label.sk-toggleable__label-arrow:before {color: black;}#sk-container-id-2 div.sk-toggleable__content {max-height: 0;max-width: 0;overflow: hidden;text-align: left;background-color: #f0f8ff;}#sk-container-id-2 div.sk-toggleable__content pre {margin: 0.2em;color: black;border-radius: 0.25em;background-color: #f0f8ff;}#sk-container-id-2 input.sk-toggleable__control:checked~div.sk-toggleable__content {max-height: 200px;max-width: 100%;overflow: auto;}#sk-container-id-2 input.sk-toggleable__control:checked~label.sk-toggleable__label-arrow:before {content: \"▾\";}#sk-container-id-2 div.sk-estimator input.sk-toggleable__control:checked~label.sk-toggleable__label {background-color: #d4ebff;}#sk-container-id-2 div.sk-label input.sk-toggleable__control:checked~label.sk-toggleable__label {background-color: #d4ebff;}#sk-container-id-2 input.sk-hidden--visually {border: 0;clip: rect(1px 1px 1px 1px);clip: rect(1px, 1px, 1px, 1px);height: 1px;margin: -1px;overflow: hidden;padding: 0;position: absolute;width: 1px;}#sk-container-id-2 div.sk-estimator {font-family: monospace;background-color: #f0f8ff;border: 1px dotted black;border-radius: 0.25em;box-sizing: border-box;margin-bottom: 0.5em;}#sk-container-id-2 div.sk-estimator:hover {background-color: #d4ebff;}#sk-container-id-2 div.sk-parallel-item::after {content: \"\";width: 100%;border-bottom: 1px solid gray;flex-grow: 1;}#sk-container-id-2 div.sk-label:hover label.sk-toggleable__label {background-color: #d4ebff;}#sk-container-id-2 div.sk-serial::before {content: \"\";position: absolute;border-left: 1px solid gray;box-sizing: border-box;top: 0;bottom: 0;left: 50%;z-index: 0;}#sk-container-id-2 div.sk-serial {display: flex;flex-direction: column;align-items: center;background-color: white;padding-right: 0.2em;padding-left: 0.2em;position: relative;}#sk-container-id-2 div.sk-item {position: relative;z-index: 1;}#sk-container-id-2 div.sk-parallel {display: flex;align-items: stretch;justify-content: center;background-color: white;position: relative;}#sk-container-id-2 div.sk-item::before, #sk-container-id-2 div.sk-parallel-item::before {content: \"\";position: absolute;border-left: 1px solid gray;box-sizing: border-box;top: 0;bottom: 0;left: 50%;z-index: -1;}#sk-container-id-2 div.sk-parallel-item {display: flex;flex-direction: column;z-index: 1;position: relative;background-color: white;}#sk-container-id-2 div.sk-parallel-item:first-child::after {align-self: flex-end;width: 50%;}#sk-container-id-2 div.sk-parallel-item:last-child::after {align-self: flex-start;width: 50%;}#sk-container-id-2 div.sk-parallel-item:only-child::after {width: 0;}#sk-container-id-2 div.sk-dashed-wrapped {border: 1px dashed gray;margin: 0 0.4em 0.5em 0.4em;box-sizing: border-box;padding-bottom: 0.4em;background-color: white;}#sk-container-id-2 div.sk-label label {font-family: monospace;font-weight: bold;display: inline-block;line-height: 1.2em;}#sk-container-id-2 div.sk-label-container {text-align: center;}#sk-container-id-2 div.sk-container {/* jupyter's `normalize.less` sets `[hidden] { display: none; }` but bootstrap.min.css set `[hidden] { display: none !important; }` so we also need the `!important` here to be able to override the default hidden behavior on the sphinx rendered scikit-learn.org. See: https://github.com/scikit-learn/scikit-learn/issues/21755 */display: inline-block !important;position: relative;}#sk-container-id-2 div.sk-text-repr-fallback {display: none;}</style><div id=\"sk-container-id-2\" class=\"sk-top-container\"><div class=\"sk-text-repr-fallback\"><pre>LatentDirichletAllocation(n_components=18, n_jobs=4, verbose=1)</pre><b>In a Jupyter environment, please rerun this cell to show the HTML representation or trust the notebook. <br />On GitHub, the HTML representation is unable to render, please try loading this page with nbviewer.org.</b></div><div class=\"sk-container\" hidden><div class=\"sk-item\"><div class=\"sk-estimator sk-toggleable\"><input class=\"sk-toggleable__control sk-hidden--visually\" id=\"sk-estimator-id-2\" type=\"checkbox\" checked><label for=\"sk-estimator-id-2\" class=\"sk-toggleable__label sk-toggleable__label-arrow\">LatentDirichletAllocation</label><div class=\"sk-toggleable__content\"><pre>LatentDirichletAllocation(n_components=18, n_jobs=4, verbose=1)</pre></div></div></div></div></div>"
            ]
          },
          "metadata": {},
          "execution_count": 54
        }
      ],
      "source": [
        "from sklearn.decomposition import LatentDirichletAllocation as LDA\n",
        "\n",
        "lda = LDA(n_components=number_topics, n_jobs = 4, verbose = 1)\n",
        "lda.fit(word_matrix)"
      ],
      "id": "MIuYgsVPccNO"
    },
    {
      "cell_type": "code",
      "execution_count": null,
      "metadata": {
        "colab": {
          "base_uri": "https://localhost:8080/"
        },
        "id": "MMoTBG9cikIg",
        "outputId": "4bbb53f2-1d35-4257-fad0-5e0303cb0f95"
      },
      "outputs": [
        {
          "output_type": "stream",
          "name": "stdout",
          "text": [
            "Topics found via LDA:\n",
            "\n",
            "Topic #0:\n",
            "r_sauce,r_oil,r_hot,r_olive,r_bread,r_flavor,r_like,r_br,r_pepper,r_taste,r_good,r_salad,r_spicy,r_olive r_oil,r_use\n",
            "\n",
            "Topic #1:\n",
            "r_chocolate,r_hot,r_cocoa,r_milk,r_taste,r_flavor,r_like,r_dark,r_dark r_chocolate,r_hot r_chocolate,r_cream,r_salt,r_ice,r_good,r_vanilla\n",
            "\n",
            "Topic #2:\n",
            "r_sugar,r_taste,r_drink,r_flavor,r_syrup,r_like,r_water,r_br,r_juice,r_soda,r_sweet,r_product,r_good,r_bottle,r_artificial\n",
            "\n",
            "Topic #3:\n",
            "r_tea,r_green,r_green r_tea,r_flavor,r_taste,r_drink,r_like,r_bag,r_good,r_tea r_bag,r_br,r_cup,r_black,r_iced,r_stash\n",
            "\n",
            "Topic #4:\n",
            "r_br,r_product,r_day,r_review,r_water,r_taste,r_like,r_one,r_im,r_time,r_tea,r_drink,r_work,r_try,r_dont\n",
            "\n",
            "Topic #5:\n",
            "r_chip,r_snack,r_calorie,r_flavor,r_bag,r_fat,r_salt,r_like,r_taste,r_potato,r_low,r_great,r_good,r_cooky,r_br\n",
            "\n",
            "Topic #6:\n",
            "r_store,r_amazon,r_price,r_find,r_local,r_grocery,r_buy,r_grocery r_store,r_popcorn,r_great,r_product,r_shipping,r_love,r_get,r_save\n",
            "\n",
            "Topic #7:\n",
            "r_jerky,r_taste,r_like,r_energy,r_star,r_product,r_good,r_gum,r_would,r_money,r_flavor,r_dont,r_drink,r_beef,r_one\n",
            "\n",
            "Topic #8:\n",
            "r_coffee,r_cup,r_flavor,r_like,r_strong,r_roast,r_taste,r_blend,r_bold,r_kcups,r_pod,r_good,r_keurig,r_one,r_cup r_coffee\n",
            "\n",
            "Topic #9:\n",
            "r_food,r_cat,r_dog,r_dog r_food,r_eat,r_cat r_food,r_love,r_hair,r_br,r_dry,r_like,r_one,r_wellness,r_product,r_chicken\n",
            "\n",
            "Topic #10:\n",
            "r_gluten,r_gluten r_free,r_best,r_free,r_coconut,r_mix,r_cake,r_tried,r_product,r_great,r_make,r_ever,r_ive,r_taste,r_love\n",
            "\n",
            "Topic #11:\n",
            "r_candy,r_bag,r_cooky,r_date,r_love,r_one,r_eat,r_cant,r_good,r_expiration,r_like,r_flavor,r_great,r_expiration r_date,r_almond\n",
            "\n",
            "Topic #12:\n",
            "r_product,r_great,r_arrived,r_order,r_price,r_good,r_fast,r_excellent,r_time,r_gift,r_quality,r_would,r_quickly,r_recommend,r_service\n",
            "\n",
            "Topic #13:\n",
            "r_dog,r_treat,r_love,r_dog r_love,r_chew,r_toy,r_bone,r_one,r_get,r_teeth,r_training,r_like,r_pill,r_product,r_great\n",
            "\n",
            "Topic #14:\n",
            "r_soup,r_noodle,r_pasta,r_rice,r_add,r_chicken,r_make,r_br,r_use,r_cook,r_sauce,r_good,r_great,r_like,r_easy\n",
            "\n",
            "Topic #15:\n",
            "r_baby,r_love,r_food,r_son,r_old,r_organic,r_snack,r_daughter,r_kid,r_great,r_like,r_eat,r_month,r_pouch,r_baby r_food\n",
            "\n",
            "Topic #16:\n",
            "r_bar,r_peanut,r_cereal,r_butter,r_peanut r_butter,r_taste,r_protein,r_snack,r_like,r_good,r_great,r_nut,r_granola,r_br,r_eat\n",
            "\n",
            "Topic #17:\n",
            "r_box,r_product,r_bag,r_br,r_one,r_order,r_received,r_ordered,r_amazon,r_would,r_item,r_package,r_gift,r_arrived,r_time\n"
          ]
        },
        {
          "output_type": "stream",
          "name": "stderr",
          "text": [
            "/usr/local/lib/python3.10/dist-packages/ipykernel/ipkernel.py:283: DeprecationWarning: `should_run_async` will not call `transform_cell` automatically in the future. Please pass the result to `transformed_cell` argument and any exception that happen during thetransform in `preprocessing_exc_tuple` in IPython 7.17 and above.\n",
            "  and should_run_async(code)\n"
          ]
        }
      ],
      "source": [
        "# Print the topics found by the LDA model\n",
        "print(\"Topics found via LDA:\")\n",
        "print_topics(lda, vectorizer, number_words)"
      ],
      "id": "MMoTBG9cikIg"
    },
    {
      "cell_type": "markdown",
      "metadata": {
        "id": "dtjFEpcYn2jJ"
      },
      "source": [
        "As we can see above, these are the top words for each topic. The results are pretty good: we can see topics related to specific types of products like topic 1 (cocoa), topic 2 (green tea) and topic 16 (granola bar)."
      ],
      "id": "dtjFEpcYn2jJ"
    },
    {
      "cell_type": "code",
      "execution_count": null,
      "metadata": {
        "id": "xARd2TvuikEz",
        "colab": {
          "base_uri": "https://localhost:8080/"
        },
        "outputId": "d9ef0a8d-83c0-4cc9-c599-4e47fe4e4340"
      },
      "outputs": [
        {
          "output_type": "stream",
          "name": "stderr",
          "text": [
            "/usr/local/lib/python3.10/dist-packages/ipykernel/ipkernel.py:283: DeprecationWarning: `should_run_async` will not call `transform_cell` automatically in the future. Please pass the result to `transformed_cell` argument and any exception that happen during thetransform in `preprocessing_exc_tuple` in IPython 7.17 and above.\n",
            "  and should_run_async(code)\n"
          ]
        },
        {
          "output_type": "execute_result",
          "data": {
            "text/plain": [
              "['lda_18.pkl']"
            ]
          },
          "metadata": {},
          "execution_count": 56
        }
      ],
      "source": [
        "#saving model to computer\n",
        "joblib.dump(lda,'lda_18.pkl')"
      ],
      "id": "xARd2TvuikEz"
    },
    {
      "cell_type": "code",
      "execution_count": null,
      "metadata": {
        "id": "SzsnlHf5jtvA"
      },
      "outputs": [],
      "source": [
        "#import relevant libraries\n",
        "import pickle\n",
        "import pyLDAvis\n",
        "#from pyLDAvis import sklearn as sklearn_lda\n",
        "import os"
      ],
      "id": "SzsnlHf5jtvA"
    },
    {
      "cell_type": "code",
      "execution_count": null,
      "metadata": {
        "colab": {
          "base_uri": "https://localhost:8080/",
          "height": 89
        },
        "id": "7VZ33zbIjtsE",
        "outputId": "b07457d0-1af9-40bf-8b1f-94bd8a60c0e6"
      },
      "outputs": [
        {
          "output_type": "stream",
          "name": "stderr",
          "text": [
            "/usr/local/lib/python3.10/dist-packages/ipykernel/ipkernel.py:283: DeprecationWarning: `should_run_async` will not call `transform_cell` automatically in the future. Please pass the result to `transformed_cell` argument and any exception that happen during thetransform in `preprocessing_exc_tuple` in IPython 7.17 and above.\n",
            "  and should_run_async(code)\n"
          ]
        },
        {
          "output_type": "execute_result",
          "data": {
            "text/plain": [
              "'./ldavis_prepared_18'"
            ],
            "application/vnd.google.colaboratory.intrinsic+json": {
              "type": "string"
            }
          },
          "metadata": {},
          "execution_count": 42
        }
      ],
      "source": [
        "#creating file path\n",
        "LDAvis_data_filepath = os.path.join('./ldavis_prepared_'+str(number_topics))\n",
        "LDAvis_data_filepath"
      ],
      "id": "7VZ33zbIjtsE"
    },
    {
      "cell_type": "code",
      "execution_count": null,
      "metadata": {
        "id": "VfgwmfbSjtpQ"
      },
      "outputs": [],
      "source": [
        "# preparing the LDA model to be saved in the LDAvis visualizer\n",
        "LDAvis_prepared = pyLDAvis.sklearn.prepare(lda, word_matrix, vectorizer)"
      ],
      "id": "VfgwmfbSjtpQ"
    },
    {
      "cell_type": "code",
      "execution_count": null,
      "metadata": {
        "id": "QYRLzZS_jtmR"
      },
      "outputs": [],
      "source": [
        "#saving LDA model into LDAvis visualization\n",
        "with open(LDAvis_data_filepath, 'wb') as f:\n",
        "    pickle.dump(LDAvis_prepared, f)\n",
        "\n",
        "#saving LDA model into LDAvis visualization html file\n",
        "pyLDAvis.save_html(LDAvis_prepared, './ldavis_prepared_'+ str(number_topics) +'.html')"
      ],
      "id": "QYRLzZS_jtmR"
    },
    {
      "cell_type": "markdown",
      "metadata": {
        "id": "5kloA6A1x38m"
      },
      "source": [
        "# Cluster Analysis"
      ],
      "id": "5kloA6A1x38m"
    },
    {
      "cell_type": "markdown",
      "metadata": {
        "id": "kULo6gU9pKQs"
      },
      "source": [
        "To explore the clusters and try to find a cluster of reviews that shows signs of fake reviews.\n",
        "\n",
        "signs of fake reviews include:\n",
        "\n",
        "*   extreme ratings\n",
        "*   shorter reviews"
      ],
      "id": "kULo6gU9pKQs"
    },
    {
      "cell_type": "code",
      "execution_count": null,
      "metadata": {
        "colab": {
          "base_uri": "https://localhost:8080/",
          "height": 348
        },
        "id": "cumKlffQjtjJ",
        "outputId": "2aac02cf-5331-421f-a844-fd338f8166a5"
      },
      "outputs": [
        {
          "output_type": "stream",
          "name": "stderr",
          "text": [
            "/usr/local/lib/python3.10/dist-packages/ipykernel/ipkernel.py:283: DeprecationWarning: `should_run_async` will not call `transform_cell` automatically in the future. Please pass the result to `transformed_cell` argument and any exception that happen during thetransform in `preprocessing_exc_tuple` in IPython 7.17 and above.\n",
            "  and should_run_async(code)\n"
          ]
        },
        {
          "output_type": "execute_result",
          "data": {
            "text/plain": [
              "   HelpfulnessNumerator  HelpfulnessDenominator     Score  inconsistent_name  \\\n",
              "0              0.000379                0.000388  0.212560          -0.490966   \n",
              "1             -0.003815               -0.003770  0.221230          -0.488728   \n",
              "2              0.002146                0.001279  0.531228          -0.404246   \n",
              "3              0.003222                0.002739  0.080525           0.478348   \n",
              "4              0.003222                0.002739  0.080525           0.478348   \n",
              "\n",
              "   time_delta  nameProvided  User_five_star_only  User_one_star_only  \\\n",
              "0   -0.000784      0.000093             0.553698           -0.049240   \n",
              "1   -0.002806      0.000116             0.550185           -0.045137   \n",
              "2    0.000670     -0.000082             0.496067            0.364797   \n",
              "3   -0.000215     -0.000786             0.348574           -0.129746   \n",
              "4   -0.000215     -0.000786             0.348574           -0.129746   \n",
              "\n",
              "   Summary_word_count  Text_word_count  ...      r_yr  r_yr r_old    r_yuck  \\\n",
              "0           -0.063477        -0.015238  ...  0.008794    0.009065 -0.000654   \n",
              "1           -0.060821        -0.031552  ...  0.004961    0.004737 -0.001611   \n",
              "2            0.017489        -0.011294  ...  0.000714    0.000330 -0.001465   \n",
              "3           -0.016020         0.007404  ... -0.002587   -0.002839 -0.000710   \n",
              "4           -0.016020         0.007404  ... -0.002587   -0.002839 -0.000710   \n",
              "\n",
              "      r_yum   r_yummy    r_zero    r_zico     r_zip   r_zukes  cluster  \n",
              "0  0.004694  0.022639  0.000066 -0.006620  0.000876 -0.002594        1  \n",
              "1  0.004679  0.001552 -0.003057 -0.017923 -0.001484 -0.003430        1  \n",
              "2  0.001053  0.006254 -0.001853  0.001419  0.000600  0.001496        1  \n",
              "3  0.001565  0.005830 -0.001461 -0.001379  0.002709 -0.000638       17  \n",
              "4  0.001565  0.005830 -0.001461 -0.001379  0.002709 -0.000638       17  \n",
              "\n",
              "[5 rows x 3334 columns]"
            ],
            "text/html": [
              "\n",
              "  <div id=\"df-451591d3-2436-4914-ae3e-3f8971181f91\">\n",
              "    <div class=\"colab-df-container\">\n",
              "      <div>\n",
              "<style scoped>\n",
              "    .dataframe tbody tr th:only-of-type {\n",
              "        vertical-align: middle;\n",
              "    }\n",
              "\n",
              "    .dataframe tbody tr th {\n",
              "        vertical-align: top;\n",
              "    }\n",
              "\n",
              "    .dataframe thead th {\n",
              "        text-align: right;\n",
              "    }\n",
              "</style>\n",
              "<table border=\"1\" class=\"dataframe\">\n",
              "  <thead>\n",
              "    <tr style=\"text-align: right;\">\n",
              "      <th></th>\n",
              "      <th>HelpfulnessNumerator</th>\n",
              "      <th>HelpfulnessDenominator</th>\n",
              "      <th>Score</th>\n",
              "      <th>inconsistent_name</th>\n",
              "      <th>time_delta</th>\n",
              "      <th>nameProvided</th>\n",
              "      <th>User_five_star_only</th>\n",
              "      <th>User_one_star_only</th>\n",
              "      <th>Summary_word_count</th>\n",
              "      <th>Text_word_count</th>\n",
              "      <th>...</th>\n",
              "      <th>r_yr</th>\n",
              "      <th>r_yr r_old</th>\n",
              "      <th>r_yuck</th>\n",
              "      <th>r_yum</th>\n",
              "      <th>r_yummy</th>\n",
              "      <th>r_zero</th>\n",
              "      <th>r_zico</th>\n",
              "      <th>r_zip</th>\n",
              "      <th>r_zukes</th>\n",
              "      <th>cluster</th>\n",
              "    </tr>\n",
              "  </thead>\n",
              "  <tbody>\n",
              "    <tr>\n",
              "      <th>0</th>\n",
              "      <td>0.000379</td>\n",
              "      <td>0.000388</td>\n",
              "      <td>0.212560</td>\n",
              "      <td>-0.490966</td>\n",
              "      <td>-0.000784</td>\n",
              "      <td>0.000093</td>\n",
              "      <td>0.553698</td>\n",
              "      <td>-0.049240</td>\n",
              "      <td>-0.063477</td>\n",
              "      <td>-0.015238</td>\n",
              "      <td>...</td>\n",
              "      <td>0.008794</td>\n",
              "      <td>0.009065</td>\n",
              "      <td>-0.000654</td>\n",
              "      <td>0.004694</td>\n",
              "      <td>0.022639</td>\n",
              "      <td>0.000066</td>\n",
              "      <td>-0.006620</td>\n",
              "      <td>0.000876</td>\n",
              "      <td>-0.002594</td>\n",
              "      <td>1</td>\n",
              "    </tr>\n",
              "    <tr>\n",
              "      <th>1</th>\n",
              "      <td>-0.003815</td>\n",
              "      <td>-0.003770</td>\n",
              "      <td>0.221230</td>\n",
              "      <td>-0.488728</td>\n",
              "      <td>-0.002806</td>\n",
              "      <td>0.000116</td>\n",
              "      <td>0.550185</td>\n",
              "      <td>-0.045137</td>\n",
              "      <td>-0.060821</td>\n",
              "      <td>-0.031552</td>\n",
              "      <td>...</td>\n",
              "      <td>0.004961</td>\n",
              "      <td>0.004737</td>\n",
              "      <td>-0.001611</td>\n",
              "      <td>0.004679</td>\n",
              "      <td>0.001552</td>\n",
              "      <td>-0.003057</td>\n",
              "      <td>-0.017923</td>\n",
              "      <td>-0.001484</td>\n",
              "      <td>-0.003430</td>\n",
              "      <td>1</td>\n",
              "    </tr>\n",
              "    <tr>\n",
              "      <th>2</th>\n",
              "      <td>0.002146</td>\n",
              "      <td>0.001279</td>\n",
              "      <td>0.531228</td>\n",
              "      <td>-0.404246</td>\n",
              "      <td>0.000670</td>\n",
              "      <td>-0.000082</td>\n",
              "      <td>0.496067</td>\n",
              "      <td>0.364797</td>\n",
              "      <td>0.017489</td>\n",
              "      <td>-0.011294</td>\n",
              "      <td>...</td>\n",
              "      <td>0.000714</td>\n",
              "      <td>0.000330</td>\n",
              "      <td>-0.001465</td>\n",
              "      <td>0.001053</td>\n",
              "      <td>0.006254</td>\n",
              "      <td>-0.001853</td>\n",
              "      <td>0.001419</td>\n",
              "      <td>0.000600</td>\n",
              "      <td>0.001496</td>\n",
              "      <td>1</td>\n",
              "    </tr>\n",
              "    <tr>\n",
              "      <th>3</th>\n",
              "      <td>0.003222</td>\n",
              "      <td>0.002739</td>\n",
              "      <td>0.080525</td>\n",
              "      <td>0.478348</td>\n",
              "      <td>-0.000215</td>\n",
              "      <td>-0.000786</td>\n",
              "      <td>0.348574</td>\n",
              "      <td>-0.129746</td>\n",
              "      <td>-0.016020</td>\n",
              "      <td>0.007404</td>\n",
              "      <td>...</td>\n",
              "      <td>-0.002587</td>\n",
              "      <td>-0.002839</td>\n",
              "      <td>-0.000710</td>\n",
              "      <td>0.001565</td>\n",
              "      <td>0.005830</td>\n",
              "      <td>-0.001461</td>\n",
              "      <td>-0.001379</td>\n",
              "      <td>0.002709</td>\n",
              "      <td>-0.000638</td>\n",
              "      <td>17</td>\n",
              "    </tr>\n",
              "    <tr>\n",
              "      <th>4</th>\n",
              "      <td>0.003222</td>\n",
              "      <td>0.002739</td>\n",
              "      <td>0.080525</td>\n",
              "      <td>0.478348</td>\n",
              "      <td>-0.000215</td>\n",
              "      <td>-0.000786</td>\n",
              "      <td>0.348574</td>\n",
              "      <td>-0.129746</td>\n",
              "      <td>-0.016020</td>\n",
              "      <td>0.007404</td>\n",
              "      <td>...</td>\n",
              "      <td>-0.002587</td>\n",
              "      <td>-0.002839</td>\n",
              "      <td>-0.000710</td>\n",
              "      <td>0.001565</td>\n",
              "      <td>0.005830</td>\n",
              "      <td>-0.001461</td>\n",
              "      <td>-0.001379</td>\n",
              "      <td>0.002709</td>\n",
              "      <td>-0.000638</td>\n",
              "      <td>17</td>\n",
              "    </tr>\n",
              "  </tbody>\n",
              "</table>\n",
              "<p>5 rows × 3334 columns</p>\n",
              "</div>\n",
              "      <button class=\"colab-df-convert\" onclick=\"convertToInteractive('df-451591d3-2436-4914-ae3e-3f8971181f91')\"\n",
              "              title=\"Convert this dataframe to an interactive table.\"\n",
              "              style=\"display:none;\">\n",
              "        \n",
              "  <svg xmlns=\"http://www.w3.org/2000/svg\" height=\"24px\"viewBox=\"0 0 24 24\"\n",
              "       width=\"24px\">\n",
              "    <path d=\"M0 0h24v24H0V0z\" fill=\"none\"/>\n",
              "    <path d=\"M18.56 5.44l.94 2.06.94-2.06 2.06-.94-2.06-.94-.94-2.06-.94 2.06-2.06.94zm-11 1L8.5 8.5l.94-2.06 2.06-.94-2.06-.94L8.5 2.5l-.94 2.06-2.06.94zm10 10l.94 2.06.94-2.06 2.06-.94-2.06-.94-.94-2.06-.94 2.06-2.06.94z\"/><path d=\"M17.41 7.96l-1.37-1.37c-.4-.4-.92-.59-1.43-.59-.52 0-1.04.2-1.43.59L10.3 9.45l-7.72 7.72c-.78.78-.78 2.05 0 2.83L4 21.41c.39.39.9.59 1.41.59.51 0 1.02-.2 1.41-.59l7.78-7.78 2.81-2.81c.8-.78.8-2.07 0-2.86zM5.41 20L4 18.59l7.72-7.72 1.47 1.35L5.41 20z\"/>\n",
              "  </svg>\n",
              "      </button>\n",
              "      \n",
              "  <style>\n",
              "    .colab-df-container {\n",
              "      display:flex;\n",
              "      flex-wrap:wrap;\n",
              "      gap: 12px;\n",
              "    }\n",
              "\n",
              "    .colab-df-convert {\n",
              "      background-color: #E8F0FE;\n",
              "      border: none;\n",
              "      border-radius: 50%;\n",
              "      cursor: pointer;\n",
              "      display: none;\n",
              "      fill: #1967D2;\n",
              "      height: 32px;\n",
              "      padding: 0 0 0 0;\n",
              "      width: 32px;\n",
              "    }\n",
              "\n",
              "    .colab-df-convert:hover {\n",
              "      background-color: #E2EBFA;\n",
              "      box-shadow: 0px 1px 2px rgba(60, 64, 67, 0.3), 0px 1px 3px 1px rgba(60, 64, 67, 0.15);\n",
              "      fill: #174EA6;\n",
              "    }\n",
              "\n",
              "    [theme=dark] .colab-df-convert {\n",
              "      background-color: #3B4455;\n",
              "      fill: #D2E3FC;\n",
              "    }\n",
              "\n",
              "    [theme=dark] .colab-df-convert:hover {\n",
              "      background-color: #434B5C;\n",
              "      box-shadow: 0px 1px 3px 1px rgba(0, 0, 0, 0.15);\n",
              "      filter: drop-shadow(0px 1px 2px rgba(0, 0, 0, 0.3));\n",
              "      fill: #FFFFFF;\n",
              "    }\n",
              "  </style>\n",
              "\n",
              "      <script>\n",
              "        const buttonEl =\n",
              "          document.querySelector('#df-451591d3-2436-4914-ae3e-3f8971181f91 button.colab-df-convert');\n",
              "        buttonEl.style.display =\n",
              "          google.colab.kernel.accessAllowed ? 'block' : 'none';\n",
              "\n",
              "        async function convertToInteractive(key) {\n",
              "          const element = document.querySelector('#df-451591d3-2436-4914-ae3e-3f8971181f91');\n",
              "          const dataTable =\n",
              "            await google.colab.kernel.invokeFunction('convertToInteractive',\n",
              "                                                     [key], {});\n",
              "          if (!dataTable) return;\n",
              "\n",
              "          const docLinkHtml = 'Like what you see? Visit the ' +\n",
              "            '<a target=\"_blank\" href=https://colab.research.google.com/notebooks/data_table.ipynb>data table notebook</a>'\n",
              "            + ' to learn more about interactive tables.';\n",
              "          element.innerHTML = '';\n",
              "          dataTable['output_type'] = 'display_data';\n",
              "          await google.colab.output.renderOutput(dataTable, element);\n",
              "          const docLink = document.createElement('div');\n",
              "          docLink.innerHTML = docLinkHtml;\n",
              "          element.appendChild(docLink);\n",
              "        }\n",
              "      </script>\n",
              "    </div>\n",
              "  </div>\n",
              "  "
            ]
          },
          "metadata": {},
          "execution_count": 39
        }
      ],
      "source": [
        "df_recon.head()"
      ],
      "id": "cumKlffQjtjJ"
    },
    {
      "cell_type": "code",
      "execution_count": null,
      "metadata": {
        "colab": {
          "base_uri": "https://localhost:8080/"
        },
        "id": "WOLkhnvSpiIX",
        "outputId": "22e37fcc-6ac5-415f-836e-685402402b29"
      },
      "outputs": [
        {
          "output_type": "stream",
          "name": "stderr",
          "text": [
            "/usr/local/lib/python3.10/dist-packages/ipykernel/ipkernel.py:283: DeprecationWarning: `should_run_async` will not call `transform_cell` automatically in the future. Please pass the result to `transformed_cell` argument and any exception that happen during thetransform in `preprocessing_exc_tuple` in IPython 7.17 and above.\n",
            "  and should_run_async(code)\n"
          ]
        }
      ],
      "source": [
        "# get names of non-token features and cluster for analysis\n",
        "non_tokens_clust = list(df_recon.columns[0:10]) + ['cluster']\n",
        "# get names of token features and cluster for analysis\n",
        "tokens_clust = list(df_recon.columns[10:])"
      ],
      "id": "WOLkhnvSpiIX"
    },
    {
      "cell_type": "code",
      "execution_count": null,
      "metadata": {
        "colab": {
          "base_uri": "https://localhost:8080/"
        },
        "id": "RWm4VPJTss82",
        "outputId": "c86a3660-813c-4bbf-b1f6-55f221405ed6"
      },
      "outputs": [
        {
          "output_type": "stream",
          "name": "stderr",
          "text": [
            "/usr/local/lib/python3.10/dist-packages/ipykernel/ipkernel.py:283: DeprecationWarning: `should_run_async` will not call `transform_cell` automatically in the future. Please pass the result to `transformed_cell` argument and any exception that happen during thetransform in `preprocessing_exc_tuple` in IPython 7.17 and above.\n",
            "  and should_run_async(code)\n"
          ]
        },
        {
          "output_type": "execute_result",
          "data": {
            "text/plain": [
              "cluster\n",
              "4     0.001250\n",
              "14    0.001180\n",
              "0     0.000534\n",
              "7     0.000465\n",
              "10    0.000374\n",
              "9     0.000374\n",
              "6     0.000258\n",
              "13    0.000224\n",
              "11    0.000110\n",
              "8     0.000096\n",
              "2     0.000006\n",
              "16   -0.000029\n",
              "5    -0.000067\n",
              "1    -0.000106\n",
              "17   -0.000200\n",
              "15   -0.000292\n",
              "12   -0.000423\n",
              "3    -0.000438\n",
              "Name: HelpfulnessNumerator, dtype: float64"
            ]
          },
          "metadata": {},
          "execution_count": 41
        }
      ],
      "source": [
        "# average HelpfulnessNumerator by cluster\n",
        "df_recon.loc[:, non_tokens_clust].groupby('cluster').mean().iloc[:,0].sort_values(ascending=False)"
      ],
      "id": "RWm4VPJTss82"
    },
    {
      "cell_type": "markdown",
      "metadata": {
        "id": "WbC46aCjsyOk"
      },
      "source": [
        "Cluster 4, 14 get more number of users who found their review helpful, while Cluster 12, 3 are the opposite."
      ],
      "id": "WbC46aCjsyOk"
    },
    {
      "cell_type": "code",
      "execution_count": null,
      "metadata": {
        "colab": {
          "base_uri": "https://localhost:8080/"
        },
        "id": "Vc2ZMupvqnph",
        "outputId": "78214efe-29d3-4d31-afec-517a4f6f0612"
      },
      "outputs": [
        {
          "output_type": "stream",
          "name": "stderr",
          "text": [
            "/usr/local/lib/python3.10/dist-packages/ipykernel/ipkernel.py:283: DeprecationWarning: `should_run_async` will not call `transform_cell` automatically in the future. Please pass the result to `transformed_cell` argument and any exception that happen during thetransform in `preprocessing_exc_tuple` in IPython 7.17 and above.\n",
            "  and should_run_async(code)\n"
          ]
        },
        {
          "output_type": "execute_result",
          "data": {
            "text/plain": [
              "cluster\n",
              "12    0.400299\n",
              "3     0.399914\n",
              "8     0.213815\n",
              "17    0.203152\n",
              "5     0.190251\n",
              "15    0.166291\n",
              "1     0.165325\n",
              "9    -0.055413\n",
              "11   -0.058193\n",
              "16   -0.141987\n",
              "10   -0.202908\n",
              "0    -0.249529\n",
              "6    -0.396602\n",
              "2    -0.440559\n",
              "7    -0.549799\n",
              "13   -0.622376\n",
              "4    -0.790859\n",
              "14   -0.797125\n",
              "Name: Score, dtype: float64"
            ]
          },
          "metadata": {},
          "execution_count": 43
        }
      ],
      "source": [
        "# average rating by cluster\n",
        "df_recon.loc[:,non_tokens_clust].groupby('cluster').mean().iloc[:,2].sort_values(ascending=False)"
      ],
      "id": "Vc2ZMupvqnph"
    },
    {
      "cell_type": "markdown",
      "metadata": {
        "id": "PERRJ7xLqzgq"
      },
      "source": [
        "From here we can see that about Cluster 12, 3 give the highest score. As we know, the data was heavily skewed to high score (ie. 5) so this on its own is not informative. What is interesting though is Cluster 4, 14 has the lowest score."
      ],
      "id": "PERRJ7xLqzgq"
    },
    {
      "cell_type": "markdown",
      "metadata": {
        "id": "8XrtXjP-uSTD"
      },
      "source": [
        "Cluster 15, 1 have the lowest summary word count."
      ],
      "id": "8XrtXjP-uSTD"
    },
    {
      "cell_type": "code",
      "execution_count": null,
      "metadata": {
        "colab": {
          "base_uri": "https://localhost:8080/"
        },
        "id": "9WyCkxoUqnf-",
        "outputId": "527f1c63-9ff8-49dd-aa58-29dc880d4539"
      },
      "outputs": [
        {
          "output_type": "stream",
          "name": "stderr",
          "text": [
            "/usr/local/lib/python3.10/dist-packages/ipykernel/ipkernel.py:283: DeprecationWarning: `should_run_async` will not call `transform_cell` automatically in the future. Please pass the result to `transformed_cell` argument and any exception that happen during thetransform in `preprocessing_exc_tuple` in IPython 7.17 and above.\n",
            "  and should_run_async(code)\n"
          ]
        },
        {
          "output_type": "execute_result",
          "data": {
            "text/plain": [
              "cluster\n",
              "0     0.014473\n",
              "8     0.010770\n",
              "2     0.007182\n",
              "11    0.005743\n",
              "6     0.005019\n",
              "5     0.004739\n",
              "3     0.004540\n",
              "9     0.003563\n",
              "10    0.002663\n",
              "14    0.000887\n",
              "13    0.000562\n",
              "16    0.000234\n",
              "12   -0.000905\n",
              "4    -0.001093\n",
              "7    -0.002415\n",
              "17   -0.003174\n",
              "1    -0.005647\n",
              "15   -0.010078\n",
              "Name: Text_word_count, dtype: float64"
            ]
          },
          "metadata": {},
          "execution_count": 45
        }
      ],
      "source": [
        "df_recon.loc[:,non_tokens_clust].groupby('cluster').mean().iloc[:,9].sort_values(ascending=False)"
      ],
      "id": "9WyCkxoUqnf-"
    },
    {
      "cell_type": "markdown",
      "metadata": {
        "id": "j_wp48aLvIw3"
      },
      "source": [
        "Cluster 0, 8 give the highest text word count, while Cluster 1, 15 have the lowest text word count. It seems people who type more text don't necessarily get more 'Helpful!'."
      ],
      "id": "j_wp48aLvIw3"
    },
    {
      "cell_type": "markdown",
      "metadata": {
        "id": "EBMtNu5xx64G"
      },
      "source": [
        "**Top Tokens per cluster**\n"
      ],
      "id": "EBMtNu5xx64G"
    },
    {
      "cell_type": "code",
      "execution_count": null,
      "metadata": {
        "colab": {
          "base_uri": "https://localhost:8080/"
        },
        "id": "nSQFuOSNqnc0",
        "outputId": "1c34be18-d670-48e4-9418-8b98e7b90c0a"
      },
      "outputs": [
        {
          "output_type": "stream",
          "name": "stderr",
          "text": [
            "/usr/local/lib/python3.10/dist-packages/ipykernel/ipkernel.py:283: DeprecationWarning: `should_run_async` will not call `transform_cell` automatically in the future. Please pass the result to `transformed_cell` argument and any exception that happen during thetransform in `preprocessing_exc_tuple` in IPython 7.17 and above.\n",
            "  and should_run_async(code)\n"
          ]
        },
        {
          "output_type": "stream",
          "name": "stdout",
          "text": [
            "r_coffee          0.158237\n",
            "r_tea             0.100821\n",
            "r_cup             0.039122\n",
            "r_strong          0.019969\n",
            "r_drink           0.018697\n",
            "r_cup r_coffee    0.016756\n",
            "r_taste           0.016340\n",
            "r_great           0.015854\n",
            "r_green           0.015768\n",
            "r_roast           0.014904\n",
            "r_blend           0.014189\n",
            "r_pod             0.014027\n",
            "r_bold            0.013466\n",
            "r_flavor          0.013309\n",
            "r_keurig          0.013052\n",
            "r_green r_tea     0.012978\n",
            "r_bitter          0.012903\n",
            "r_brew            0.012306\n",
            "r_smooth          0.012237\n",
            "r_kcups           0.011445\n",
            "Name: 15, dtype: float64\n"
          ]
        }
      ],
      "source": [
        "#getting the mean token value per cluster\n",
        "df_tokens = df_recon.loc[:,tokens_clust].groupby('cluster').mean()\n",
        "\n",
        "#now let's print the top 20 review tokens for cluster 15\n",
        "cluster = 15\n",
        "print(df_tokens.iloc[cluster,:].sort_values(ascending=False)[0:20])"
      ],
      "id": "nSQFuOSNqnc0"
    },
    {
      "cell_type": "markdown",
      "source": [
        "There is no clear trend in the top words in Cluster 15."
      ],
      "metadata": {
        "id": "mT90ECSDqnlk"
      },
      "id": "mT90ECSDqnlk"
    },
    {
      "cell_type": "code",
      "execution_count": null,
      "metadata": {
        "colab": {
          "base_uri": "https://localhost:8080/"
        },
        "id": "8BawW8jCzWFI",
        "outputId": "c57e2b69-2e8a-49cc-868d-d7f888387b8e"
      },
      "outputs": [
        {
          "output_type": "stream",
          "name": "stdout",
          "text": [
            "r_love         0.005854\n",
            "r_best         0.005496\n",
            "r_product      0.005208\n",
            "r_find         0.005059\n",
            "r_store        0.004944\n",
            "r_great        0.004765\n",
            "r_year         0.004429\n",
            "r_order        0.003363\n",
            "r_candy        0.003311\n",
            "r_amazon       0.003243\n",
            "r_dog          0.003101\n",
            "r_gift         0.003083\n",
            "r_thank        0.002926\n",
            "r_ever         0.002895\n",
            "r_delicious    0.002842\n",
            "r_arrived      0.002787\n",
            "r_happy        0.002586\n",
            "r_thanks       0.002466\n",
            "r_friend       0.002390\n",
            "r_online       0.002020\n",
            "Name: 1, dtype: float64\n"
          ]
        },
        {
          "output_type": "stream",
          "name": "stderr",
          "text": [
            "/usr/local/lib/python3.10/dist-packages/ipykernel/ipkernel.py:283: DeprecationWarning: `should_run_async` will not call `transform_cell` automatically in the future. Please pass the result to `transformed_cell` argument and any exception that happen during thetransform in `preprocessing_exc_tuple` in IPython 7.17 and above.\n",
            "  and should_run_async(code)\n"
          ]
        }
      ],
      "source": [
        "#now let's print the top 20 review tokens for cluster 1\n",
        "cluster = 1\n",
        "print(df_tokens.iloc[cluster,:].sort_values(ascending=False)[0:20])"
      ],
      "id": "8BawW8jCzWFI"
    },
    {
      "cell_type": "markdown",
      "source": [
        "Cluster 1 includes some personal information."
      ],
      "metadata": {
        "id": "m-Pr5YZhqtO3"
      },
      "id": "m-Pr5YZhqtO3"
    },
    {
      "cell_type": "code",
      "execution_count": null,
      "metadata": {
        "colab": {
          "base_uri": "https://localhost:8080/"
        },
        "id": "cZC0IMMFzfqU",
        "outputId": "a90f6c93-fb24-4d56-90f1-6bfa34daa2d3"
      },
      "outputs": [
        {
          "output_type": "stream",
          "name": "stdout",
          "text": [
            "r_coffee       0.013399\n",
            "r_love         0.010630\n",
            "r_great        0.010380\n",
            "r_best         0.006413\n",
            "r_good         0.005219\n",
            "r_favorite     0.005168\n",
            "r_chip         0.004989\n",
            "r_bar          0.004959\n",
            "r_snack        0.004833\n",
            "r_chocolate    0.004340\n",
            "r_delicious    0.004311\n",
            "r_find         0.003498\n",
            "r_flavor       0.003294\n",
            "r_perfect      0.003276\n",
            "r_keep         0.003005\n",
            "r_free         0.002698\n",
            "r_treat        0.002669\n",
            "r_healthy      0.002531\n",
            "r_excellent    0.002523\n",
            "r_wonderful    0.002458\n",
            "Name: 12, dtype: float64\n"
          ]
        },
        {
          "output_type": "stream",
          "name": "stderr",
          "text": [
            "/usr/local/lib/python3.10/dist-packages/ipykernel/ipkernel.py:283: DeprecationWarning: `should_run_async` will not call `transform_cell` automatically in the future. Please pass the result to `transformed_cell` argument and any exception that happen during thetransform in `preprocessing_exc_tuple` in IPython 7.17 and above.\n",
            "  and should_run_async(code)\n"
          ]
        }
      ],
      "source": [
        "#now let's print the top 20 review tokens for cluster 12\n",
        "cluster = 12\n",
        "print(df_tokens.iloc[cluster,:].sort_values(ascending=False)[0:20])"
      ],
      "id": "cZC0IMMFzfqU"
    },
    {
      "cell_type": "markdown",
      "source": [
        "There are more general positive terms in this cluster. This fits that fake reviews which would use more general postive terms and lacking personal details."
      ],
      "metadata": {
        "id": "Kp63KOFbqLk8"
      },
      "id": "Kp63KOFbqLk8"
    },
    {
      "cell_type": "code",
      "execution_count": null,
      "metadata": {
        "colab": {
          "base_uri": "https://localhost:8080/"
        },
        "id": "hqK-6oHvqnYw",
        "outputId": "d6264263-b650-4673-a097-bc6596ffb36f"
      },
      "outputs": [
        {
          "output_type": "stream",
          "name": "stdout",
          "text": [
            "r_tea            0.173554\n",
            "r_food           0.048963\n",
            "r_dog            0.046257\n",
            "r_cat            0.044776\n",
            "r_green r_tea    0.025770\n",
            "r_green          0.024081\n",
            "r_treat          0.021257\n",
            "r_love           0.018877\n",
            "r_tea r_bag      0.013719\n",
            "r_dog r_food     0.012596\n",
            "r_bag            0.011241\n",
            "r_cat r_food     0.011074\n",
            "r_stash          0.010405\n",
            "r_black r_tea    0.010217\n",
            "r_dog r_love     0.010209\n",
            "r_iced           0.008869\n",
            "r_love r_tea     0.008640\n",
            "r_drink          0.008413\n",
            "r_iced r_tea     0.008260\n",
            "r_black          0.008196\n",
            "Name: 3, dtype: float64\n"
          ]
        },
        {
          "output_type": "stream",
          "name": "stderr",
          "text": [
            "/usr/local/lib/python3.10/dist-packages/ipykernel/ipkernel.py:283: DeprecationWarning: `should_run_async` will not call `transform_cell` automatically in the future. Please pass the result to `transformed_cell` argument and any exception that happen during thetransform in `preprocessing_exc_tuple` in IPython 7.17 and above.\n",
            "  and should_run_async(code)\n"
          ]
        }
      ],
      "source": [
        "#now let's print the top 20 review tokens for cluster 3\n",
        "cluster = 3\n",
        "print(df_tokens.iloc[cluster,:].sort_values(ascending=False)[0:20])"
      ],
      "id": "hqK-6oHvqnYw"
    },
    {
      "cell_type": "markdown",
      "source": [
        "There is no clear trend in the top words in Cluster 3."
      ],
      "metadata": {
        "id": "zvuKoygoqdzJ"
      },
      "id": "zvuKoygoqdzJ"
    },
    {
      "cell_type": "code",
      "source": [
        "# top 20 review tokens for cluster 8\n",
        "cluster = 8\n",
        "print(df_tokens.iloc[cluster,:].sort_values(ascending=False)[0:20])"
      ],
      "metadata": {
        "colab": {
          "base_uri": "https://localhost:8080/"
        },
        "id": "Fw9bDHiFpmcQ",
        "outputId": "635ea832-e047-4b8f-e6ce-a2b1cb3ed59d"
      },
      "id": "Fw9bDHiFpmcQ",
      "execution_count": null,
      "outputs": [
        {
          "output_type": "stream",
          "name": "stdout",
          "text": [
            "r_br         0.026082\n",
            "r_good       0.016244\n",
            "r_flavor     0.010872\n",
            "r_little     0.009184\n",
            "r_really     0.009142\n",
            "r_tea        0.008760\n",
            "r_nice       0.007925\n",
            "r_cracker    0.007278\n",
            "r_like       0.006572\n",
            "r_sweet      0.006528\n",
            "r_tasty      0.006430\n",
            "r_get        0.006176\n",
            "r_add        0.006122\n",
            "r_bit        0.005850\n",
            "r_calorie    0.005806\n",
            "r_pretty     0.005721\n",
            "r_make       0.005702\n",
            "r_mix        0.005451\n",
            "r_candy      0.005315\n",
            "r_soup       0.005177\n",
            "Name: 8, dtype: float64\n"
          ]
        },
        {
          "output_type": "stream",
          "name": "stderr",
          "text": [
            "/usr/local/lib/python3.10/dist-packages/ipykernel/ipkernel.py:283: DeprecationWarning: `should_run_async` will not call `transform_cell` automatically in the future. Please pass the result to `transformed_cell` argument and any exception that happen during thetransform in `preprocessing_exc_tuple` in IPython 7.17 and above.\n",
            "  and should_run_async(code)\n"
          ]
        }
      ]
    },
    {
      "cell_type": "markdown",
      "source": [
        "There is no clear trend in the top words in Cluster 8."
      ],
      "metadata": {
        "id": "0B7IaiVerEMs"
      },
      "id": "0B7IaiVerEMs"
    },
    {
      "cell_type": "code",
      "source": [
        "# top 20 review tokens for cluster 0\n",
        "cluster = 0\n",
        "print(df_tokens.iloc[cluster,:].sort_values(ascending=False)[0:20])"
      ],
      "metadata": {
        "colab": {
          "base_uri": "https://localhost:8080/"
        },
        "id": "1ENujHFFpqWj",
        "outputId": "f87fdc47-1b2a-4cab-9591-8e2a0600e739"
      },
      "id": "1ENujHFFpqWj",
      "execution_count": null,
      "outputs": [
        {
          "output_type": "stream",
          "name": "stdout",
          "text": [
            "r_tea            0.239403\n",
            "r_food           0.041435\n",
            "r_dog            0.035510\n",
            "r_green          0.035420\n",
            "r_green r_tea    0.035023\n",
            "r_cat            0.033304\n",
            "r_br             0.022934\n",
            "r_tea r_bag      0.019806\n",
            "r_bag            0.019518\n",
            "r_drink          0.015621\n",
            "r_stash          0.014332\n",
            "r_black r_tea    0.014094\n",
            "r_black          0.013846\n",
            "r_cup            0.013489\n",
            "r_iced           0.012822\n",
            "r_leaf           0.012414\n",
            "r_iced r_tea     0.011165\n",
            "r_dog r_food     0.010612\n",
            "r_treat          0.010493\n",
            "r_earl           0.010488\n",
            "Name: 0, dtype: float64\n"
          ]
        },
        {
          "output_type": "stream",
          "name": "stderr",
          "text": [
            "/usr/local/lib/python3.10/dist-packages/ipykernel/ipkernel.py:283: DeprecationWarning: `should_run_async` will not call `transform_cell` automatically in the future. Please pass the result to `transformed_cell` argument and any exception that happen during thetransform in `preprocessing_exc_tuple` in IPython 7.17 and above.\n",
            "  and should_run_async(code)\n"
          ]
        }
      ]
    },
    {
      "cell_type": "markdown",
      "source": [
        "There is no clear trend in the top words in Cluster 0."
      ],
      "metadata": {
        "id": "gI1hZsZurJqB"
      },
      "id": "gI1hZsZurJqB"
    },
    {
      "cell_type": "code",
      "execution_count": null,
      "metadata": {
        "colab": {
          "base_uri": "https://localhost:8080/"
        },
        "id": "JMztSb92yyp6",
        "outputId": "803a9d9b-c035-41e8-9df1-286ba8a7636f"
      },
      "outputs": [
        {
          "output_type": "stream",
          "name": "stdout",
          "text": [
            "r_product          0.017710\n",
            "r_money            0.013521\n",
            "r_box              0.012089\n",
            "r_received         0.011388\n",
            "r_disappointed     0.010989\n",
            "r_item             0.010461\n",
            "r_return           0.010247\n",
            "r_waste            0.010034\n",
            "r_waste r_money    0.008624\n",
            "r_ordered          0.008100\n",
            "r_worst            0.008078\n",
            "r_horrible         0.007789\n",
            "r_bad              0.007653\n",
            "r_company          0.006851\n",
            "r_terrible         0.006788\n",
            "r_buy              0.006776\n",
            "r_never            0.006729\n",
            "r_would            0.006487\n",
            "r_awful            0.006436\n",
            "r_opened           0.006074\n",
            "Name: 4, dtype: float64\n"
          ]
        },
        {
          "output_type": "stream",
          "name": "stderr",
          "text": [
            "/usr/local/lib/python3.10/dist-packages/ipykernel/ipkernel.py:283: DeprecationWarning: `should_run_async` will not call `transform_cell` automatically in the future. Please pass the result to `transformed_cell` argument and any exception that happen during thetransform in `preprocessing_exc_tuple` in IPython 7.17 and above.\n",
            "  and should_run_async(code)\n"
          ]
        }
      ],
      "source": [
        "# top 20 review tokens for cluster 4\n",
        "cluster = 4\n",
        "print(df_tokens.iloc[cluster,:].sort_values(ascending=False)[0:20])"
      ],
      "id": "JMztSb92yyp6"
    },
    {
      "cell_type": "markdown",
      "source": [
        "Cluster 4 gives more negative word, cinsistent with the lowest score it gives."
      ],
      "metadata": {
        "id": "Y3H04kk_rMRE"
      },
      "id": "Y3H04kk_rMRE"
    },
    {
      "cell_type": "code",
      "execution_count": null,
      "metadata": {
        "colab": {
          "base_uri": "https://localhost:8080/"
        },
        "id": "q8fBIqbi0RbH",
        "outputId": "e0600461-02e3-4d6d-ee9f-b20431f12330"
      },
      "outputs": [
        {
          "output_type": "stream",
          "name": "stdout",
          "text": [
            "r_money            0.012538\n",
            "r_product          0.010764\n",
            "r_box              0.010267\n",
            "r_return           0.010158\n",
            "r_waste            0.009861\n",
            "r_disappointed     0.009765\n",
            "r_received         0.008634\n",
            "r_company          0.008388\n",
            "r_worst            0.008373\n",
            "r_horrible         0.008354\n",
            "r_waste r_money    0.008347\n",
            "r_even             0.008335\n",
            "r_bad              0.007777\n",
            "r_item             0.007740\n",
            "r_dog              0.007542\n",
            "r_ordered          0.007476\n",
            "r_awful            0.007028\n",
            "r_terrible         0.007025\n",
            "r_away             0.006849\n",
            "r_would            0.006546\n",
            "Name: 14, dtype: float64\n"
          ]
        },
        {
          "output_type": "stream",
          "name": "stderr",
          "text": [
            "/usr/local/lib/python3.10/dist-packages/ipykernel/ipkernel.py:283: DeprecationWarning: `should_run_async` will not call `transform_cell` automatically in the future. Please pass the result to `transformed_cell` argument and any exception that happen during thetransform in `preprocessing_exc_tuple` in IPython 7.17 and above.\n",
            "  and should_run_async(code)\n"
          ]
        }
      ],
      "source": [
        "# the top 20 review tokens for cluster 14\n",
        "cluster = 14\n",
        "print(df_tokens.iloc[cluster,:].sort_values(ascending=False)[0:20])"
      ],
      "id": "q8fBIqbi0RbH"
    },
    {
      "cell_type": "markdown",
      "source": [
        "Same as Cluster 4."
      ],
      "metadata": {
        "id": "MeXelUOhr0Qn"
      },
      "id": "MeXelUOhr0Qn"
    },
    {
      "cell_type": "markdown",
      "metadata": {
        "id": "UkmN8-A90hud"
      },
      "source": [
        "It seems that Cluster 12 contain general positive terms.\n",
        "\n",
        "This means these reviews aren't necessarily fake but they may be unreliable because the reviews in this cluster so seemingly the reviewers are more incentivized to give good reviews even though they claim to be giving unbiased reviews."
      ],
      "id": "UkmN8-A90hud"
    },
    {
      "cell_type": "code",
      "source": [
        "clustercol = df_recon.iloc[:, -1]"
      ],
      "metadata": {
        "colab": {
          "base_uri": "https://localhost:8080/"
        },
        "id": "oDUUy9xgtbHN",
        "outputId": "747e51b9-4c77-448a-deab-acc1b49c4b5e"
      },
      "id": "oDUUy9xgtbHN",
      "execution_count": null,
      "outputs": [
        {
          "output_type": "stream",
          "name": "stderr",
          "text": [
            "/usr/local/lib/python3.10/dist-packages/ipykernel/ipkernel.py:283: DeprecationWarning: `should_run_async` will not call `transform_cell` automatically in the future. Please pass the result to `transformed_cell` argument and any exception that happen during thetransform in `preprocessing_exc_tuple` in IPython 7.17 and above.\n",
            "  and should_run_async(code)\n"
          ]
        }
      ]
    },
    {
      "cell_type": "code",
      "source": [
        "clustercol.tail()"
      ],
      "metadata": {
        "colab": {
          "base_uri": "https://localhost:8080/"
        },
        "id": "SZJygsJnvaqX",
        "outputId": "f74ddb98-363a-458c-f722-f27f01849a55"
      },
      "id": "SZJygsJnvaqX",
      "execution_count": null,
      "outputs": [
        {
          "output_type": "stream",
          "name": "stderr",
          "text": [
            "/usr/local/lib/python3.10/dist-packages/ipykernel/ipkernel.py:283: DeprecationWarning: `should_run_async` will not call `transform_cell` automatically in the future. Please pass the result to `transformed_cell` argument and any exception that happen during thetransform in `preprocessing_exc_tuple` in IPython 7.17 and above.\n",
            "  and should_run_async(code)\n"
          ]
        },
        {
          "output_type": "execute_result",
          "data": {
            "text/plain": [
              "568449    11\n",
              "568450    17\n",
              "568451     5\n",
              "568452     1\n",
              "568453    15\n",
              "Name: cluster, dtype: int32"
            ]
          },
          "metadata": {},
          "execution_count": 58
        }
      ]
    },
    {
      "cell_type": "code",
      "source": [
        "clustercol.to_csv('clustercol.csv')"
      ],
      "metadata": {
        "colab": {
          "base_uri": "https://localhost:8080/"
        },
        "id": "Fdehmvndvjnp",
        "outputId": "dc6c608d-a34f-4da0-e9b7-9ea7c136822d"
      },
      "id": "Fdehmvndvjnp",
      "execution_count": null,
      "outputs": [
        {
          "output_type": "stream",
          "name": "stderr",
          "text": [
            "/usr/local/lib/python3.10/dist-packages/ipykernel/ipkernel.py:283: DeprecationWarning: `should_run_async` will not call `transform_cell` automatically in the future. Please pass the result to `transformed_cell` argument and any exception that happen during thetransform in `preprocessing_exc_tuple` in IPython 7.17 and above.\n",
            "  and should_run_async(code)\n"
          ]
        }
      ]
    },
    {
      "cell_type": "code",
      "source": [
        "df_recon.to_csv('df_recon.csv', index=False)"
      ],
      "metadata": {
        "id": "jJwgREgEJnHb",
        "colab": {
          "base_uri": "https://localhost:8080/"
        },
        "outputId": "e2210bfe-79f9-4bfc-fb51-c02147b70c26"
      },
      "id": "jJwgREgEJnHb",
      "execution_count": null,
      "outputs": [
        {
          "output_type": "stream",
          "name": "stderr",
          "text": [
            "/usr/local/lib/python3.10/dist-packages/ipykernel/ipkernel.py:283: DeprecationWarning: `should_run_async` will not call `transform_cell` automatically in the future. Please pass the result to `transformed_cell` argument and any exception that happen during thetransform in `preprocessing_exc_tuple` in IPython 7.17 and above.\n",
            "  and should_run_async(code)\n"
          ]
        }
      ]
    },
    {
      "cell_type": "code",
      "source": [
        "clustercol.value_counts()"
      ],
      "metadata": {
        "colab": {
          "base_uri": "https://localhost:8080/"
        },
        "id": "T-c2AlTZAFf9",
        "outputId": "df80abed-cf6c-444a-c4f2-f0888fbfe54a"
      },
      "id": "T-c2AlTZAFf9",
      "execution_count": null,
      "outputs": [
        {
          "output_type": "stream",
          "name": "stderr",
          "text": [
            "/usr/local/lib/python3.10/dist-packages/ipykernel/ipkernel.py:283: DeprecationWarning: `should_run_async` will not call `transform_cell` automatically in the future. Please pass the result to `transformed_cell` argument and any exception that happen during thetransform in `preprocessing_exc_tuple` in IPython 7.17 and above.\n",
            "  and should_run_async(code)\n"
          ]
        },
        {
          "output_type": "execute_result",
          "data": {
            "text/plain": [
              "1     105661\n",
              "12     83526\n",
              "10     78659\n",
              "6      57910\n",
              "17     55501\n",
              "5      32628\n",
              "2      22395\n",
              "11     21522\n",
              "7      18680\n",
              "0      12767\n",
              "16     11932\n",
              "3      11753\n",
              "9      10990\n",
              "15     10324\n",
              "8       9671\n",
              "4       8948\n",
              "13      8856\n",
              "14      6731\n",
              "Name: cluster, dtype: int64"
            ]
          },
          "metadata": {},
          "execution_count": 62
        }
      ]
    },
    {
      "cell_type": "markdown",
      "source": [
        "# supervised one\n"
      ],
      "metadata": {
        "id": "Y8xjnI96tQel"
      },
      "id": "Y8xjnI96tQel"
    },
    {
      "cell_type": "code",
      "execution_count": null,
      "metadata": {
        "id": "e71d4216"
      },
      "outputs": [],
      "source": [
        "# functions for df['Text'] pre-processing\n",
        "\n",
        "def clean_text(text):\n",
        "    nopunc = [w for w in text if w not in string.punctuation]\n",
        "    nopunc = ''.join(nopunc)\n",
        "    return  ' '.join([word for word in nopunc.split() if word.lower() not in stopwords.words('english')])\n",
        "\n",
        "lemmatizer = WordNetLemmatizer()\n",
        "def lemmatize_words(text):\n",
        "    return ' '.join([lemmatizer.lemmatize(word) for word in text.split()])\n",
        "\n",
        "def preprocess(text):\n",
        "    return ' '.join([word for word in word_tokenize(text) if word not in stopwords.words('english') and not word.isdigit() and word not in string.punctuation])"
      ],
      "id": "e71d4216"
    },
    {
      "cell_type": "code",
      "execution_count": null,
      "metadata": {
        "id": "6c52e8c5",
        "outputId": "e681f178-e0d2-49f9-ef8f-daf760c59b83"
      },
      "outputs": [
        {
          "data": {
            "text/html": [
              "<div>\n",
              "<style scoped>\n",
              "    .dataframe tbody tr th:only-of-type {\n",
              "        vertical-align: middle;\n",
              "    }\n",
              "\n",
              "    .dataframe tbody tr th {\n",
              "        vertical-align: top;\n",
              "    }\n",
              "\n",
              "    .dataframe thead th {\n",
              "        text-align: right;\n",
              "    }\n",
              "</style>\n",
              "<table border=\"1\" class=\"dataframe\">\n",
              "  <thead>\n",
              "    <tr style=\"text-align: right;\">\n",
              "      <th></th>\n",
              "      <th>Id</th>\n",
              "      <th>ProductId</th>\n",
              "      <th>UserId</th>\n",
              "      <th>ProfileName</th>\n",
              "      <th>HelpfulnessNumerator</th>\n",
              "      <th>HelpfulnessDenominator</th>\n",
              "      <th>Score</th>\n",
              "      <th>Time</th>\n",
              "      <th>Summary</th>\n",
              "      <th>Text</th>\n",
              "      <th>Text_clean</th>\n",
              "    </tr>\n",
              "  </thead>\n",
              "  <tbody>\n",
              "    <tr>\n",
              "      <th>0</th>\n",
              "      <td>1</td>\n",
              "      <td>B001E4KFG0</td>\n",
              "      <td>A3SGXH7AUHU8GW</td>\n",
              "      <td>delmartian</td>\n",
              "      <td>1</td>\n",
              "      <td>1</td>\n",
              "      <td>5</td>\n",
              "      <td>1303862400</td>\n",
              "      <td>Good Quality Dog Food</td>\n",
              "      <td>I have bought several of the Vitality canned d...</td>\n",
              "      <td>bought several Vitality canned dog food produc...</td>\n",
              "    </tr>\n",
              "    <tr>\n",
              "      <th>1</th>\n",
              "      <td>2</td>\n",
              "      <td>B00813GRG4</td>\n",
              "      <td>A1D87F6ZCVE5NK</td>\n",
              "      <td>dll pa</td>\n",
              "      <td>0</td>\n",
              "      <td>0</td>\n",
              "      <td>1</td>\n",
              "      <td>1346976000</td>\n",
              "      <td>Not as Advertised</td>\n",
              "      <td>Product arrived labeled as Jumbo Salted Peanut...</td>\n",
              "      <td>Product arrived labeled Jumbo Salted Peanutsth...</td>\n",
              "    </tr>\n",
              "    <tr>\n",
              "      <th>2</th>\n",
              "      <td>3</td>\n",
              "      <td>B000LQOCH0</td>\n",
              "      <td>ABXLMWJIXXAIN</td>\n",
              "      <td>Natalia Corres \"Natalia Corres\"</td>\n",
              "      <td>1</td>\n",
              "      <td>1</td>\n",
              "      <td>4</td>\n",
              "      <td>1219017600</td>\n",
              "      <td>\"Delight\" says it all</td>\n",
              "      <td>This is a confection that has been around a fe...</td>\n",
              "      <td>confection around centuries light pillowy citr...</td>\n",
              "    </tr>\n",
              "    <tr>\n",
              "      <th>3</th>\n",
              "      <td>4</td>\n",
              "      <td>B000UA0QIQ</td>\n",
              "      <td>A395BORC6FGVXV</td>\n",
              "      <td>Karl</td>\n",
              "      <td>3</td>\n",
              "      <td>3</td>\n",
              "      <td>2</td>\n",
              "      <td>1307923200</td>\n",
              "      <td>Cough Medicine</td>\n",
              "      <td>If you are looking for the secret ingredient i...</td>\n",
              "      <td>looking secret ingredient Robitussin believe f...</td>\n",
              "    </tr>\n",
              "    <tr>\n",
              "      <th>4</th>\n",
              "      <td>5</td>\n",
              "      <td>B006K2ZZ7K</td>\n",
              "      <td>A1UQRSCLF8GW1T</td>\n",
              "      <td>Michael D. Bigham \"M. Wassir\"</td>\n",
              "      <td>0</td>\n",
              "      <td>0</td>\n",
              "      <td>5</td>\n",
              "      <td>1350777600</td>\n",
              "      <td>Great taffy</td>\n",
              "      <td>Great taffy at a great price.  There was a wid...</td>\n",
              "      <td>Great taffy great price wide assortment yummy ...</td>\n",
              "    </tr>\n",
              "  </tbody>\n",
              "</table>\n",
              "</div>"
            ],
            "text/plain": [
              "   Id   ProductId          UserId                      ProfileName  \\\n",
              "0   1  B001E4KFG0  A3SGXH7AUHU8GW                       delmartian   \n",
              "1   2  B00813GRG4  A1D87F6ZCVE5NK                           dll pa   \n",
              "2   3  B000LQOCH0   ABXLMWJIXXAIN  Natalia Corres \"Natalia Corres\"   \n",
              "3   4  B000UA0QIQ  A395BORC6FGVXV                             Karl   \n",
              "4   5  B006K2ZZ7K  A1UQRSCLF8GW1T    Michael D. Bigham \"M. Wassir\"   \n",
              "\n",
              "   HelpfulnessNumerator  HelpfulnessDenominator  Score        Time  \\\n",
              "0                     1                       1      5  1303862400   \n",
              "1                     0                       0      1  1346976000   \n",
              "2                     1                       1      4  1219017600   \n",
              "3                     3                       3      2  1307923200   \n",
              "4                     0                       0      5  1350777600   \n",
              "\n",
              "                 Summary                                               Text  \\\n",
              "0  Good Quality Dog Food  I have bought several of the Vitality canned d...   \n",
              "1      Not as Advertised  Product arrived labeled as Jumbo Salted Peanut...   \n",
              "2  \"Delight\" says it all  This is a confection that has been around a fe...   \n",
              "3         Cough Medicine  If you are looking for the secret ingredient i...   \n",
              "4            Great taffy  Great taffy at a great price.  There was a wid...   \n",
              "\n",
              "                                          Text_clean  \n",
              "0  bought several Vitality canned dog food produc...  \n",
              "1  Product arrived labeled Jumbo Salted Peanutsth...  \n",
              "2  confection around centuries light pillowy citr...  \n",
              "3  looking secret ingredient Robitussin believe f...  \n",
              "4  Great taffy great price wide assortment yummy ...  "
            ]
          },
          "execution_count": 21,
          "metadata": {},
          "output_type": "execute_result"
        }
      ],
      "source": [
        "df['Text_clean'] = df['Text'].apply(clean_text)\n",
        "df.head()"
      ],
      "id": "6c52e8c5"
    },
    {
      "cell_type": "code",
      "execution_count": null,
      "metadata": {
        "id": "40f98315",
        "outputId": "c8af3b07-6fb6-449d-a6e5-e5e8108eae30"
      },
      "outputs": [
        {
          "name": "stderr",
          "output_type": "stream",
          "text": [
            "Exception ignored in: <function SeekableUnicodeStreamReader.__del__ at 0x7fcda5211820>\n",
            "Traceback (most recent call last):\n",
            "  File \"/opt/anaconda3/lib/python3.9/site-packages/nltk/data.py\", line 1160, in __del__\n",
            "    if not self.closed:\n",
            "  File \"/opt/anaconda3/lib/python3.9/site-packages/nltk/data.py\", line 1180, in closed\n",
            "    return self.stream.closed\n",
            "AttributeError: 'SeekableUnicodeStreamReader' object has no attribute 'stream'\n"
          ]
        },
        {
          "data": {
            "text/html": [
              "<div>\n",
              "<style scoped>\n",
              "    .dataframe tbody tr th:only-of-type {\n",
              "        vertical-align: middle;\n",
              "    }\n",
              "\n",
              "    .dataframe tbody tr th {\n",
              "        vertical-align: top;\n",
              "    }\n",
              "\n",
              "    .dataframe thead th {\n",
              "        text-align: right;\n",
              "    }\n",
              "</style>\n",
              "<table border=\"1\" class=\"dataframe\">\n",
              "  <thead>\n",
              "    <tr style=\"text-align: right;\">\n",
              "      <th></th>\n",
              "      <th>Id</th>\n",
              "      <th>ProductId</th>\n",
              "      <th>UserId</th>\n",
              "      <th>ProfileName</th>\n",
              "      <th>HelpfulnessNumerator</th>\n",
              "      <th>HelpfulnessDenominator</th>\n",
              "      <th>Score</th>\n",
              "      <th>Time</th>\n",
              "      <th>Summary</th>\n",
              "      <th>Text</th>\n",
              "      <th>Text_clean</th>\n",
              "      <th>Text_lemmatized</th>\n",
              "    </tr>\n",
              "  </thead>\n",
              "  <tbody>\n",
              "    <tr>\n",
              "      <th>0</th>\n",
              "      <td>1</td>\n",
              "      <td>B001E4KFG0</td>\n",
              "      <td>A3SGXH7AUHU8GW</td>\n",
              "      <td>delmartian</td>\n",
              "      <td>1</td>\n",
              "      <td>1</td>\n",
              "      <td>5</td>\n",
              "      <td>1303862400</td>\n",
              "      <td>Good Quality Dog Food</td>\n",
              "      <td>I have bought several of the Vitality canned d...</td>\n",
              "      <td>bought several Vitality canned dog food produc...</td>\n",
              "      <td>I have bought several of the Vitality canned d...</td>\n",
              "    </tr>\n",
              "    <tr>\n",
              "      <th>1</th>\n",
              "      <td>2</td>\n",
              "      <td>B00813GRG4</td>\n",
              "      <td>A1D87F6ZCVE5NK</td>\n",
              "      <td>dll pa</td>\n",
              "      <td>0</td>\n",
              "      <td>0</td>\n",
              "      <td>1</td>\n",
              "      <td>1346976000</td>\n",
              "      <td>Not as Advertised</td>\n",
              "      <td>Product arrived labeled as Jumbo Salted Peanut...</td>\n",
              "      <td>Product arrived labeled Jumbo Salted Peanutsth...</td>\n",
              "      <td>Product arrived labeled a Jumbo Salted Peanuts...</td>\n",
              "    </tr>\n",
              "    <tr>\n",
              "      <th>2</th>\n",
              "      <td>3</td>\n",
              "      <td>B000LQOCH0</td>\n",
              "      <td>ABXLMWJIXXAIN</td>\n",
              "      <td>Natalia Corres \"Natalia Corres\"</td>\n",
              "      <td>1</td>\n",
              "      <td>1</td>\n",
              "      <td>4</td>\n",
              "      <td>1219017600</td>\n",
              "      <td>\"Delight\" says it all</td>\n",
              "      <td>This is a confection that has been around a fe...</td>\n",
              "      <td>confection around centuries light pillowy citr...</td>\n",
              "      <td>This is a confection that ha been around a few...</td>\n",
              "    </tr>\n",
              "    <tr>\n",
              "      <th>3</th>\n",
              "      <td>4</td>\n",
              "      <td>B000UA0QIQ</td>\n",
              "      <td>A395BORC6FGVXV</td>\n",
              "      <td>Karl</td>\n",
              "      <td>3</td>\n",
              "      <td>3</td>\n",
              "      <td>2</td>\n",
              "      <td>1307923200</td>\n",
              "      <td>Cough Medicine</td>\n",
              "      <td>If you are looking for the secret ingredient i...</td>\n",
              "      <td>looking secret ingredient Robitussin believe f...</td>\n",
              "      <td>If you are looking for the secret ingredient i...</td>\n",
              "    </tr>\n",
              "    <tr>\n",
              "      <th>4</th>\n",
              "      <td>5</td>\n",
              "      <td>B006K2ZZ7K</td>\n",
              "      <td>A1UQRSCLF8GW1T</td>\n",
              "      <td>Michael D. Bigham \"M. Wassir\"</td>\n",
              "      <td>0</td>\n",
              "      <td>0</td>\n",
              "      <td>5</td>\n",
              "      <td>1350777600</td>\n",
              "      <td>Great taffy</td>\n",
              "      <td>Great taffy at a great price.  There was a wid...</td>\n",
              "      <td>Great taffy great price wide assortment yummy ...</td>\n",
              "      <td>Great taffy at a great price. There wa a wide ...</td>\n",
              "    </tr>\n",
              "  </tbody>\n",
              "</table>\n",
              "</div>"
            ],
            "text/plain": [
              "   Id   ProductId          UserId                      ProfileName  \\\n",
              "0   1  B001E4KFG0  A3SGXH7AUHU8GW                       delmartian   \n",
              "1   2  B00813GRG4  A1D87F6ZCVE5NK                           dll pa   \n",
              "2   3  B000LQOCH0   ABXLMWJIXXAIN  Natalia Corres \"Natalia Corres\"   \n",
              "3   4  B000UA0QIQ  A395BORC6FGVXV                             Karl   \n",
              "4   5  B006K2ZZ7K  A1UQRSCLF8GW1T    Michael D. Bigham \"M. Wassir\"   \n",
              "\n",
              "   HelpfulnessNumerator  HelpfulnessDenominator  Score        Time  \\\n",
              "0                     1                       1      5  1303862400   \n",
              "1                     0                       0      1  1346976000   \n",
              "2                     1                       1      4  1219017600   \n",
              "3                     3                       3      2  1307923200   \n",
              "4                     0                       0      5  1350777600   \n",
              "\n",
              "                 Summary                                               Text  \\\n",
              "0  Good Quality Dog Food  I have bought several of the Vitality canned d...   \n",
              "1      Not as Advertised  Product arrived labeled as Jumbo Salted Peanut...   \n",
              "2  \"Delight\" says it all  This is a confection that has been around a fe...   \n",
              "3         Cough Medicine  If you are looking for the secret ingredient i...   \n",
              "4            Great taffy  Great taffy at a great price.  There was a wid...   \n",
              "\n",
              "                                          Text_clean  \\\n",
              "0  bought several Vitality canned dog food produc...   \n",
              "1  Product arrived labeled Jumbo Salted Peanutsth...   \n",
              "2  confection around centuries light pillowy citr...   \n",
              "3  looking secret ingredient Robitussin believe f...   \n",
              "4  Great taffy great price wide assortment yummy ...   \n",
              "\n",
              "                                     Text_lemmatized  \n",
              "0  I have bought several of the Vitality canned d...  \n",
              "1  Product arrived labeled a Jumbo Salted Peanuts...  \n",
              "2  This is a confection that ha been around a few...  \n",
              "3  If you are looking for the secret ingredient i...  \n",
              "4  Great taffy at a great price. There wa a wide ...  "
            ]
          },
          "execution_count": 22,
          "metadata": {},
          "output_type": "execute_result"
        }
      ],
      "source": [
        "df[\"Text_lemmatized\"] = df[\"Text\"].apply(lambda text: lemmatize_words(text))\n",
        "df.head()"
      ],
      "id": "40f98315"
    },
    {
      "cell_type": "code",
      "execution_count": null,
      "metadata": {
        "id": "875ad0a9"
      },
      "outputs": [],
      "source": [
        "#df.to_csv('Preprocessed Fake Reviews Detection Dataset.csv')\n",
        "#df = pd.read_csv('Preprocessed Fake Reviews Detection Dataset.csv')"
      ],
      "id": "875ad0a9"
    },
    {
      "cell_type": "code",
      "execution_count": null,
      "metadata": {
        "id": "07b63748"
      },
      "outputs": [],
      "source": [
        "df['length_text_lemma'] = df['Text_lemmatized'].apply(len)"
      ],
      "id": "07b63748"
    },
    {
      "cell_type": "code",
      "execution_count": null,
      "metadata": {
        "id": "b6a58c40",
        "outputId": "dd6ed1d9-77b8-4e73-8560-e821bb178f43"
      },
      "outputs": [
        {
          "name": "stdout",
          "output_type": "stream",
          "text": [
            "<class 'pandas.core.frame.DataFrame'>\n",
            "Int64Index: 568411 entries, 0 to 568453\n",
            "Data columns (total 13 columns):\n",
            " #   Column                  Non-Null Count   Dtype \n",
            "---  ------                  --------------   ----- \n",
            " 0   Id                      568411 non-null  int64 \n",
            " 1   ProductId               568411 non-null  object\n",
            " 2   UserId                  568411 non-null  object\n",
            " 3   ProfileName             568411 non-null  object\n",
            " 4   HelpfulnessNumerator    568411 non-null  int64 \n",
            " 5   HelpfulnessDenominator  568411 non-null  int64 \n",
            " 6   Score                   568411 non-null  int64 \n",
            " 7   Time                    568411 non-null  int64 \n",
            " 8   Summary                 568411 non-null  object\n",
            " 9   Text                    568411 non-null  object\n",
            " 10  Text_clean              568411 non-null  object\n",
            " 11  Text_lemmatized         568411 non-null  object\n",
            " 12  length_text_lemma       568411 non-null  int64 \n",
            "dtypes: int64(6), object(7)\n",
            "memory usage: 60.7+ MB\n"
          ]
        }
      ],
      "source": [
        "df.dropna(inplace=True)\n",
        "df.info()"
      ],
      "id": "b6a58c40"
    },
    {
      "cell_type": "code",
      "execution_count": null,
      "metadata": {
        "id": "ea99e063",
        "outputId": "ed75a289-be4d-4c0e-8aab-f351c5dcca86"
      },
      "outputs": [
        {
          "data": {
            "image/png": "[encoded data removed]",
            "text/plain": [
              "<Figure size 432x288 with 1 Axes>"
            ]
          },
          "metadata": {},
          "output_type": "display_data"
        }
      ],
      "source": [
        "plt.hist(df['length_text_lemma'], bins=50)\n",
        "plt.show()"
      ],
      "id": "ea99e063"
    },
    {
      "cell_type": "code",
      "execution_count": null,
      "metadata": {
        "id": "d788baa0",
        "outputId": "fde9c0ae-6bab-4276-fdd2-83979a007486"
      },
      "outputs": [
        {
          "data": {
            "text/html": [
              "<div>\n",
              "<style scoped>\n",
              "    .dataframe tbody tr th:only-of-type {\n",
              "        vertical-align: middle;\n",
              "    }\n",
              "\n",
              "    .dataframe tbody tr th {\n",
              "        vertical-align: top;\n",
              "    }\n",
              "\n",
              "    .dataframe thead tr th {\n",
              "        text-align: left;\n",
              "    }\n",
              "\n",
              "    .dataframe thead tr:last-of-type th {\n",
              "        text-align: right;\n",
              "    }\n",
              "</style>\n",
              "<table border=\"1\" class=\"dataframe\">\n",
              "  <thead>\n",
              "    <tr>\n",
              "      <th></th>\n",
              "      <th colspan=\"8\" halign=\"left\">Id</th>\n",
              "      <th colspan=\"2\" halign=\"left\">HelpfulnessNumerator</th>\n",
              "      <th>...</th>\n",
              "      <th colspan=\"2\" halign=\"left\">Time</th>\n",
              "      <th colspan=\"8\" halign=\"left\">length_text_lemma</th>\n",
              "    </tr>\n",
              "    <tr>\n",
              "      <th></th>\n",
              "      <th>count</th>\n",
              "      <th>mean</th>\n",
              "      <th>std</th>\n",
              "      <th>min</th>\n",
              "      <th>25%</th>\n",
              "      <th>50%</th>\n",
              "      <th>75%</th>\n",
              "      <th>max</th>\n",
              "      <th>count</th>\n",
              "      <th>mean</th>\n",
              "      <th>...</th>\n",
              "      <th>75%</th>\n",
              "      <th>max</th>\n",
              "      <th>count</th>\n",
              "      <th>mean</th>\n",
              "      <th>std</th>\n",
              "      <th>min</th>\n",
              "      <th>25%</th>\n",
              "      <th>50%</th>\n",
              "      <th>75%</th>\n",
              "      <th>max</th>\n",
              "    </tr>\n",
              "    <tr>\n",
              "      <th>Score</th>\n",
              "      <th></th>\n",
              "      <th></th>\n",
              "      <th></th>\n",
              "      <th></th>\n",
              "      <th></th>\n",
              "      <th></th>\n",
              "      <th></th>\n",
              "      <th></th>\n",
              "      <th></th>\n",
              "      <th></th>\n",
              "      <th></th>\n",
              "      <th></th>\n",
              "      <th></th>\n",
              "      <th></th>\n",
              "      <th></th>\n",
              "      <th></th>\n",
              "      <th></th>\n",
              "      <th></th>\n",
              "      <th></th>\n",
              "      <th></th>\n",
              "      <th></th>\n",
              "    </tr>\n",
              "  </thead>\n",
              "  <tbody>\n",
              "    <tr>\n",
              "      <th>1</th>\n",
              "      <td>52264.0</td>\n",
              "      <td>282277.896047</td>\n",
              "      <td>162999.775724</td>\n",
              "      <td>2.0</td>\n",
              "      <td>141642.0</td>\n",
              "      <td>282779.0</td>\n",
              "      <td>421112.5</td>\n",
              "      <td>568434.0</td>\n",
              "      <td>52264.0</td>\n",
              "      <td>2.735133</td>\n",
              "      <td>...</td>\n",
              "      <td>1.334362e+09</td>\n",
              "      <td>1.351210e+09</td>\n",
              "      <td>52264.0</td>\n",
              "      <td>471.632366</td>\n",
              "      <td>514.037832</td>\n",
              "      <td>12.0</td>\n",
              "      <td>199.0</td>\n",
              "      <td>333.0</td>\n",
              "      <td>556.0</td>\n",
              "      <td>11661.0</td>\n",
              "    </tr>\n",
              "    <tr>\n",
              "      <th>2</th>\n",
              "      <td>29743.0</td>\n",
              "      <td>280775.355277</td>\n",
              "      <td>164674.039652</td>\n",
              "      <td>4.0</td>\n",
              "      <td>137488.0</td>\n",
              "      <td>278370.0</td>\n",
              "      <td>422768.0</td>\n",
              "      <td>568451.0</td>\n",
              "      <td>29743.0</td>\n",
              "      <td>1.859799</td>\n",
              "      <td>...</td>\n",
              "      <td>1.333757e+09</td>\n",
              "      <td>1.351210e+09</td>\n",
              "      <td>29743.0</td>\n",
              "      <td>484.312679</td>\n",
              "      <td>452.527762</td>\n",
              "      <td>32.0</td>\n",
              "      <td>209.0</td>\n",
              "      <td>353.0</td>\n",
              "      <td>597.0</td>\n",
              "      <td>9195.0</td>\n",
              "    </tr>\n",
              "    <tr>\n",
              "      <th>3</th>\n",
              "      <td>42638.0</td>\n",
              "      <td>279643.956893</td>\n",
              "      <td>165442.055898</td>\n",
              "      <td>46.0</td>\n",
              "      <td>136107.5</td>\n",
              "      <td>274962.0</td>\n",
              "      <td>425009.5</td>\n",
              "      <td>568423.0</td>\n",
              "      <td>42638.0</td>\n",
              "      <td>1.701018</td>\n",
              "      <td>...</td>\n",
              "      <td>1.333498e+09</td>\n",
              "      <td>1.351210e+09</td>\n",
              "      <td>42638.0</td>\n",
              "      <td>513.334279</td>\n",
              "      <td>501.288227</td>\n",
              "      <td>32.0</td>\n",
              "      <td>211.0</td>\n",
              "      <td>368.0</td>\n",
              "      <td>646.0</td>\n",
              "      <td>21070.0</td>\n",
              "    </tr>\n",
              "    <tr>\n",
              "      <th>4</th>\n",
              "      <td>80655.0</td>\n",
              "      <td>281713.258608</td>\n",
              "      <td>164763.768874</td>\n",
              "      <td>3.0</td>\n",
              "      <td>138555.0</td>\n",
              "      <td>279489.0</td>\n",
              "      <td>425010.0</td>\n",
              "      <td>568440.0</td>\n",
              "      <td>80655.0</td>\n",
              "      <td>1.390292</td>\n",
              "      <td>...</td>\n",
              "      <td>1.333238e+09</td>\n",
              "      <td>1.351210e+09</td>\n",
              "      <td>80655.0</td>\n",
              "      <td>489.878234</td>\n",
              "      <td>478.109750</td>\n",
              "      <td>33.0</td>\n",
              "      <td>193.0</td>\n",
              "      <td>342.0</td>\n",
              "      <td>614.0</td>\n",
              "      <td>12290.0</td>\n",
              "    </tr>\n",
              "    <tr>\n",
              "      <th>5</th>\n",
              "      <td>363111.0</td>\n",
              "      <td>285887.479828</td>\n",
              "      <td>163879.149969</td>\n",
              "      <td>1.0</td>\n",
              "      <td>144355.5</td>\n",
              "      <td>287334.0</td>\n",
              "      <td>427569.5</td>\n",
              "      <td>568454.0</td>\n",
              "      <td>363111.0</td>\n",
              "      <td>1.675273</td>\n",
              "      <td>...</td>\n",
              "      <td>1.332029e+09</td>\n",
              "      <td>1.351210e+09</td>\n",
              "      <td>363111.0</td>\n",
              "      <td>396.830834</td>\n",
              "      <td>405.435846</td>\n",
              "      <td>18.0</td>\n",
              "      <td>167.0</td>\n",
              "      <td>273.0</td>\n",
              "      <td>474.0</td>\n",
              "      <td>16670.0</td>\n",
              "    </tr>\n",
              "  </tbody>\n",
              "</table>\n",
              "<p>5 rows × 40 columns</p>\n",
              "</div>"
            ],
            "text/plain": [
              "             Id                                                          \\\n",
              "          count           mean            std   min       25%       50%   \n",
              "Score                                                                     \n",
              "1       52264.0  282277.896047  162999.775724   2.0  141642.0  282779.0   \n",
              "2       29743.0  280775.355277  164674.039652   4.0  137488.0  278370.0   \n",
              "3       42638.0  279643.956893  165442.055898  46.0  136107.5  274962.0   \n",
              "4       80655.0  281713.258608  164763.768874   3.0  138555.0  279489.0   \n",
              "5      363111.0  285887.479828  163879.149969   1.0  144355.5  287334.0   \n",
              "\n",
              "                          HelpfulnessNumerator            ...          Time  \\\n",
              "            75%       max                count      mean  ...           75%   \n",
              "Score                                                     ...                 \n",
              "1      421112.5  568434.0              52264.0  2.735133  ...  1.334362e+09   \n",
              "2      422768.0  568451.0              29743.0  1.859799  ...  1.333757e+09   \n",
              "3      425009.5  568423.0              42638.0  1.701018  ...  1.333498e+09   \n",
              "4      425010.0  568440.0              80655.0  1.390292  ...  1.333238e+09   \n",
              "5      427569.5  568454.0             363111.0  1.675273  ...  1.332029e+09   \n",
              "\n",
              "                    length_text_lemma                                       \\\n",
              "                max             count        mean         std   min    25%   \n",
              "Score                                                                        \n",
              "1      1.351210e+09           52264.0  471.632366  514.037832  12.0  199.0   \n",
              "2      1.351210e+09           29743.0  484.312679  452.527762  32.0  209.0   \n",
              "3      1.351210e+09           42638.0  513.334279  501.288227  32.0  211.0   \n",
              "4      1.351210e+09           80655.0  489.878234  478.109750  33.0  193.0   \n",
              "5      1.351210e+09          363111.0  396.830834  405.435846  18.0  167.0   \n",
              "\n",
              "                              \n",
              "         50%    75%      max  \n",
              "Score                         \n",
              "1      333.0  556.0  11661.0  \n",
              "2      353.0  597.0   9195.0  \n",
              "3      368.0  646.0  21070.0  \n",
              "4      342.0  614.0  12290.0  \n",
              "5      273.0  474.0  16670.0  \n",
              "\n",
              "[5 rows x 40 columns]"
            ]
          },
          "execution_count": 32,
          "metadata": {},
          "output_type": "execute_result"
        }
      ],
      "source": [
        "df.groupby('Score').describe()"
      ],
      "id": "d788baa0"
    },
    {
      "cell_type": "code",
      "execution_count": null,
      "metadata": {
        "id": "5b496e6a",
        "outputId": "b7581028-29e9-4b52-c767-72a91b612bd2"
      },
      "outputs": [
        {
          "name": "stdout",
          "output_type": "stream",
          "text": [
            "Total Vocabulary: 118807\n"
          ]
        }
      ],
      "source": [
        "CountVectorizer = CountVectorizer(analyzer = 'word')\n",
        "CountVectorizer.fit(df['Text_lemmatized'])\n",
        "print(\"Total Vocabulary:\", len(CountVectorizer.vocabulary_))"
      ],
      "id": "5b496e6a"
    },
    {
      "cell_type": "code",
      "execution_count": null,
      "metadata": {
        "id": "42a75685",
        "outputId": "bdd2aa44-a308-4ff4-b423-a3da97c95390"
      },
      "outputs": [
        {
          "name": "stdout",
          "output_type": "stream",
          "text": [
            "Shape of Bag of Words Transformer for the entire reviews corpus: (568411, 118807)\n",
            "Amount of non zero values in the bag of words model: 30342850\n",
            "Sparsity: 0.04\n"
          ]
        }
      ],
      "source": [
        "CountVectorizer_text = CountVectorizer.transform(df['Text_lemmatized'])\n",
        "\n",
        "print(\"Shape of Bag of Words Transformer for the entire reviews corpus:\", CountVectorizer_text.shape)\n",
        "print(\"Amount of non zero values in the bag of words model:\", CountVectorizer_text.nnz)\n",
        "print(\"Sparsity:\",np.round((CountVectorizer_text.nnz/(CountVectorizer_text.shape[0]*CountVectorizer_text.shape[1]))*100,2))"
      ],
      "id": "42a75685"
    },
    {
      "cell_type": "code",
      "execution_count": null,
      "metadata": {
        "id": "a368f356",
        "outputId": "3c8ee339-f1af-46a0-a052-81184ebf4739"
      },
      "outputs": [
        {
          "name": "stdout",
          "output_type": "stream",
          "text": [
            "Shape: (568411, 118807)\n",
            "No. of Dimensions: 2\n"
          ]
        }
      ],
      "source": [
        "tfidf_transformer = TfidfTransformer().fit(CountVectorizer_text)\n",
        "tfidf_text = tfidf_transformer.transform(CountVectorizer_text)\n",
        "print(\"Shape:\", tfidf_text.shape)\n",
        "print(\"No. of Dimensions:\", tfidf_text.ndim)"
      ],
      "id": "a368f356"
    },
    {
      "cell_type": "code",
      "execution_count": null,
      "metadata": {
        "id": "34bb47e8"
      },
      "outputs": [],
      "source": [
        "text_train, text_test, score_train, score_test = train_test_split(df['Text_lemmatized'], df['Score'], test_size = 0.2)"
      ],
      "id": "34bb47e8"
    },
    {
      "cell_type": "code",
      "execution_count": null,
      "metadata": {
        "id": "5297c795"
      },
      "outputs": [],
      "source": [
        "# MultinomialNB\n",
        "\n",
        "pipeline = Pipeline([\n",
        "    ('bow', CountVectorizer(analyzer = 'word')),\n",
        "    ('tfidf',TfidfTransformer()),\n",
        "    ('classifier', MultinomialNB())\n",
        "])\n",
        "pipeline.fit(text_train, score_train)\n",
        "MultiNB_pred = pipeline.predict(text_test)\n",
        "\n",
        "print('Classification Report:', classification_report(score_test, MultiNB_pred))\n",
        "print('Confusion Matrix:', confusion_matrix(score_test, MultiNB_pred))\n",
        "print('Accuracy:', str(np.round(accuracy_score(score_test, MultiNB_pred)*100, 2)) + '%')"
      ],
      "id": "5297c795"
    },
    {
      "cell_type": "code",
      "execution_count": null,
      "metadata": {
        "id": "81d3fb5c"
      },
      "outputs": [],
      "source": [
        "# RandomForest\n",
        "\n",
        "pipeline = Pipeline([\n",
        "    ('bow', CountVectorizer(analyzer = 'word')),\n",
        "    ('tfidf',TfidfTransformer()),\n",
        "    ('classifier', RandomForestClassifier())\n",
        "])\n",
        "pipeline.fit(text_train, score_train)\n",
        "RF_pred = pipeline.predict(text_test)\n",
        "print('Classification Report:', classification_report(score_test, RF_pred))\n",
        "print('Confusion Matrix:', confusion_matrix(score_test, RF_pred))\n",
        "print('Accuracy:', str(np.round(accuracy_score(score_test, RF_pred)*100, 2)) + '%')"
      ],
      "id": "81d3fb5c"
    },
    {
      "cell_type": "code",
      "execution_count": null,
      "metadata": {
        "id": "af5c9e74"
      },
      "outputs": [],
      "source": [
        "# DecisionTree\n",
        "\n",
        "pipeline = Pipeline([\n",
        "    ('bow', CountVectorizer(analyzer = 'word')),\n",
        "    ('tfidf',TfidfTransformer()),\n",
        "    ('classifier', DecisionTreeClassifier())\n",
        "])\n",
        "pipeline.fit(text_train, score_train)\n",
        "DT_pred = pipeline.predict(text_test)\n",
        "print('Classification Report:', classification_report(score_test, DT_pred))\n",
        "print('Confusion Matrix:', confusion_matrix(score_test, DT_pred))\n",
        "print('Accuracy:', str(np.round(accuracy_score(score_test, DT_pred)*100, 2)) + '%')"
      ],
      "id": "af5c9e74"
    },
    {
      "cell_type": "code",
      "execution_count": null,
      "metadata": {
        "id": "ab7f2c0b"
      },
      "outputs": [],
      "source": [
        "# SVC\n",
        "\n",
        "pipeline = Pipeline([\n",
        "    ('bow', CountVectorizer(analyzer = 'word')),\n",
        "    ('tfidf',TfidfTransformer()),\n",
        "    ('classifier', RandomForestClassifier())\n",
        "])\n",
        "pipeline.fit(text_train, score_train)\n",
        "SVC_pred = pipeline.predict(text_test)\n",
        "print('Classification Report:', classification_report(score_test, SVC_pred))\n",
        "print('Confusion Matrix:', confusion_matrix(score_test, SVC_pred))\n",
        "print('Accuracy:', str(np.round(accuracy_score(score_test, SVC_pred)*100, 2)) + '%')"
      ],
      "id": "ab7f2c0b"
    },
    {
      "cell_type": "code",
      "execution_count": null,
      "metadata": {
        "id": "9342b42a"
      },
      "outputs": [],
      "source": [
        "# LogisticRegression\n",
        "\n",
        "pipeline = Pipeline([\n",
        "    ('bow', CountVectorizer(analyzer = 'word')),\n",
        "    ('tfidf',TfidfTransformer()),\n",
        "    ('classifier', LogisticRegression())\n",
        "])\n",
        "pipeline.fit(text_train, score_train)\n",
        "LR_pred = pipeline.predict(text_test)\n",
        "print('Classification Report:', classification_report(score_test, LR_pred))\n",
        "print('Confusion Matrix:', confusion_matrix(score_test, LR_pred))\n",
        "print('Accuracy:', str(np.round(accuracy_score(score_test, LR_pred)*100, 2)) + '%')"
      ],
      "id": "9342b42a"
    },
    {
      "cell_type": "code",
      "execution_count": null,
      "metadata": {
        "id": "04edcbd0"
      },
      "outputs": [],
      "source": [
        "print('Performance of various ML models:')\n",
        "print('\\n')\n",
        "print('Logistic Regression Prediction Accuracy:', str(np.round(accuracy_score(score_test, LR_pred)*100, 2)) + '%')\n",
        "print('Decision Tree Classifier Prediction Accuracy:', str(np.round(accuracy_score(score_test, DT_pred)*100, 2)) + '%')\n",
        "print('Random Forests Classifier Prediction Accuracy:', str(np.round(accuracy_score(score_test, RF_pred)*100, 2)) + '%')\n",
        "print('Support Vector Machines Prediction Accuracy:', str(np.round(accuracy_score(score_test, SVC_pred)*100, 2)) + '%')\n",
        "print('Multinomial Naive Bayes Prediction Accuracy:', str(np.round(accuracy_score(score_test, MultiNB_pred)*100, 2)) + '%')\n"
      ],
      "id": "04edcbd0"
    }
  ],
  "metadata": {
    "accelerator": "GPU",
    "colab": {
      "machine_shape": "hm",
      "provenance": [],
      "collapsed_sections": [
        "Y8xjnI96tQel"
      ],
      "gpuType": "T4",
      "include_colab_link": true
    },
    "kernelspec": {
      "display_name": "Python 3",
      "name": "python3"
    },
    "language_info": {
      "codemirror_mode": {
        "name": "ipython",
        "version": 3
      },
      "file_extension": ".py",
      "mimetype": "text/x-python",
      "name": "python",
      "nbconvert_exporter": "python",
      "pygments_lexer": "ipython3",
      "version": "3.9.12"
    }
  },
  "nbformat": 4,
  "nbformat_minor": 5
}